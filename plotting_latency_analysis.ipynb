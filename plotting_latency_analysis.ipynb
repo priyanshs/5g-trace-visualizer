{
 "cells": [
  {
   "cell_type": "code",
   "execution_count": 1,
   "metadata": {},
   "outputs": [],
   "source": [
    "# Generic imports\n",
    "import pandas as pd\n",
    "import plotly\n",
    "import time\n",
    "import logging\n",
    "\n",
    "# 5G visualization logic\n",
    "import trace_visualizer\n",
    "import trace_plotting"
   ]
  },
  {
   "cell_type": "code",
   "execution_count": 2,
   "metadata": {},
   "outputs": [],
   "source": [
    "# Takes as input a N3 and N6 capture with UDP pseudo-random paylods (e.g. as used by Spirent) and plots one-way delays based on the the results of each packet\n",
    "n3_capture = 'doc/n3_example.pcap'\n",
    "n6_capture = 'doc/n6_example.pcap' # I don't have an example but you should put here a capture from the N6 interface\n",
    "output_file = 'doc/UP_example_analysis'\n",
    "\n",
    "# Needed to separate UE and DN flows\n",
    "application_ip = '172.16.11.2'"
   ]
  },
  {
   "cell_type": "code",
   "execution_count": 6,
   "metadata": {},
   "outputs": [
    {
     "name": "stdout",
     "output_type": "stream",
     "text": [
      "['4.2.3']\n",
      "['doc/n3_example.pcap']\n",
      "asdkjhasdkj checkin /Applications/Wireshark.app/Contents/MacOS/tshark\n",
      "['4.2.3']\n",
      "['doc/n6_example.pcap']\n",
      "asdkjhasdkj checkin /Applications/Wireshark.app/Contents/MacOS/tshark\n"
     ]
    }
   ],
   "source": [
    "http2_ports = \"32445,5002,5000,32665,80,32077,5006,8080,3000,8081\"\n",
    "wireshark_version = '4.2.3'\n",
    "\n",
    "trace_visualizer.application_logger.setLevel(logging.INFO) # Change this if you want more info\n",
    "n3_pdml_file = trace_visualizer.call_wireshark(wireshark_version,\"OSX\", n3_capture, http2_ports, mode='GTP', check_if_exists=True)[0]\n",
    "n6_pdml_file = trace_visualizer.call_wireshark(wireshark_version, \"OSX\",n6_capture, http2_ports, mode='UDP', check_if_exists=True)[0]"
   ]
  },
  {
   "cell_type": "code",
   "execution_count": 7,
   "metadata": {},
   "outputs": [
    {
     "name": "stdout",
     "output_type": "stream",
     "text": [
      "N3: 92 packets parsed. Total time taken: 0.05s\n",
      "N6: 91 parsed. Total time taken: 0.02\n"
     ]
    }
   ],
   "source": [
    "start_time = time.perf_counter()\n",
    "n3_packets = trace_plotting.read_xml_file_line_basis(n3_pdml_file)\n",
    "end_time = time.perf_counter()\n",
    "total_time = round(end_time - start_time, 2)\n",
    "print(f'N3: {len(n3_packets)} packets parsed. Total time taken: {total_time}s')\n",
    "\n",
    "start_time = time.perf_counter()\n",
    "n6_packets = trace_plotting.read_xml_file_line_basis(n6_pdml_file)\n",
    "end_time = time.perf_counter()\n",
    "total_time = round(end_time - start_time, 2)\n",
    "print(f'N6: {len(n6_packets)} parsed. Total time taken: {total_time}')"
   ]
  },
  {
   "cell_type": "code",
   "execution_count": 8,
   "metadata": {},
   "outputs": [
    {
     "data": {
      "text/html": [
       "<div>\n",
       "<style scoped>\n",
       "    .dataframe tbody tr th:only-of-type {\n",
       "        vertical-align: middle;\n",
       "    }\n",
       "\n",
       "    .dataframe tbody tr th {\n",
       "        vertical-align: top;\n",
       "    }\n",
       "\n",
       "    .dataframe thead th {\n",
       "        text-align: right;\n",
       "    }\n",
       "</style>\n",
       "<table border=\"1\" class=\"dataframe\">\n",
       "  <thead>\n",
       "    <tr style=\"text-align: right;\">\n",
       "      <th></th>\n",
       "      <th>udp.payload</th>\n",
       "      <th>timestamp.n3</th>\n",
       "      <th>ip.src.n3</th>\n",
       "      <th>ip.dst.n3</th>\n",
       "      <th>udp.srcport.n3</th>\n",
       "      <th>udp.dstport.n3</th>\n",
       "      <th>protocol_count.n3</th>\n",
       "      <th>frame_nr.n3</th>\n",
       "      <th>timestamp.n6</th>\n",
       "      <th>ip.src.n6</th>\n",
       "      <th>ip.dst.n6</th>\n",
       "      <th>udp.srcport.n6</th>\n",
       "      <th>udp.dstport.n6</th>\n",
       "      <th>protocol_count.n6</th>\n",
       "      <th>frame_nr.n6</th>\n",
       "      <th>flow</th>\n",
       "      <th>delay_us</th>\n",
       "    </tr>\n",
       "  </thead>\n",
       "  <tbody>\n",
       "    <tr>\n",
       "      <th>0</th>\n",
       "      <td>000000016050c3da00092fcb0000000000000000000000...</td>\n",
       "      <td>1.615906e+09</td>\n",
       "      <td>10.0.255.2</td>\n",
       "      <td>172.16.11.2</td>\n",
       "      <td>2002</td>\n",
       "      <td>2003</td>\n",
       "      <td>5</td>\n",
       "      <td>1</td>\n",
       "      <td>1.615906e+09</td>\n",
       "      <td>10.200.9.70</td>\n",
       "      <td>172.16.11.2</td>\n",
       "      <td>1029</td>\n",
       "      <td>2003</td>\n",
       "      <td>2</td>\n",
       "      <td>1</td>\n",
       "      <td>UE-&gt;DN</td>\n",
       "      <td>3937.005997</td>\n",
       "    </tr>\n",
       "    <tr>\n",
       "      <th>1</th>\n",
       "      <td>000000026050c3da0009338a0000000000000000000000...</td>\n",
       "      <td>1.615906e+09</td>\n",
       "      <td>10.0.255.2</td>\n",
       "      <td>172.16.11.2</td>\n",
       "      <td>2002</td>\n",
       "      <td>2003</td>\n",
       "      <td>5</td>\n",
       "      <td>2</td>\n",
       "      <td>1.615906e+09</td>\n",
       "      <td>10.200.9.70</td>\n",
       "      <td>172.16.11.2</td>\n",
       "      <td>1029</td>\n",
       "      <td>2003</td>\n",
       "      <td>2</td>\n",
       "      <td>3</td>\n",
       "      <td>UE-&gt;DN</td>\n",
       "      <td>3781.080246</td>\n",
       "    </tr>\n",
       "    <tr>\n",
       "      <th>2</th>\n",
       "      <td>000000036050c3da0009376c0000000000000000000000...</td>\n",
       "      <td>1.615906e+09</td>\n",
       "      <td>10.0.255.2</td>\n",
       "      <td>172.16.11.2</td>\n",
       "      <td>2002</td>\n",
       "      <td>2003</td>\n",
       "      <td>5</td>\n",
       "      <td>3</td>\n",
       "      <td>1.615906e+09</td>\n",
       "      <td>10.200.9.70</td>\n",
       "      <td>172.16.11.2</td>\n",
       "      <td>1029</td>\n",
       "      <td>2003</td>\n",
       "      <td>2</td>\n",
       "      <td>5</td>\n",
       "      <td>UE-&gt;DN</td>\n",
       "      <td>3782.033920</td>\n",
       "    </tr>\n",
       "    <tr>\n",
       "      <th>3</th>\n",
       "      <td>000000046050c3da00093b520000000000000000000000...</td>\n",
       "      <td>1.615906e+09</td>\n",
       "      <td>10.0.255.2</td>\n",
       "      <td>172.16.11.2</td>\n",
       "      <td>2002</td>\n",
       "      <td>2003</td>\n",
       "      <td>5</td>\n",
       "      <td>4</td>\n",
       "      <td>1.615906e+09</td>\n",
       "      <td>10.200.9.70</td>\n",
       "      <td>172.16.11.2</td>\n",
       "      <td>1029</td>\n",
       "      <td>2003</td>\n",
       "      <td>2</td>\n",
       "      <td>7</td>\n",
       "      <td>UE-&gt;DN</td>\n",
       "      <td>3761.053085</td>\n",
       "    </tr>\n",
       "    <tr>\n",
       "      <th>4</th>\n",
       "      <td>000000056050c3da00093f350000000000000000000000...</td>\n",
       "      <td>1.615906e+09</td>\n",
       "      <td>10.0.255.2</td>\n",
       "      <td>172.16.11.2</td>\n",
       "      <td>2002</td>\n",
       "      <td>2003</td>\n",
       "      <td>5</td>\n",
       "      <td>5</td>\n",
       "      <td>1.615906e+09</td>\n",
       "      <td>10.200.9.70</td>\n",
       "      <td>172.16.11.2</td>\n",
       "      <td>1029</td>\n",
       "      <td>2003</td>\n",
       "      <td>2</td>\n",
       "      <td>9</td>\n",
       "      <td>UE-&gt;DN</td>\n",
       "      <td>3787.994385</td>\n",
       "    </tr>\n",
       "    <tr>\n",
       "      <th>...</th>\n",
       "      <td>...</td>\n",
       "      <td>...</td>\n",
       "      <td>...</td>\n",
       "      <td>...</td>\n",
       "      <td>...</td>\n",
       "      <td>...</td>\n",
       "      <td>...</td>\n",
       "      <td>...</td>\n",
       "      <td>...</td>\n",
       "      <td>...</td>\n",
       "      <td>...</td>\n",
       "      <td>...</td>\n",
       "      <td>...</td>\n",
       "      <td>...</td>\n",
       "      <td>...</td>\n",
       "      <td>...</td>\n",
       "      <td>...</td>\n",
       "    </tr>\n",
       "    <tr>\n",
       "      <th>74</th>\n",
       "      <td>0000002a6050c3da0009cfd300000ea000000000000000...</td>\n",
       "      <td>1.615906e+09</td>\n",
       "      <td>172.16.11.2</td>\n",
       "      <td>10.0.255.2</td>\n",
       "      <td>2003</td>\n",
       "      <td>2002</td>\n",
       "      <td>5</td>\n",
       "      <td>83</td>\n",
       "      <td>1.615906e+09</td>\n",
       "      <td>172.16.11.2</td>\n",
       "      <td>10.200.9.70</td>\n",
       "      <td>2003</td>\n",
       "      <td>1029</td>\n",
       "      <td>2</td>\n",
       "      <td>76</td>\n",
       "      <td>DN-&gt;UE</td>\n",
       "      <td>3770.112991</td>\n",
       "    </tr>\n",
       "    <tr>\n",
       "      <th>75</th>\n",
       "      <td>000000326050c3da0009eefc0000000000000000000000...</td>\n",
       "      <td>1.615906e+09</td>\n",
       "      <td>10.0.255.2</td>\n",
       "      <td>172.16.11.2</td>\n",
       "      <td>2002</td>\n",
       "      <td>2003</td>\n",
       "      <td>5</td>\n",
       "      <td>84</td>\n",
       "      <td>1.615906e+09</td>\n",
       "      <td>10.200.9.70</td>\n",
       "      <td>172.16.11.2</td>\n",
       "      <td>1029</td>\n",
       "      <td>2003</td>\n",
       "      <td>2</td>\n",
       "      <td>90</td>\n",
       "      <td>UE-&gt;DN</td>\n",
       "      <td>3767.013550</td>\n",
       "    </tr>\n",
       "    <tr>\n",
       "      <th>76</th>\n",
       "      <td>0000002b6050c3da0009d3ab00000e8800000000000000...</td>\n",
       "      <td>1.615906e+09</td>\n",
       "      <td>172.16.11.2</td>\n",
       "      <td>10.0.255.2</td>\n",
       "      <td>2003</td>\n",
       "      <td>2002</td>\n",
       "      <td>5</td>\n",
       "      <td>85</td>\n",
       "      <td>1.615906e+09</td>\n",
       "      <td>172.16.11.2</td>\n",
       "      <td>10.200.9.70</td>\n",
       "      <td>2003</td>\n",
       "      <td>1029</td>\n",
       "      <td>2</td>\n",
       "      <td>78</td>\n",
       "      <td>DN-&gt;UE</td>\n",
       "      <td>3737.211227</td>\n",
       "    </tr>\n",
       "    <tr>\n",
       "      <th>77</th>\n",
       "      <td>0000002c6050c3da0009d79d00000ea500000000000000...</td>\n",
       "      <td>1.615906e+09</td>\n",
       "      <td>172.16.11.2</td>\n",
       "      <td>10.0.255.2</td>\n",
       "      <td>2003</td>\n",
       "      <td>2002</td>\n",
       "      <td>5</td>\n",
       "      <td>87</td>\n",
       "      <td>1.615906e+09</td>\n",
       "      <td>172.16.11.2</td>\n",
       "      <td>10.200.9.70</td>\n",
       "      <td>2003</td>\n",
       "      <td>1029</td>\n",
       "      <td>2</td>\n",
       "      <td>80</td>\n",
       "      <td>DN-&gt;UE</td>\n",
       "      <td>3710.985184</td>\n",
       "    </tr>\n",
       "    <tr>\n",
       "      <th>78</th>\n",
       "      <td>0000002e6050c3da0009df6200000eb000000000000000...</td>\n",
       "      <td>1.615906e+09</td>\n",
       "      <td>172.16.11.2</td>\n",
       "      <td>10.0.255.2</td>\n",
       "      <td>2003</td>\n",
       "      <td>2002</td>\n",
       "      <td>5</td>\n",
       "      <td>91</td>\n",
       "      <td>1.615906e+09</td>\n",
       "      <td>172.16.11.2</td>\n",
       "      <td>10.200.9.70</td>\n",
       "      <td>2003</td>\n",
       "      <td>1029</td>\n",
       "      <td>2</td>\n",
       "      <td>83</td>\n",
       "      <td>DN-&gt;UE</td>\n",
       "      <td>3754.138947</td>\n",
       "    </tr>\n",
       "  </tbody>\n",
       "</table>\n",
       "<p>79 rows × 17 columns</p>\n",
       "</div>"
      ],
      "text/plain": [
       "                                          udp.payload  timestamp.n3  \\\n",
       "0   000000016050c3da00092fcb0000000000000000000000...  1.615906e+09   \n",
       "1   000000026050c3da0009338a0000000000000000000000...  1.615906e+09   \n",
       "2   000000036050c3da0009376c0000000000000000000000...  1.615906e+09   \n",
       "3   000000046050c3da00093b520000000000000000000000...  1.615906e+09   \n",
       "4   000000056050c3da00093f350000000000000000000000...  1.615906e+09   \n",
       "..                                                ...           ...   \n",
       "74  0000002a6050c3da0009cfd300000ea000000000000000...  1.615906e+09   \n",
       "75  000000326050c3da0009eefc0000000000000000000000...  1.615906e+09   \n",
       "76  0000002b6050c3da0009d3ab00000e8800000000000000...  1.615906e+09   \n",
       "77  0000002c6050c3da0009d79d00000ea500000000000000...  1.615906e+09   \n",
       "78  0000002e6050c3da0009df6200000eb000000000000000...  1.615906e+09   \n",
       "\n",
       "      ip.src.n3    ip.dst.n3 udp.srcport.n3 udp.dstport.n3  protocol_count.n3  \\\n",
       "0    10.0.255.2  172.16.11.2           2002           2003                  5   \n",
       "1    10.0.255.2  172.16.11.2           2002           2003                  5   \n",
       "2    10.0.255.2  172.16.11.2           2002           2003                  5   \n",
       "3    10.0.255.2  172.16.11.2           2002           2003                  5   \n",
       "4    10.0.255.2  172.16.11.2           2002           2003                  5   \n",
       "..          ...          ...            ...            ...                ...   \n",
       "74  172.16.11.2   10.0.255.2           2003           2002                  5   \n",
       "75   10.0.255.2  172.16.11.2           2002           2003                  5   \n",
       "76  172.16.11.2   10.0.255.2           2003           2002                  5   \n",
       "77  172.16.11.2   10.0.255.2           2003           2002                  5   \n",
       "78  172.16.11.2   10.0.255.2           2003           2002                  5   \n",
       "\n",
       "    frame_nr.n3  timestamp.n6    ip.src.n6    ip.dst.n6 udp.srcport.n6  \\\n",
       "0             1  1.615906e+09  10.200.9.70  172.16.11.2           1029   \n",
       "1             2  1.615906e+09  10.200.9.70  172.16.11.2           1029   \n",
       "2             3  1.615906e+09  10.200.9.70  172.16.11.2           1029   \n",
       "3             4  1.615906e+09  10.200.9.70  172.16.11.2           1029   \n",
       "4             5  1.615906e+09  10.200.9.70  172.16.11.2           1029   \n",
       "..          ...           ...          ...          ...            ...   \n",
       "74           83  1.615906e+09  172.16.11.2  10.200.9.70           2003   \n",
       "75           84  1.615906e+09  10.200.9.70  172.16.11.2           1029   \n",
       "76           85  1.615906e+09  172.16.11.2  10.200.9.70           2003   \n",
       "77           87  1.615906e+09  172.16.11.2  10.200.9.70           2003   \n",
       "78           91  1.615906e+09  172.16.11.2  10.200.9.70           2003   \n",
       "\n",
       "   udp.dstport.n6  protocol_count.n6  frame_nr.n6    flow     delay_us  \n",
       "0            2003                  2            1  UE->DN  3937.005997  \n",
       "1            2003                  2            3  UE->DN  3781.080246  \n",
       "2            2003                  2            5  UE->DN  3782.033920  \n",
       "3            2003                  2            7  UE->DN  3761.053085  \n",
       "4            2003                  2            9  UE->DN  3787.994385  \n",
       "..            ...                ...          ...     ...          ...  \n",
       "74           1029                  2           76  DN->UE  3770.112991  \n",
       "75           2003                  2           90  UE->DN  3767.013550  \n",
       "76           1029                  2           78  DN->UE  3737.211227  \n",
       "77           1029                  2           80  DN->UE  3710.985184  \n",
       "78           1029                  2           83  DN->UE  3754.138947  \n",
       "\n",
       "[79 rows x 17 columns]"
      ]
     },
     "metadata": {},
     "output_type": "display_data"
    }
   ],
   "source": [
    "# Classification of packets and join of the data from each interface\n",
    "packets = n3_packets.set_index('udp.payload').join(n6_packets.set_index('udp.payload'), how='inner', lsuffix='.n3', rsuffix='.n6')\n",
    "packets['flow'] = ''\n",
    "\n",
    "packets_from_application = packets['ip.src.n6']==application_ip\n",
    "packets_to_application = packets['ip.dst.n6']==application_ip\n",
    "\n",
    "packets.loc[packets_from_application,'flow'] = 'DN->UE'\n",
    "packets.loc[packets_to_application,'flow'] = 'UE->DN'\n",
    "packets.reset_index(inplace=True)\n",
    "\n",
    "# We will have positive and negative values because we have packets in both directions\n",
    "packets['delay_us'] = ((packets['timestamp.n6'] - packets['timestamp.n3'])*1000000).abs() # Timestmp is in seconds\n",
    "\n",
    "display(packets)"
   ]
  },
  {
   "cell_type": "code",
   "execution_count": 9,
   "metadata": {},
   "outputs": [
    {
     "name": "stdout",
     "output_type": "stream",
     "text": [
      "N3 packets: 92 packets\n",
      "N6 packets: 91 packets\n",
      "Joined list: 79 packets\n"
     ]
    }
   ],
   "source": [
    "print(f'N3 packets: {len(n3_packets):,} packets')\n",
    "print(f'N6 packets: {len(n6_packets):,} packets')\n",
    "print(f'Joined list: {len(packets):,} packets') "
   ]
  },
  {
   "cell_type": "code",
   "execution_count": 10,
   "metadata": {},
   "outputs": [
    {
     "data": {
      "application/vnd.plotly.v1+json": {
       "config": {
        "plotlyServerURL": "https://plot.ly"
       },
       "data": [
        {
         "line": {
          "shape": "spline"
         },
         "mode": "lines",
         "name": "",
         "opacity": 0.75,
         "showlegend": false,
         "type": "scatter",
         "x": [
          0,
          20,
          40,
          60,
          80,
          100,
          120,
          140,
          160,
          180,
          200,
          220,
          240,
          260,
          280,
          300,
          320,
          340,
          360,
          380,
          400,
          420,
          440,
          460,
          480,
          500,
          520,
          540,
          560,
          580,
          600,
          620,
          640,
          660,
          680,
          700,
          720,
          740,
          760,
          780,
          800,
          820,
          840,
          860,
          880,
          900,
          920,
          940,
          960,
          980,
          1000,
          1020,
          1040,
          1060,
          1080,
          1100,
          1120,
          1140,
          1160,
          1180,
          1200,
          1220,
          1240,
          1260,
          1280,
          1300,
          1320,
          1340,
          1360,
          1380,
          1400,
          1420,
          1440,
          1460,
          1480,
          1500,
          1520,
          1540,
          1560,
          1580,
          1600,
          1620,
          1640,
          1660,
          1680,
          1700,
          1720,
          1740,
          1760,
          1780,
          1800,
          1820,
          1840,
          1860,
          1880,
          1900,
          1920,
          1940,
          1960,
          1980,
          2000,
          2020,
          2040,
          2060,
          2080,
          2100,
          2120,
          2140,
          2160,
          2180,
          2200,
          2220,
          2240,
          2260,
          2280,
          2300,
          2320,
          2340,
          2360,
          2380,
          2400,
          2420,
          2440,
          2460,
          2480,
          2500,
          2520,
          2540,
          2560,
          2580,
          2600,
          2620,
          2640,
          2660,
          2680,
          2700,
          2720,
          2740,
          2760,
          2780,
          2800,
          2820,
          2840,
          2860,
          2880,
          2900,
          2920,
          2940,
          2960,
          2980,
          3000,
          3020,
          3040,
          3060,
          3080,
          3100,
          3120,
          3140,
          3160,
          3180,
          3200,
          3220,
          3240,
          3260,
          3280,
          3300,
          3320,
          3340,
          3360,
          3380,
          3400,
          3420,
          3440,
          3460,
          3480,
          3500,
          3520,
          3540,
          3560,
          3580,
          3600,
          3620,
          3640,
          3660,
          3680,
          3700,
          3720,
          3740,
          3760,
          3780,
          3800,
          3820,
          3840,
          3860,
          3880,
          3900,
          3920,
          3940,
          3960,
          3980,
          4000,
          4020,
          4040,
          4060,
          4080,
          4100,
          4120,
          4140,
          4160,
          4180,
          4200,
          4220,
          4240,
          4260,
          4280,
          4300,
          4320,
          4340,
          4360,
          4380,
          4400,
          4420,
          4440,
          4460,
          4480,
          4500,
          4520,
          4540,
          4560
         ],
         "y": [
          0,
          0,
          0,
          0,
          0,
          0,
          0,
          0,
          0,
          0,
          0,
          0,
          0,
          0,
          0,
          0,
          0,
          0,
          0,
          0,
          0,
          0,
          0,
          0,
          0,
          0,
          0,
          0,
          0,
          0,
          0,
          0,
          0,
          0,
          0,
          0,
          0,
          0,
          0,
          0,
          0,
          0,
          0,
          0,
          0,
          0,
          0,
          0,
          0,
          0,
          0,
          0,
          0,
          0,
          0,
          0,
          0,
          0,
          0,
          0,
          0,
          0,
          0,
          0,
          0,
          0,
          0,
          0,
          0,
          0,
          0,
          0,
          0,
          0,
          0,
          0,
          0,
          0,
          0,
          0,
          0,
          0,
          0,
          0,
          0,
          0,
          0,
          0,
          0,
          0,
          0,
          0,
          0,
          0,
          0,
          0,
          0,
          0,
          0,
          0,
          0,
          0,
          0,
          0,
          0,
          0,
          0,
          0,
          0,
          0,
          0,
          0,
          0,
          0,
          0,
          0,
          0,
          0,
          0,
          0,
          0,
          0,
          0,
          0,
          0,
          0,
          0,
          0,
          0,
          0,
          0,
          0,
          0,
          0,
          0,
          0,
          0,
          0,
          0,
          0,
          0,
          0,
          0,
          0,
          0,
          0,
          0,
          0,
          0,
          0,
          0,
          0,
          0,
          0,
          0,
          0,
          0,
          0,
          0,
          0,
          0,
          0,
          0,
          0,
          0,
          0,
          0,
          0,
          0,
          0,
          0,
          0,
          0,
          0,
          0,
          0,
          0,
          0,
          0,
          0,
          0.0006329113924050633,
          0.0018987341772151898,
          0,
          0.0006329113924050633,
          0,
          0.002531645569620253,
          0.006329113924050633,
          0.00949367088607595,
          0.010126582278481013,
          0.007594936708860759,
          0.0018987341772151898,
          0.0012658227848101266,
          0,
          0.0012658227848101266,
          0,
          0,
          0.0006329113924050633,
          0,
          0,
          0.0006329113924050633,
          0,
          0,
          0,
          0,
          0,
          0,
          0.0012658227848101266,
          0,
          0,
          0.0006329113924050633,
          0,
          0,
          0.0006329113924050633,
          0,
          0.0006329113924050633,
          0,
          0,
          0.0006329113924050633,
          0,
          0,
          0,
          0.0006329113924050633,
          0,
          0.0006329113924050633,
          0,
          0,
          0,
          0
         ]
        }
       ],
       "layout": {
        "template": {
         "data": {
          "bar": [
           {
            "error_x": {
             "color": "#2a3f5f"
            },
            "error_y": {
             "color": "#2a3f5f"
            },
            "marker": {
             "line": {
              "color": "#E5ECF6",
              "width": 0.5
             },
             "pattern": {
              "fillmode": "overlay",
              "size": 10,
              "solidity": 0.2
             }
            },
            "type": "bar"
           }
          ],
          "barpolar": [
           {
            "marker": {
             "line": {
              "color": "#E5ECF6",
              "width": 0.5
             },
             "pattern": {
              "fillmode": "overlay",
              "size": 10,
              "solidity": 0.2
             }
            },
            "type": "barpolar"
           }
          ],
          "carpet": [
           {
            "aaxis": {
             "endlinecolor": "#2a3f5f",
             "gridcolor": "white",
             "linecolor": "white",
             "minorgridcolor": "white",
             "startlinecolor": "#2a3f5f"
            },
            "baxis": {
             "endlinecolor": "#2a3f5f",
             "gridcolor": "white",
             "linecolor": "white",
             "minorgridcolor": "white",
             "startlinecolor": "#2a3f5f"
            },
            "type": "carpet"
           }
          ],
          "choropleth": [
           {
            "colorbar": {
             "outlinewidth": 0,
             "ticks": ""
            },
            "type": "choropleth"
           }
          ],
          "contour": [
           {
            "colorbar": {
             "outlinewidth": 0,
             "ticks": ""
            },
            "colorscale": [
             [
              0,
              "#0d0887"
             ],
             [
              0.1111111111111111,
              "#46039f"
             ],
             [
              0.2222222222222222,
              "#7201a8"
             ],
             [
              0.3333333333333333,
              "#9c179e"
             ],
             [
              0.4444444444444444,
              "#bd3786"
             ],
             [
              0.5555555555555556,
              "#d8576b"
             ],
             [
              0.6666666666666666,
              "#ed7953"
             ],
             [
              0.7777777777777778,
              "#fb9f3a"
             ],
             [
              0.8888888888888888,
              "#fdca26"
             ],
             [
              1,
              "#f0f921"
             ]
            ],
            "type": "contour"
           }
          ],
          "contourcarpet": [
           {
            "colorbar": {
             "outlinewidth": 0,
             "ticks": ""
            },
            "type": "contourcarpet"
           }
          ],
          "heatmap": [
           {
            "colorbar": {
             "outlinewidth": 0,
             "ticks": ""
            },
            "colorscale": [
             [
              0,
              "#0d0887"
             ],
             [
              0.1111111111111111,
              "#46039f"
             ],
             [
              0.2222222222222222,
              "#7201a8"
             ],
             [
              0.3333333333333333,
              "#9c179e"
             ],
             [
              0.4444444444444444,
              "#bd3786"
             ],
             [
              0.5555555555555556,
              "#d8576b"
             ],
             [
              0.6666666666666666,
              "#ed7953"
             ],
             [
              0.7777777777777778,
              "#fb9f3a"
             ],
             [
              0.8888888888888888,
              "#fdca26"
             ],
             [
              1,
              "#f0f921"
             ]
            ],
            "type": "heatmap"
           }
          ],
          "heatmapgl": [
           {
            "colorbar": {
             "outlinewidth": 0,
             "ticks": ""
            },
            "colorscale": [
             [
              0,
              "#0d0887"
             ],
             [
              0.1111111111111111,
              "#46039f"
             ],
             [
              0.2222222222222222,
              "#7201a8"
             ],
             [
              0.3333333333333333,
              "#9c179e"
             ],
             [
              0.4444444444444444,
              "#bd3786"
             ],
             [
              0.5555555555555556,
              "#d8576b"
             ],
             [
              0.6666666666666666,
              "#ed7953"
             ],
             [
              0.7777777777777778,
              "#fb9f3a"
             ],
             [
              0.8888888888888888,
              "#fdca26"
             ],
             [
              1,
              "#f0f921"
             ]
            ],
            "type": "heatmapgl"
           }
          ],
          "histogram": [
           {
            "marker": {
             "pattern": {
              "fillmode": "overlay",
              "size": 10,
              "solidity": 0.2
             }
            },
            "type": "histogram"
           }
          ],
          "histogram2d": [
           {
            "colorbar": {
             "outlinewidth": 0,
             "ticks": ""
            },
            "colorscale": [
             [
              0,
              "#0d0887"
             ],
             [
              0.1111111111111111,
              "#46039f"
             ],
             [
              0.2222222222222222,
              "#7201a8"
             ],
             [
              0.3333333333333333,
              "#9c179e"
             ],
             [
              0.4444444444444444,
              "#bd3786"
             ],
             [
              0.5555555555555556,
              "#d8576b"
             ],
             [
              0.6666666666666666,
              "#ed7953"
             ],
             [
              0.7777777777777778,
              "#fb9f3a"
             ],
             [
              0.8888888888888888,
              "#fdca26"
             ],
             [
              1,
              "#f0f921"
             ]
            ],
            "type": "histogram2d"
           }
          ],
          "histogram2dcontour": [
           {
            "colorbar": {
             "outlinewidth": 0,
             "ticks": ""
            },
            "colorscale": [
             [
              0,
              "#0d0887"
             ],
             [
              0.1111111111111111,
              "#46039f"
             ],
             [
              0.2222222222222222,
              "#7201a8"
             ],
             [
              0.3333333333333333,
              "#9c179e"
             ],
             [
              0.4444444444444444,
              "#bd3786"
             ],
             [
              0.5555555555555556,
              "#d8576b"
             ],
             [
              0.6666666666666666,
              "#ed7953"
             ],
             [
              0.7777777777777778,
              "#fb9f3a"
             ],
             [
              0.8888888888888888,
              "#fdca26"
             ],
             [
              1,
              "#f0f921"
             ]
            ],
            "type": "histogram2dcontour"
           }
          ],
          "mesh3d": [
           {
            "colorbar": {
             "outlinewidth": 0,
             "ticks": ""
            },
            "type": "mesh3d"
           }
          ],
          "parcoords": [
           {
            "line": {
             "colorbar": {
              "outlinewidth": 0,
              "ticks": ""
             }
            },
            "type": "parcoords"
           }
          ],
          "pie": [
           {
            "automargin": true,
            "type": "pie"
           }
          ],
          "scatter": [
           {
            "fillpattern": {
             "fillmode": "overlay",
             "size": 10,
             "solidity": 0.2
            },
            "type": "scatter"
           }
          ],
          "scatter3d": [
           {
            "line": {
             "colorbar": {
              "outlinewidth": 0,
              "ticks": ""
             }
            },
            "marker": {
             "colorbar": {
              "outlinewidth": 0,
              "ticks": ""
             }
            },
            "type": "scatter3d"
           }
          ],
          "scattercarpet": [
           {
            "marker": {
             "colorbar": {
              "outlinewidth": 0,
              "ticks": ""
             }
            },
            "type": "scattercarpet"
           }
          ],
          "scattergeo": [
           {
            "marker": {
             "colorbar": {
              "outlinewidth": 0,
              "ticks": ""
             }
            },
            "type": "scattergeo"
           }
          ],
          "scattergl": [
           {
            "marker": {
             "colorbar": {
              "outlinewidth": 0,
              "ticks": ""
             }
            },
            "type": "scattergl"
           }
          ],
          "scattermapbox": [
           {
            "marker": {
             "colorbar": {
              "outlinewidth": 0,
              "ticks": ""
             }
            },
            "type": "scattermapbox"
           }
          ],
          "scatterpolar": [
           {
            "marker": {
             "colorbar": {
              "outlinewidth": 0,
              "ticks": ""
             }
            },
            "type": "scatterpolar"
           }
          ],
          "scatterpolargl": [
           {
            "marker": {
             "colorbar": {
              "outlinewidth": 0,
              "ticks": ""
             }
            },
            "type": "scatterpolargl"
           }
          ],
          "scatterternary": [
           {
            "marker": {
             "colorbar": {
              "outlinewidth": 0,
              "ticks": ""
             }
            },
            "type": "scatterternary"
           }
          ],
          "surface": [
           {
            "colorbar": {
             "outlinewidth": 0,
             "ticks": ""
            },
            "colorscale": [
             [
              0,
              "#0d0887"
             ],
             [
              0.1111111111111111,
              "#46039f"
             ],
             [
              0.2222222222222222,
              "#7201a8"
             ],
             [
              0.3333333333333333,
              "#9c179e"
             ],
             [
              0.4444444444444444,
              "#bd3786"
             ],
             [
              0.5555555555555556,
              "#d8576b"
             ],
             [
              0.6666666666666666,
              "#ed7953"
             ],
             [
              0.7777777777777778,
              "#fb9f3a"
             ],
             [
              0.8888888888888888,
              "#fdca26"
             ],
             [
              1,
              "#f0f921"
             ]
            ],
            "type": "surface"
           }
          ],
          "table": [
           {
            "cells": {
             "fill": {
              "color": "#EBF0F8"
             },
             "line": {
              "color": "white"
             }
            },
            "header": {
             "fill": {
              "color": "#C8D4E3"
             },
             "line": {
              "color": "white"
             }
            },
            "type": "table"
           }
          ]
         },
         "layout": {
          "annotationdefaults": {
           "arrowcolor": "#2a3f5f",
           "arrowhead": 0,
           "arrowwidth": 1
          },
          "autotypenumbers": "strict",
          "coloraxis": {
           "colorbar": {
            "outlinewidth": 0,
            "ticks": ""
           }
          },
          "colorscale": {
           "diverging": [
            [
             0,
             "#8e0152"
            ],
            [
             0.1,
             "#c51b7d"
            ],
            [
             0.2,
             "#de77ae"
            ],
            [
             0.3,
             "#f1b6da"
            ],
            [
             0.4,
             "#fde0ef"
            ],
            [
             0.5,
             "#f7f7f7"
            ],
            [
             0.6,
             "#e6f5d0"
            ],
            [
             0.7,
             "#b8e186"
            ],
            [
             0.8,
             "#7fbc41"
            ],
            [
             0.9,
             "#4d9221"
            ],
            [
             1,
             "#276419"
            ]
           ],
           "sequential": [
            [
             0,
             "#0d0887"
            ],
            [
             0.1111111111111111,
             "#46039f"
            ],
            [
             0.2222222222222222,
             "#7201a8"
            ],
            [
             0.3333333333333333,
             "#9c179e"
            ],
            [
             0.4444444444444444,
             "#bd3786"
            ],
            [
             0.5555555555555556,
             "#d8576b"
            ],
            [
             0.6666666666666666,
             "#ed7953"
            ],
            [
             0.7777777777777778,
             "#fb9f3a"
            ],
            [
             0.8888888888888888,
             "#fdca26"
            ],
            [
             1,
             "#f0f921"
            ]
           ],
           "sequentialminus": [
            [
             0,
             "#0d0887"
            ],
            [
             0.1111111111111111,
             "#46039f"
            ],
            [
             0.2222222222222222,
             "#7201a8"
            ],
            [
             0.3333333333333333,
             "#9c179e"
            ],
            [
             0.4444444444444444,
             "#bd3786"
            ],
            [
             0.5555555555555556,
             "#d8576b"
            ],
            [
             0.6666666666666666,
             "#ed7953"
            ],
            [
             0.7777777777777778,
             "#fb9f3a"
            ],
            [
             0.8888888888888888,
             "#fdca26"
            ],
            [
             1,
             "#f0f921"
            ]
           ]
          },
          "colorway": [
           "#636efa",
           "#EF553B",
           "#00cc96",
           "#ab63fa",
           "#FFA15A",
           "#19d3f3",
           "#FF6692",
           "#B6E880",
           "#FF97FF",
           "#FECB52"
          ],
          "font": {
           "color": "#2a3f5f"
          },
          "geo": {
           "bgcolor": "white",
           "lakecolor": "white",
           "landcolor": "#E5ECF6",
           "showlakes": true,
           "showland": true,
           "subunitcolor": "white"
          },
          "hoverlabel": {
           "align": "left"
          },
          "hovermode": "closest",
          "mapbox": {
           "style": "light"
          },
          "paper_bgcolor": "white",
          "plot_bgcolor": "#E5ECF6",
          "polar": {
           "angularaxis": {
            "gridcolor": "white",
            "linecolor": "white",
            "ticks": ""
           },
           "bgcolor": "#E5ECF6",
           "radialaxis": {
            "gridcolor": "white",
            "linecolor": "white",
            "ticks": ""
           }
          },
          "scene": {
           "xaxis": {
            "backgroundcolor": "#E5ECF6",
            "gridcolor": "white",
            "gridwidth": 2,
            "linecolor": "white",
            "showbackground": true,
            "ticks": "",
            "zerolinecolor": "white"
           },
           "yaxis": {
            "backgroundcolor": "#E5ECF6",
            "gridcolor": "white",
            "gridwidth": 2,
            "linecolor": "white",
            "showbackground": true,
            "ticks": "",
            "zerolinecolor": "white"
           },
           "zaxis": {
            "backgroundcolor": "#E5ECF6",
            "gridcolor": "white",
            "gridwidth": 2,
            "linecolor": "white",
            "showbackground": true,
            "ticks": "",
            "zerolinecolor": "white"
           }
          },
          "shapedefaults": {
           "line": {
            "color": "#2a3f5f"
           }
          },
          "ternary": {
           "aaxis": {
            "gridcolor": "white",
            "linecolor": "white",
            "ticks": ""
           },
           "baxis": {
            "gridcolor": "white",
            "linecolor": "white",
            "ticks": ""
           },
           "bgcolor": "#E5ECF6",
           "caxis": {
            "gridcolor": "white",
            "linecolor": "white",
            "ticks": ""
           }
          },
          "title": {
           "x": 0.05
          },
          "xaxis": {
           "automargin": true,
           "gridcolor": "white",
           "linecolor": "white",
           "ticks": "",
           "title": {
            "standoff": 15
           },
           "zerolinecolor": "white",
           "zerolinewidth": 2
          },
          "yaxis": {
           "automargin": true,
           "gridcolor": "white",
           "linecolor": "white",
           "ticks": "",
           "title": {
            "standoff": 15
           },
           "zerolinecolor": "white",
           "zerolinewidth": 2
          }
         }
        },
        "xaxis": {
         "title": {
          "text": "Delay (μs)"
         }
        }
       }
      }
     },
     "metadata": {},
     "output_type": "display_data"
    }
   ],
   "source": [
    "import plotly.graph_objects as go\n",
    "\n",
    "bin_size = 20\n",
    "packets_from_application = packets['flow']=='DN->UE'\n",
    "packets_to_application = packets['flow']=='UE->DN'\n",
    "\n",
    "# It doesn't make much sense to plot with much higher accuracy than 50us\n",
    "hist_array, hist_bins = trace_plotting.get_histogram_data(packets.loc[:,'delay_us'], bin_size)\n",
    "histogram_line = go.Scatter(\n",
    "        x=hist_bins,\n",
    "        y=hist_array,\n",
    "        mode='lines',\n",
    "        name='',\n",
    "        line_shape='spline',\n",
    "        opacity=0.75,\n",
    "        showlegend=False)\n",
    "\n",
    "fig = go.Figure(data=[histogram_line])\n",
    "fig.update_xaxes(title_text='Delay (μs)')\n",
    "fig.show()"
   ]
  },
  {
   "cell_type": "code",
   "execution_count": 11,
   "metadata": {},
   "outputs": [
    {
     "name": "stderr",
     "output_type": "stream",
     "text": [
      "DEBUG:root:Saving data to doc/UP_example_analysis.pbz2\n"
     ]
    }
   ],
   "source": [
    "# Save data\n",
    "data_to_pickle = {}\n",
    "data_to_pickle['packets'] = packets\n",
    "data_to_pickle['packets_n3'] = n3_packets\n",
    "data_to_pickle['packets_n6'] = n6_packets\n",
    "data_to_pickle['histogram'] = (hist_array, hist_bins)\n",
    "data_to_pickle['histogram_bin_size'] = bin_size\n",
    "trace_visualizer.application_logger.setLevel(logging.DEBUG)\n",
    "trace_plotting.compressed_pickle(output_file, data_to_pickle)"
   ]
  }
 ],
 "metadata": {
  "kernelspec": {
   "display_name": "Python 3 (ipykernel)",
   "language": "python",
   "name": "python3"
  },
  "language_info": {
   "codemirror_mode": {
    "name": "ipython",
    "version": 3
   },
   "file_extension": ".py",
   "mimetype": "text/x-python",
   "name": "python",
   "nbconvert_exporter": "python",
   "pygments_lexer": "ipython3",
   "version": "3.10.12"
  }
 },
 "nbformat": 4,
 "nbformat_minor": 4
}
