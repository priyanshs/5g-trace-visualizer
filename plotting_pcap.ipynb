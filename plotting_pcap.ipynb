{
 "cells": [
  {
   "cell_type": "code",
   "execution_count": 28,
   "metadata": {},
   "outputs": [],
   "source": [
    "# Generic imports\n",
    "import pandas as pd\n",
    "import plotly\n",
    "import plotly.graph_objects as go\n",
    "\n",
    "# 5G visualization logic\n",
    "import trace_plotting\n",
    "import logging"
   ]
  },
  {
   "cell_type": "code",
   "execution_count": 29,
   "metadata": {},
   "outputs": [],
   "source": [
    "# Wireshark trace with 5GC messages\n",
    "# wireshark_traces = 'doc/free5gc.pcap'\n",
    "wireshark_traces = 'collected/one-reg-open5gs-ueransim.pcapng'\n",
    "# wireshark_trace = \"/pcaps/all_120.pcap\""
   ]
  },
  {
   "cell_type": "code",
   "execution_count": 30,
   "metadata": {},
   "outputs": [
    {
     "name": "stdout",
     "output_type": "stream",
     "text": [
      "doc/free5gc.pcap 32445,5002,5000,32665,80,32077,5006,8080,3000,8081 4.2.3\n",
      "line 50\n",
      "line 53\n",
      "line 55\n",
      "line 57\n",
      "['4.2.3']\n",
      "['doc/free5gc.pcap']\n",
      "asdkjhasdkj checkin /Applications/Wireshark.app/Contents/MacOS/tshark\n",
      "djkd ['doc/free5gc_4.2.3.pdml']\n",
      "[PacketDescription(ip_src='10.200.200.1', ip_dst='10.200.200.101', frame_number='1', protocols_str='PFCP', msg_description=\"pfcp.flags:\\n-   pfcp.version: '001. .... = Version: 1'\\n    pfcp.spare_b4: '...0 .... = Spare: 0'\\n    pfcp.spare_b3: '.... 0... = Spare: 0'\\n    pfcp.fo_flag: '.... .0.. = Follow On (FO): False'\\n    pfcp.mp_flag: '.... ..0. = Message Priority (MP): False'\\n    pfcp.s: '.... ...0 = SEID (S): False'\\npfcp.msg_type: 'Message Type: PFCP Association Setup Request (5)'\\npfcp.length: 'Length: 26'\\npfcp.seqno: 'Sequence Number: 1'\\npfcp.spare_oct: 'Spare: 0'\\n'Node ID : IPv4 address: 10.200.200.1':\\n-   pfcp.ie_type: 'IE Type: Node ID (60)'\\n    pfcp.ie_len: 'IE Length: 5'\\n    pfcp.spare_h1: '0000 .... = Spare: 0'\\n    pfcp.node_id_type: '.... 0000 = Address Type: IPv4 address (0)'\\n    pfcp.node_id_ipv4: 'IPv4: 10.200.200.1'\\n'Recovery Time Stamp : Jun 11, 2020 08:17:39.000000000 UTC':\\n-   pfcp.ie_type: 'IE Type: Recovery Time Stamp (96)'\\n    pfcp.ie_len: 'IE Length: 4'\\n    pfcp.recovery_time_stamp: 'Recovery Time Stamp: Jun 11, 2020 08:17:39.000000000 UTC'\\n'CP Function Features : ':\\n-   pfcp.ie_type: 'IE Type: CP Function Features (89)'\\n    pfcp.ie_len: 'IE Length: 1'\\n    pfcp.cp_function_features.uiaur: '0... .... = UIAUR: Not supported'\\n    pfcp.cp_function_features.ardr: '.0.. .... = ARDR: Not supported'\\n    pfcp.cp_function_features.mpas: '..0. .... = MPAS: Not supported'\\n    pfcp.cp_function_features.bundl: '...0 .... = BUNDL: Not supported'\\n    pfcp.cp_function_features.sset: '.... 0... = SSET: Not supported'\\n    pfcp.cp_function_features.epfar: '.... .0.. = EPFAR: Not supported'\\n    pfcp.cp_function_features.ovrl: '.... ..0. = OVRL: Not supported'\\n    pfcp.cp_function_features.load: '.... ...0 = LOAD: Not supported'\\npfcp.response_in: 'Response In: 2'\\n\", timestamp=1591863459.8927, timestamp_offsett=0.0), PacketDescription(ip_src='10.200.200.101', ip_dst='10.200.200.1', frame_number='2', protocols_str='PFCP', msg_description=\"pfcp.flags:\\n-   pfcp.version: '001. .... = Version: 1'\\n    pfcp.spare_b4: '...0 .... = Spare: 0'\\n    pfcp.spare_b3: '.... 0... = Spare: 0'\\n    pfcp.fo_flag: '.... .0.. = Follow On (FO): False'\\n    pfcp.mp_flag: '.... ..0. = Message Priority (MP): False'\\n    pfcp.s: '.... ...0 = SEID (S): False'\\npfcp.msg_type: 'Message Type: PFCP Association Setup Response (6)'\\npfcp.length: 'Length: 45'\\npfcp.seqno: 'Sequence Number: 1'\\npfcp.spare_oct: 'Spare: 0'\\n'Node ID : IPv4 address: 10.200.200.101':\\n-   pfcp.ie_type: 'IE Type: Node ID (60)'\\n    pfcp.ie_len: 'IE Length: 5'\\n    pfcp.spare_h1: '0000 .... = Spare: 0'\\n    pfcp.node_id_type: '.... 0000 = Address Type: IPv4 address (0)'\\n    pfcp.node_id_ipv4: 'IPv4: 10.200.200.101'\\n'Cause : Request accepted(success)':\\n-   pfcp.ie_type: 'IE Type: Cause (19)'\\n    pfcp.ie_len: 'IE Length: 1'\\n    pfcp.cause: 'Cause: Request accepted(success) (1)'\\n'Recovery Time Stamp : Jul 18, 2086 14:45:50.000000000 UTC':\\n-   pfcp.ie_type: 'IE Type: Recovery Time Stamp (96)'\\n    pfcp.ie_len: 'IE Length: 4'\\n    pfcp.recovery_time_stamp: 'Recovery Time Stamp: Jul 18, 2086 14:45:50.000000000 UTC'\\n'User Plane IP Resource Information (removed in Rel 16.3) : internet':\\n-   pfcp.ie_type: 'IE Type: User Plane IP Resource Information (removed in Rel 16.3) (116)'\\n    pfcp.ie_len: 'IE Length: 15'\\n    pfcp.upiri_flags:\\n        pfcp.spare_b7_b6: '00.. .... = Spare: 0'\\n        pfcp.upiri_flags.assosi: '.0.. .... = ASSOSI (Associated Source Instance): Not Present'\\n        pfcp.upiri_flags.assoni: '..1. .... = ASSONI (Associated Network Instance): Present'\\n        pfcp.upiri_flags.teidri: '...0 01.. = TEIDRI (TEID Range Indication): 0x1'\\n        pfcp.upiri_flags.v6: '.... ..0. = V6 (IPv6): Not Present'\\n        pfcp.upiri_flags.v4: '.... ...1 = V4 (IPv4): Present'\\n    pfcp.upiri.teidri: '...0 01.. = TEID Range Indication: 1'\\n    pfcp.upiri.teid_range: 'TEID: 0x00000000'\\n    pfcp.upiri.ipv4_addr: 'IPv4 address: 10.200.200.102'\\n    pfcp.network_instance: 'Network Instance: internet'\\npfcp.response_to: 'Response To: 1'\\npfcp.response_time: 'Response Time: 0.000513993 seconds'\\n\", timestamp=1591863459.893214, timestamp_offsett=0.0005140304565429688), PacketDescription(ip_src='127.0.0.1', ip_dst='127.0.0.1', frame_number='13', protocols_str='NGAP', msg_description=\"NGAP-PDU: 00150035000004001b00080002f83910000102005240090300667265653567630066001000000000010002f839000010080102030015400140\\nngap.procedureCode: 'procedureCode: id-NGSetup (21)'\\nper.enum_index: 'Enumerated Index: 0'\\nngap.criticality: 'criticality: reject (0)'\\nper.open_type_length: 'Open Type Length: 53'\\nngap.value_element:\\n-   ngap.NGSetupRequest_element:\\n        per.extension_bit: '0... .... Extension Bit: False'\\n        per.sequence_of_length: 'Sequence-Of Length: 4'\\n        ngap.protocolIEs:\\n            'Item 0: id-GlobalRANNodeID':\\n                ngap.id: 'id: id-GlobalRANNodeID (27)'\\n                per.enum_index: 'Enumerated Index: 0'\\n                ngap.criticality: 'criticality: reject (0)'\\n                per.open_type_length: 'Open Type Length: 8'\\n                ngap.value_element:\\n                    per.choice_index: 'Choice Index: 0'\\n                    ngap.GlobalRANNodeID:\\n                        ngap.globalGNB_ID_element:\\n                            per.extension_bit: '..0. .... Extension Bit: False'\\n                            per.optional_field_bit: '...0 .... Optional Field Bit: False (iE-Extensions is NOT present)'\\n                            ngap.pLMNIdentity:\\n                                e212.mcc: 'Mobile Country Code (MCC): France (208)'\\n                                e212.mnc: 'Mobile Network Code (MNC): Thales communications & Security (93)'\\n                            per.choice_index: 'Choice Index: 0'\\n                            ngap.globalGNB_ID.gNB_ID:\\n                                per.bit_string_length: 'Bit String Length: 24'\\n                                ngap.gNB_ID: 'gNB-ID: 000102 [bit length 24, 0000 0000  0000 0001  0000 0010 decimal value 258]'\\n            'Item 1: id-RANNodeName':\\n                ngap.id: 'id: id-RANNodeName (82)'\\n                per.enum_index: 'Enumerated Index: 1'\\n                ngap.criticality: 'criticality: ignore (1)'\\n                per.open_type_length: 'Open Type Length: 9'\\n                ngap.value_element:\\n                    per.extension_present_bit: '0... .... Extension Present Bit: False'\\n                    per.octet_string_length: 'Octet String Length: 7'\\n                    ngap.RANNodeName: 'RANNodeName: free5gc'\\n            'Item 2: id-SupportedTAList':\\n                ngap.id: 'id: id-SupportedTAList (102)'\\n                per.enum_index: 'Enumerated Index: 0'\\n                ngap.criticality: 'criticality: reject (0)'\\n                per.open_type_length: 'Open Type Length: 16'\\n                ngap.value_element:\\n                    per.sequence_of_length: 'Sequence-Of Length: 1'\\n                    ngap.SupportedTAList:\\n                        Item 0:\\n                            ngap.SupportedTAItem_element:\\n                                per.extension_bit: '0... .... Extension Bit: False'\\n                                per.optional_field_bit: '.0.. .... Optional Field Bit: False (iE-Extensions is NOT present)'\\n                                ngap.tAC: 'tAC: 1 (0x000001)'\\n                                per.sequence_of_length: 'Sequence-Of Length: 1'\\n                                ngap.broadcastPLMNList:\\n                                    Item 0:\\n                                        ngap.BroadcastPLMNItem_element:\\n                                            per.extension_bit: '.... 0... Extension Bit: False'\\n                                            per.optional_field_bit: '.... .0.. Optional Field Bit: False (iE-Extensions is NOT present)'\\n                                            ngap.pLMNIdentity:\\n                                                e212.mcc: 'Mobile Country Code (MCC): France (208)'\\n                                                e212.mnc: 'Mobile Network Code (MNC): Thales communications & Security (93)'\\n                                            per.sequence_of_length: 'Sequence-Of Length: 1'\\n                                            ngap.tAISliceSupportList:\\n                                                Item 0:\\n                                                    ngap.SliceSupportItem_element:\\n                                                        per.extension_bit: '0... .... Extension Bit: False'\\n                                                        per.optional_field_bit: '.0.. .... Optional Field Bit: False (iE-Extensions is NOT present)'\\n                                                        ngap.s_NSSAI_element:\\n                                                            per.extension_bit: '..0. .... Extension Bit: False'\\n                                                            per.optional_field_bit: '...1 .... Optional Field Bit: True (sD is present)'\\n                                                            per.optional_field_bit (2): '.... 0... Optional Field Bit: False (iE-Extensions is NOT present)'\\n                                                            ngap.sST: 'sST: 01'\\n                                                            ngap.sD: 'sD: 010203'\\n            'Item 3: id-DefaultPagingDRX':\\n                ngap.id: 'id: id-DefaultPagingDRX (21)'\\n                per.enum_index: 'Enumerated Index: 1'\\n                ngap.criticality: 'criticality: ignore (1)'\\n                per.open_type_length: 'Open Type Length: 1'\\n                ngap.value_element:\\n                    per.extension_present_bit: '0... .... Extension Present Bit: False'\\n                    per.enum_index: 'Enumerated Index: 2'\\n                    ngap.PagingDRX: 'PagingDRX: v128 (2)'\\n\", timestamp=1591863461.0921638, timestamp_offsett=1.1994638442993164), PacketDescription(ip_src='127.0.0.1', ip_dst='127.0.0.1', frame_number='14', protocols_str='NGAP', msg_description=\"NGAP-PDU: 20150031000004000100050100414d4600600008000002f839cafe0000564001ff005000100002f839000110080102031008112233\\nngap.procedureCode: 'procedureCode: id-NGSetup (21)'\\nper.enum_index: 'Enumerated Index: 0'\\nngap.criticality: 'criticality: reject (0)'\\nper.open_type_length: 'Open Type Length: 49'\\nngap.value_element:\\n-   ngap.NGSetupResponse_element:\\n        per.extension_bit: '0... .... Extension Bit: False'\\n        per.sequence_of_length: 'Sequence-Of Length: 4'\\n        ngap.protocolIEs:\\n            'Item 0: id-AMFName':\\n                ngap.id: 'id: id-AMFName (1)'\\n                per.enum_index: 'Enumerated Index: 0'\\n                ngap.criticality: 'criticality: reject (0)'\\n                per.open_type_length: 'Open Type Length: 5'\\n                ngap.value_element:\\n                    per.extension_present_bit: '0... .... Extension Present Bit: False'\\n                    per.octet_string_length: 'Octet String Length: 3'\\n                    ngap.AMFName: 'AMFName: AMF'\\n            'Item 1: id-ServedGUAMIList':\\n                ngap.id: 'id: id-ServedGUAMIList (96)'\\n                per.enum_index: 'Enumerated Index: 0'\\n                ngap.criticality: 'criticality: reject (0)'\\n                per.open_type_length: 'Open Type Length: 8'\\n                ngap.value_element:\\n                    per.sequence_of_length: 'Sequence-Of Length: 1'\\n                    ngap.ServedGUAMIList:\\n                        Item 0:\\n                            ngap.ServedGUAMIItem_element:\\n                                per.extension_bit: '0... .... Extension Bit: False'\\n                                per.optional_field_bit: '.0.. .... Optional Field Bit: False (backupAMFName is NOT present)'\\n                                per.optional_field_bit (2): '..0. .... Optional Field Bit: False (iE-Extensions is NOT present)'\\n                                ngap.gUAMI_element:\\n                                    per.extension_bit: '...0 .... Extension Bit: False'\\n                                    per.optional_field_bit: '.... 0... Optional Field Bit: False (iE-Extensions is NOT present)'\\n                                    ngap.pLMNIdentity:\\n                                        e212.guami.mcc: 'Mobile Country Code (MCC): France (208)'\\n                                        e212.guami.mnc: 'Mobile Network Code (MNC): Thales communications & Security (93)'\\n                                    ngap.aMFRegionID: 'aMFRegionID: ca [bit length 8, 1100 1010 decimal value 202]'\\n                                    ngap.aMFSetID: 'aMFSetID: fe00 [bit length 10, 6 LSB pad bits, 1111 1110  00.. .... decimal value 1016]'\\n                                    ngap.aMFPointer: 'aMFPointer: 00 [bit length 6, 2 LSB pad bits, 0000 00.. decimal value 0]'\\n            'Item 2: id-RelativeAMFCapacity':\\n                ngap.id: 'id: id-RelativeAMFCapacity (86)'\\n                per.enum_index: 'Enumerated Index: 1'\\n                ngap.criticality: 'criticality: ignore (1)'\\n                per.open_type_length: 'Open Type Length: 1'\\n                ngap.value_element:\\n                    ngap.RelativeAMFCapacity: 'RelativeAMFCapacity: 255'\\n            'Item 3: id-PLMNSupportList':\\n                ngap.id: 'id: id-PLMNSupportList (80)'\\n                per.enum_index: 'Enumerated Index: 0'\\n                ngap.criticality: 'criticality: reject (0)'\\n                per.open_type_length: 'Open Type Length: 16'\\n                ngap.value_element:\\n                    per.sequence_of_length: 'Sequence-Of Length: 1'\\n                    ngap.PLMNSupportList:\\n                        Item 0:\\n                            ngap.PLMNSupportItem_element:\\n                                per.extension_bit: '.... 0... Extension Bit: False'\\n                                per.optional_field_bit: '.... .0.. Optional Field Bit: False (iE-Extensions is NOT present)'\\n                                ngap.pLMNIdentity:\\n                                    e212.mcc: 'Mobile Country Code (MCC): France (208)'\\n                                    e212.mnc: 'Mobile Network Code (MNC): Thales communications & Security (93)'\\n                                per.sequence_of_length: 'Sequence-Of Length: 2'\\n                                ngap.sliceSupportList:\\n                                    Item 0:\\n                                        ngap.SliceSupportItem_element:\\n                                            per.extension_bit: '0... .... Extension Bit: False'\\n                                            per.optional_field_bit: '.0.. .... Optional Field Bit: False (iE-Extensions is NOT present)'\\n                                            ngap.s_NSSAI_element:\\n                                                per.extension_bit: '..0. .... Extension Bit: False'\\n                                                per.optional_field_bit: '...1 .... Optional Field Bit: True (sD is present)'\\n                                                per.optional_field_bit (2): '.... 0... Optional Field Bit: False (iE-Extensions is NOT present)'\\n                                                ngap.sST: 'sST: 01'\\n                                                ngap.sD: 'sD: 010203'\\n                                    Item 1:\\n                                        ngap.SliceSupportItem_element:\\n                                            per.extension_bit: '0... .... Extension Bit: False'\\n                                            per.optional_field_bit: '.0.. .... Optional Field Bit: False (iE-Extensions is NOT present)'\\n                                            ngap.s_NSSAI_element:\\n                                                per.extension_bit: '..0. .... Extension Bit: False'\\n                                                per.optional_field_bit: '...1 .... Optional Field Bit: True (sD is present)'\\n                                                per.optional_field_bit (2): '.... 0... Optional Field Bit: False (iE-Extensions is NOT present)'\\n                                                ngap.sST: 'sST: 01'\\n                                                ngap.sD: 'sD: 112233'\\n\", timestamp=1591863461.1006877, timestamp_offsett=1.2079877853393555), PacketDescription(ip_src='127.0.0.1', ip_dst='127.0.0.1', frame_number='15', protocols_str='NGAP', msg_description=\"NGAP-PDU: 000f404a000005005500020001002600201f7e004119000c0102f839f0ff0000000047781001072e08ffffffff000000000079000f4002f839000000001002f839000001005a4001100070400100\\nngap.procedureCode: 'procedureCode: id-InitialUEMessage (15)'\\nper.enum_index: 'Enumerated Index: 1'\\nngap.criticality: 'criticality: ignore (1)'\\nper.open_type_length: 'Open Type Length: 74'\\nngap.value_element:\\n-   ngap.InitialUEMessage_element:\\n        per.extension_bit: '0... .... Extension Bit: False'\\n        per.sequence_of_length: 'Sequence-Of Length: 5'\\n        ngap.protocolIEs:\\n            'Item 0: id-RAN-UE-NGAP-ID':\\n                ngap.id: 'id: id-RAN-UE-NGAP-ID (85)'\\n                per.enum_index: 'Enumerated Index: 0'\\n                ngap.criticality: 'criticality: reject (0)'\\n                per.open_type_length: 'Open Type Length: 2'\\n                ngap.value_element:\\n                    ngap.RAN_UE_NGAP_ID: 'RAN-UE-NGAP-ID: 1'\\n            'Item 1: id-NAS-PDU':\\n                ngap.id: 'id: id-NAS-PDU (38)'\\n                per.enum_index: 'Enumerated Index: 0'\\n                ngap.criticality: 'criticality: reject (0)'\\n                per.open_type_length: 'Open Type Length: 32'\\n                ngap.value_element:\\n                    per.octet_string_length: 'Octet String Length: 31'\\n                    ngap.NAS_PDU:\\n                        nas-5gs:\\n                            Plain NAS 5GS Message:\\n                                nas_5gs.epd: 'Extended protocol discriminator: 5G mobility management messages (126)'\\n                                nas_5gs.spare_half_octet: '0000 .... = Spare Half Octet: 0'\\n                                nas_5gs.security_header_type: '.... 0000 = Security header type: Plain NAS message, not security protected (0)'\\n                                nas_5gs.mm.message_type: 'Message type: Registration request (0x41)'\\n                                5GS registration type:\\n                                    nas_5gs.mm.for: '.... 1... = Follow-On Request bit (FOR): Follow-on request pending'\\n                                    nas_5gs.mm.5gs_reg_type: '.... .001 = 5GS registration type: initial registration (1)'\\n                                NAS key set identifier:\\n                                    nas_5gs.mm.tsc.h1: '0... .... = Type of security context flag (TSC): Native security context (for KSIAMF)'\\n                                    nas_5gs.mm.nas_key_set_id.h1: '.001 .... = NAS key set identifier: 1'\\n                                5GS mobile identity:\\n                                    gsm_a.len: 'Length: 12'\\n                                    nas_5gs.spare_b7: '0... .... = Spare: 0'\\n                                    nas_5gs.mm.suci.supi_fmt: '.000 .... = SUPI format: IMSI (0)'\\n                                    nas_5gs.spare_b3: '.... 0... = Spare: 0'\\n                                    nas_5gs.mm.type_id: '.... .001 = Type of identity: SUCI (1)'\\n                                    e212.mcc: 'Mobile Country Code (MCC): France (208)'\\n                                    e212.mnc: 'Mobile Network Code (MNC): Thales communications & Security (93)'\\n                                    nas_5gs.mm.suci.routing_indicator: 'Routing indicator: 0'\\n                                    nas_5gs.mm.suci.scheme_id: '.... 0000 = Protection scheme Id: NULL scheme (0)'\\n                                    nas_5gs.mm.suci.pki: 'Home network public key identifier: 0'\\n                                    nas_5gs.mm.suci.msin: 'MSIN: 00007487'\\n                                5GMM capability:\\n                                    nas_5gs.mm.elem_id: 'Element ID: 0x10'\\n                                    gsm_a.len: 'Length: 1'\\n                                    nas_5gs.mm.sgc_b7: '0... .... = Service gap control (SGC): Not supported'\\n                                    nas_5gs.mm.5g_iphc_cp_ciot_b6: '.0.. .... = IP header compression for control plane CIoT 5GS optimization (5G-IPHC-CP CIoT): Not supported'\\n                                    nas_5gs.mm.n3_data_b5: '..0. .... = N3 data transfer (N3 data): Not supported'\\n                                    nas_5gs.mm.5g_cp_ciot_b4: '...0 .... = Control plane CIoT 5GS optimization (5G-CP CIoT): Not supported'\\n                                    nas_5gs.mm.restrict_ec_b3: '.... 0... = Restriction on use of enhanced coverage support (RestrictEC): Not supported'\\n                                    nas_5gs.mm.lpp_cap_b2: '.... .1.. = LTE Positioning Protocol (LPP) capability: Supported'\\n                                    nas_5gs.mm.ho_attach_b1: '.... ..1. = ATTACH REQUEST message containing PDN CONNECTIVITY REQUEST message for handover support (HO attach): Supported'\\n                                    nas_5gs.mm.s1_mode_b0: '.... ...1 = EPC NAS supported (S1 mode): Supported'\\n                                UE security capability:\\n                                    nas_5gs.mm.elem_id: 'Element ID: 0x2e'\\n                                    gsm_a.len: 'Length: 8'\\n                                    nas_5gs.mm.5g_ea0: '1... .... = 5G-EA0: Supported'\\n                                    nas_5gs.mm.128_5g_ea1: '.1.. .... = 128-5G-EA1: Supported'\\n                                    nas_5gs.mm.128_5g_ea2: '..1. .... = 128-5G-EA2: Supported'\\n                                    nas_5gs.mm.128_5g_ea3: '...1 .... = 128-5G-EA3: Supported'\\n                                    nas_5gs.mm.5g_ea4: '.... 1... = 5G-EA4: Supported'\\n                                    nas_5gs.mm.5g_ea5: '.... .1.. = 5G-EA5: Supported'\\n                                    nas_5gs.mm.5g_ea6: '.... ..1. = 5G-EA6: Supported'\\n                                    nas_5gs.mm.5g_ea7: '.... ...1 = 5G-EA7: Supported'\\n                                    nas_5gs.mm.ia0: '1... .... = 5G-IA0: Supported'\\n                                    nas_5gs.mm.5g_128_ia1: '.1.. .... = 128-5G-IA1: Supported'\\n                                    nas_5gs.mm.5g_128_ia2: '..1. .... = 128-5G-IA2: Supported'\\n                                    nas_5gs.mm.5g_128_ia3: '...1 .... = 128-5G-IA3: Supported'\\n                                    nas_5gs.mm.5g_128_ia4: '.... 1... = 5G-IA4: Supported'\\n                                    nas_5gs.mm.5g_ia5: '.... .1.. = 5G-IA5: Supported'\\n                                    nas_5gs.mm.5g_ia6: '.... ..1. = 5G-IA6: Supported'\\n                                    nas_5gs.mm.5g_ia7: '.... ...1 = 5G-IA7: Supported'\\n                                    nas_5gs.mm.eea0: '1... .... = EEA0: Supported'\\n                                    nas_5gs.mm.128eea1: '.1.. .... = 128-EEA1: Supported'\\n                                    nas_5gs.mm.128eea2: '..1. .... = 128-EEA2: Supported'\\n                                    nas_5gs.mm.eea3: '...1 .... = 128-EEA3: Supported'\\n                                    nas_5gs.mm.eea4: '.... 1... = EEA4: Supported'\\n                                    nas_5gs.mm.eea5: '.... .1.. = EEA5: Supported'\\n                                    nas_5gs.mm.eea6: '.... ..1. = EEA6: Supported'\\n                                    nas_5gs.mm.eea7: '.... ...1 = EEA7: Supported'\\n                                    nas_5gs.mm.eia0: '1... .... = EIA0: Supported'\\n                                    nas_5gs.mm.128eia1: '.1.. .... = 128-EIA1: Supported'\\n                                    nas_5gs.mm.128eia2: '..1. .... = 128-EIA2: Supported'\\n                                    nas_5gs.mm.eia3: '...1 .... = 128-EIA3: Supported'\\n                                    nas_5gs.mm.eia4: '.... 1... = EIA4: Supported'\\n                                    nas_5gs.mm.eia5: '.... .1.. = EIA5: Supported'\\n                                    nas_5gs.mm.eia6: '.... ..1. = EIA6: Supported'\\n                                    nas_5gs.mm.eia7: '.... ...1 = EIA7: Supported'\\n            'Item 2: id-UserLocationInformation':\\n                ngap.id: 'id: id-UserLocationInformation (121)'\\n                per.enum_index: 'Enumerated Index: 0'\\n                ngap.criticality: 'criticality: reject (0)'\\n                per.open_type_length: 'Open Type Length: 15'\\n                ngap.value_element:\\n                    per.choice_index: 'Choice Index: 1'\\n                    ngap.UserLocationInformation:\\n                        ngap.userLocationInformationNR_element:\\n                            per.extension_bit: '..0. .... Extension Bit: False'\\n                            per.optional_field_bit: '...0 .... Optional Field Bit: False (timeStamp is NOT present)'\\n                            per.optional_field_bit (2): '.... 0... Optional Field Bit: False (iE-Extensions is NOT present)'\\n                            ngap.nR_CGI_element:\\n                                per.extension_bit: '.... .0.. Extension Bit: False'\\n                                per.optional_field_bit: '.... ..0. Optional Field Bit: False (iE-Extensions is NOT present)'\\n                                ngap.pLMNIdentity:\\n                                    e212.nrcgi.mcc: 'Mobile Country Code (MCC): France (208)'\\n                                    e212.nrcgi.mnc: 'Mobile Network Code (MNC): Thales communications & Security (93)'\\n                                ngap.NRCellIdentity: 'nRCellIdentity: 0x0000000001'\\n                            ngap.tAI_element:\\n                                per.extension_bit: '.... 0... Extension Bit: False'\\n                                per.optional_field_bit: '.... .0.. Optional Field Bit: False (iE-Extensions is NOT present)'\\n                                ngap.pLMNIdentity:\\n                                    e212.5gstai.mcc: 'Mobile Country Code (MCC): France (208)'\\n                                    e212.5gstai.mnc: 'Mobile Network Code (MNC): Thales communications & Security (93)'\\n                                ngap.tAC: 'tAC: 1 (0x000001)'\\n            'Item 3: id-RRCEstablishmentCause':\\n                ngap.id: 'id: id-RRCEstablishmentCause (90)'\\n                per.enum_index: 'Enumerated Index: 1'\\n                ngap.criticality: 'criticality: ignore (1)'\\n                per.open_type_length: 'Open Type Length: 1'\\n                ngap.value_element:\\n                    per.extension_present_bit: '0... .... Extension Present Bit: False'\\n                    per.enum_index: 'Enumerated Index: 2'\\n                    ngap.RRCEstablishmentCause: 'RRCEstablishmentCause: mt-Access (2)'\\n            'Item 4: id-UEContextRequest':\\n                ngap.id: 'id: id-UEContextRequest (112)'\\n                per.enum_index: 'Enumerated Index: 1'\\n                ngap.criticality: 'criticality: ignore (1)'\\n                per.open_type_length: 'Open Type Length: 1'\\n                ngap.value_element:\\n                    per.extension_present_bit: '0... .... Extension Present Bit: False'\\n                    per.enum_index: 'Enumerated Index: 0'\\n                    ngap.UEContextRequest: 'UEContextRequest: requested (0)'\\n\", timestamp=1591863461.116639, timestamp_offsett=1.2239389419555664), PacketDescription(ip_src='127.0.0.1', ip_dst='127.0.0.1', frame_number='44', protocols_str='NGAP', msg_description=\"NGAP-PDU: 0004403e000003000a000200010055000200010026002b2a7e0056010200002122fd7b017a00a3d10a7fa43bcdb38737201039e2eeb667fe8000df925c009944031b\\nngap.procedureCode: 'procedureCode: id-DownlinkNASTransport (4)'\\nper.enum_index: 'Enumerated Index: 1'\\nngap.criticality: 'criticality: ignore (1)'\\nper.open_type_length: 'Open Type Length: 62'\\nngap.value_element:\\n-   ngap.DownlinkNASTransport_element:\\n        per.extension_bit: '0... .... Extension Bit: False'\\n        per.sequence_of_length: 'Sequence-Of Length: 3'\\n        ngap.protocolIEs:\\n            'Item 0: id-AMF-UE-NGAP-ID':\\n                ngap.id: 'id: id-AMF-UE-NGAP-ID (10)'\\n                per.enum_index: 'Enumerated Index: 0'\\n                ngap.criticality: 'criticality: reject (0)'\\n                per.open_type_length: 'Open Type Length: 2'\\n                ngap.value_element:\\n                    ngap.AMF_UE_NGAP_ID: 'AMF-UE-NGAP-ID: 1'\\n            'Item 1: id-RAN-UE-NGAP-ID':\\n                ngap.id: 'id: id-RAN-UE-NGAP-ID (85)'\\n                per.enum_index: 'Enumerated Index: 0'\\n                ngap.criticality: 'criticality: reject (0)'\\n                per.open_type_length: 'Open Type Length: 2'\\n                ngap.value_element:\\n                    ngap.RAN_UE_NGAP_ID: 'RAN-UE-NGAP-ID: 1'\\n            'Item 2: id-NAS-PDU':\\n                ngap.id: 'id: id-NAS-PDU (38)'\\n                per.enum_index: 'Enumerated Index: 0'\\n                ngap.criticality: 'criticality: reject (0)'\\n                per.open_type_length: 'Open Type Length: 43'\\n                ngap.value_element:\\n                    per.octet_string_length: 'Octet String Length: 42'\\n                    ngap.NAS_PDU:\\n                        nas-5gs:\\n                            Plain NAS 5GS Message:\\n                                nas_5gs.epd: 'Extended protocol discriminator: 5G mobility management messages (126)'\\n                                nas_5gs.spare_half_octet: '0000 .... = Spare Half Octet: 0'\\n                                nas_5gs.security_header_type: '.... 0000 = Security header type: Plain NAS message, not security protected (0)'\\n                                nas_5gs.mm.message_type: 'Message type: Authentication request (0x56)'\\n                                nas_5gs.spare_half_octet (2): '0000 .... = Spare Half Octet: 0'\\n                                NAS key set identifier - ngKSI:\\n                                    nas_5gs.mm.tsc: '.... 0... = Type of security context flag (TSC): Native security context (for KSIAMF)'\\n                                    nas_5gs.mm.nas_key_set_id: '.... .001 = NAS key set identifier: 1'\\n                                ABBA:\\n                                    gsm_a.len: 'Length: 2'\\n                                    nas_5gs.mm.abba_contents: 'ABBA Contents: 0000'\\n                                Authentication Parameter RAND - 5G authentication challenge:\\n                                    gsm_a.dtap.elem_id: 'Element ID: 0x21'\\n                                    gsm_a.dtap.rand: 'RAND value: 22fd7b017a00a3d10a7fa43bcdb38737'\\n                                Authentication Parameter AUTN (UMTS and EPS authentication challenge) - 5G authentication challenge:\\n                                    gsm_a.dtap.elem_id: 'Element ID: 0x20'\\n                                    gsm_a.len: 'Length: 16'\\n                                    gsm_a.dtap.autn:\\n                                        gsm_a.dtap.autn.sqn_xor_ak: 'SQN xor AK: 39e2eeb667fe'\\n                                        gsm_a.dtap.autn.amf: 'AMF: 8000'\\n                                        gsm_a.dtap.autn.mac: 'MAC: df925c009944031b'\\n\", timestamp=1591863461.2571201, timestamp_offsett=1.3644201755523682), PacketDescription(ip_src='127.0.0.1', ip_dst='127.0.0.1', frame_number='45', protocols_str='NGAP', msg_description=\"NGAP-PDU: 002e403c000004000a0002000100550002000100260016157e00572d107fd887a888a0711e2bf090b3e83ecc410079400f4002f839000000001002f839000001\\nngap.procedureCode: 'procedureCode: id-UplinkNASTransport (46)'\\nper.enum_index: 'Enumerated Index: 1'\\nngap.criticality: 'criticality: ignore (1)'\\nper.open_type_length: 'Open Type Length: 60'\\nngap.value_element:\\n-   ngap.UplinkNASTransport_element:\\n        per.extension_bit: '0... .... Extension Bit: False'\\n        per.sequence_of_length: 'Sequence-Of Length: 4'\\n        ngap.protocolIEs:\\n            'Item 0: id-AMF-UE-NGAP-ID':\\n                ngap.id: 'id: id-AMF-UE-NGAP-ID (10)'\\n                per.enum_index: 'Enumerated Index: 0'\\n                ngap.criticality: 'criticality: reject (0)'\\n                per.open_type_length: 'Open Type Length: 2'\\n                ngap.value_element:\\n                    ngap.AMF_UE_NGAP_ID: 'AMF-UE-NGAP-ID: 1'\\n            'Item 1: id-RAN-UE-NGAP-ID':\\n                ngap.id: 'id: id-RAN-UE-NGAP-ID (85)'\\n                per.enum_index: 'Enumerated Index: 0'\\n                ngap.criticality: 'criticality: reject (0)'\\n                per.open_type_length: 'Open Type Length: 2'\\n                ngap.value_element:\\n                    ngap.RAN_UE_NGAP_ID: 'RAN-UE-NGAP-ID: 1'\\n            'Item 2: id-NAS-PDU':\\n                ngap.id: 'id: id-NAS-PDU (38)'\\n                per.enum_index: 'Enumerated Index: 0'\\n                ngap.criticality: 'criticality: reject (0)'\\n                per.open_type_length: 'Open Type Length: 22'\\n                ngap.value_element:\\n                    per.octet_string_length: 'Octet String Length: 21'\\n                    ngap.NAS_PDU:\\n                        nas-5gs:\\n                            Plain NAS 5GS Message:\\n                                nas_5gs.epd: 'Extended protocol discriminator: 5G mobility management messages (126)'\\n                                nas_5gs.spare_half_octet: '0000 .... = Spare Half Octet: 0'\\n                                nas_5gs.security_header_type: '.... 0000 = Security header type: Plain NAS message, not security protected (0)'\\n                                nas_5gs.mm.message_type: 'Message type: Authentication response (0x57)'\\n                                Authentication response parameter:\\n                                    nas_eps.emm.elem_id: 'Element ID: 0x2d'\\n                                    gsm_a.len: 'Length: 16'\\n                                    nas_eps.emm.res: 'RES: 7fd887a888a0711e2bf090b3e83ecc41'\\n            'Item 3: id-UserLocationInformation':\\n                ngap.id: 'id: id-UserLocationInformation (121)'\\n                per.enum_index: 'Enumerated Index: 1'\\n                ngap.criticality: 'criticality: ignore (1)'\\n                per.open_type_length: 'Open Type Length: 15'\\n                ngap.value_element:\\n                    per.choice_index: 'Choice Index: 1'\\n                    ngap.UserLocationInformation:\\n                        ngap.userLocationInformationNR_element:\\n                            per.extension_bit: '..0. .... Extension Bit: False'\\n                            per.optional_field_bit: '...0 .... Optional Field Bit: False (timeStamp is NOT present)'\\n                            per.optional_field_bit (2): '.... 0... Optional Field Bit: False (iE-Extensions is NOT present)'\\n                            ngap.nR_CGI_element:\\n                                per.extension_bit: '.... .0.. Extension Bit: False'\\n                                per.optional_field_bit: '.... ..0. Optional Field Bit: False (iE-Extensions is NOT present)'\\n                                ngap.pLMNIdentity:\\n                                    e212.nrcgi.mcc: 'Mobile Country Code (MCC): France (208)'\\n                                    e212.nrcgi.mnc: 'Mobile Network Code (MNC): Thales communications & Security (93)'\\n                                ngap.NRCellIdentity: 'nRCellIdentity: 0x0000000001'\\n                            ngap.tAI_element:\\n                                per.extension_bit: '.... 0... Extension Bit: False'\\n                                per.optional_field_bit: '.... .0.. Optional Field Bit: False (iE-Extensions is NOT present)'\\n                                ngap.pLMNIdentity:\\n                                    e212.5gstai.mcc: 'Mobile Country Code (MCC): France (208)'\\n                                    e212.5gstai.mnc: 'Mobile Network Code (MNC): Thales communications & Security (93)'\\n                                ngap.tAC: 'tAC: 1 (0x000001)'\\n\", timestamp=1591863461.2607143, timestamp_offsett=1.3680143356323242), PacketDescription(ip_src='127.0.0.1', ip_dst='127.0.0.1', frame_number='72', protocols_str='NGAP', msg_description=\"NGAP-PDU: 0004402d000003000a000200010055000200010026001a197e038c382cbf007e005d020108ffffffff00000000e1360100\\nngap.procedureCode: 'procedureCode: id-DownlinkNASTransport (4)'\\nper.enum_index: 'Enumerated Index: 1'\\nngap.criticality: 'criticality: ignore (1)'\\nper.open_type_length: 'Open Type Length: 45'\\nngap.value_element:\\n-   ngap.DownlinkNASTransport_element:\\n        per.extension_bit: '0... .... Extension Bit: False'\\n        per.sequence_of_length: 'Sequence-Of Length: 3'\\n        ngap.protocolIEs:\\n            'Item 0: id-AMF-UE-NGAP-ID':\\n                ngap.id: 'id: id-AMF-UE-NGAP-ID (10)'\\n                per.enum_index: 'Enumerated Index: 0'\\n                ngap.criticality: 'criticality: reject (0)'\\n                per.open_type_length: 'Open Type Length: 2'\\n                ngap.value_element:\\n                    ngap.AMF_UE_NGAP_ID: 'AMF-UE-NGAP-ID: 1'\\n            'Item 1: id-RAN-UE-NGAP-ID':\\n                ngap.id: 'id: id-RAN-UE-NGAP-ID (85)'\\n                per.enum_index: 'Enumerated Index: 0'\\n                ngap.criticality: 'criticality: reject (0)'\\n                per.open_type_length: 'Open Type Length: 2'\\n                ngap.value_element:\\n                    ngap.RAN_UE_NGAP_ID: 'RAN-UE-NGAP-ID: 1'\\n            'Item 2: id-NAS-PDU':\\n                ngap.id: 'id: id-NAS-PDU (38)'\\n                per.enum_index: 'Enumerated Index: 0'\\n                ngap.criticality: 'criticality: reject (0)'\\n                per.open_type_length: 'Open Type Length: 26'\\n                ngap.value_element:\\n                    per.octet_string_length: 'Octet String Length: 25'\\n                    ngap.NAS_PDU:\\n                        nas-5gs:\\n                            Security protected NAS 5GS message:\\n                                nas_5gs.epd: 'Extended protocol discriminator: 5G mobility management messages (126)'\\n                                nas_5gs.spare_half_octet: '0000 .... = Spare Half Octet: 0'\\n                                nas_5gs.security_header_type: '.... 0011 = Security header type: Integrity protected with new 5GS security context (3)'\\n                                nas_5gs.msg_auth_code: 'Message authentication code: 0x8c382cbf'\\n                                nas_5gs.seq_no: 'Sequence number: 0'\\n                            Plain NAS 5GS Message:\\n                                nas_5gs.epd: 'Extended protocol discriminator: 5G mobility management messages (126)'\\n                                nas_5gs.spare_half_octet: '0000 .... = Spare Half Octet: 0'\\n                                nas_5gs.security_header_type: '.... 0000 = Security header type: Plain NAS message, not security protected (0)'\\n                                nas_5gs.mm.message_type: 'Message type: Security mode command (0x5d)'\\n                                NAS security algorithms:\\n                                    nas_5gs.mm.nas_sec_algo_enc: '0000 .... = Type of ciphering algorithm: 5G-EA0 (null ciphering algorithm) (0)'\\n                                    nas_5gs.mm.nas_sec_algo_ip: '.... 0010 = Type of integrity protection algorithm: 128-5G-IA2 (2)'\\n                                nas_5gs.spare_half_octet (2): '0000 .... = Spare Half Octet: 0'\\n                                NAS key set identifier - ngKSI:\\n                                    nas_5gs.mm.tsc: '.... 0... = Type of security context flag (TSC): Native security context (for KSIAMF)'\\n                                    nas_5gs.mm.nas_key_set_id: '.... .001 = NAS key set identifier: 1'\\n                                UE security capability - Replayed UE security capabilities:\\n                                    gsm_a.len: 'Length: 8'\\n                                    nas_5gs.mm.5g_ea0: '1... .... = 5G-EA0: Supported'\\n                                    nas_5gs.mm.128_5g_ea1: '.1.. .... = 128-5G-EA1: Supported'\\n                                    nas_5gs.mm.128_5g_ea2: '..1. .... = 128-5G-EA2: Supported'\\n                                    nas_5gs.mm.128_5g_ea3: '...1 .... = 128-5G-EA3: Supported'\\n                                    nas_5gs.mm.5g_ea4: '.... 1... = 5G-EA4: Supported'\\n                                    nas_5gs.mm.5g_ea5: '.... .1.. = 5G-EA5: Supported'\\n                                    nas_5gs.mm.5g_ea6: '.... ..1. = 5G-EA6: Supported'\\n                                    nas_5gs.mm.5g_ea7: '.... ...1 = 5G-EA7: Supported'\\n                                    nas_5gs.mm.ia0: '1... .... = 5G-IA0: Supported'\\n                                    nas_5gs.mm.5g_128_ia1: '.1.. .... = 128-5G-IA1: Supported'\\n                                    nas_5gs.mm.5g_128_ia2: '..1. .... = 128-5G-IA2: Supported'\\n                                    nas_5gs.mm.5g_128_ia3: '...1 .... = 128-5G-IA3: Supported'\\n                                    nas_5gs.mm.5g_128_ia4: '.... 1... = 5G-IA4: Supported'\\n                                    nas_5gs.mm.5g_ia5: '.... .1.. = 5G-IA5: Supported'\\n                                    nas_5gs.mm.5g_ia6: '.... ..1. = 5G-IA6: Supported'\\n                                    nas_5gs.mm.5g_ia7: '.... ...1 = 5G-IA7: Supported'\\n                                    nas_5gs.mm.eea0: '1... .... = EEA0: Supported'\\n                                    nas_5gs.mm.128eea1: '.1.. .... = 128-EEA1: Supported'\\n                                    nas_5gs.mm.128eea2: '..1. .... = 128-EEA2: Supported'\\n                                    nas_5gs.mm.eea3: '...1 .... = 128-EEA3: Supported'\\n                                    nas_5gs.mm.eea4: '.... 1... = EEA4: Supported'\\n                                    nas_5gs.mm.eea5: '.... .1.. = EEA5: Supported'\\n                                    nas_5gs.mm.eea6: '.... ..1. = EEA6: Supported'\\n                                    nas_5gs.mm.eea7: '.... ...1 = EEA7: Supported'\\n                                    nas_5gs.mm.eia0: '1... .... = EIA0: Supported'\\n                                    nas_5gs.mm.128eia1: '.1.. .... = 128-EIA1: Supported'\\n                                    nas_5gs.mm.128eia2: '..1. .... = 128-EIA2: Supported'\\n                                    nas_5gs.mm.eia3: '...1 .... = 128-EIA3: Supported'\\n                                    nas_5gs.mm.eia4: '.... 1... = EIA4: Supported'\\n                                    nas_5gs.mm.eia5: '.... .1.. = EIA5: Supported'\\n                                    nas_5gs.mm.eia6: '.... ..1. = EIA6: Supported'\\n                                    nas_5gs.mm.eia7: '.... ...1 = EIA7: Supported'\\n                                IMEISV request:\\n                                    gsm_a.common.elem_id: '1110 .... = Element ID: 0xe-'\\n                                    nas_eps.spare_bits: '.... 0... = Spare bit(s): 0x00'\\n                                    nas_eps.emm.imeisv_req: '.... .001 = IMEISV request: IMEISV requested (1)'\\n                                Additional 5G security information:\\n                                    nas_5gs.mm.elem_id: 'Element ID: 0x36'\\n                                    gsm_a.len: 'Length: 1'\\n                                    nas_5gs.spare_b7: '0... .... = Spare: 0'\\n                                    nas_5gs.spare_b6: '.0.. .... = Spare: 0'\\n                                    nas_5gs.spare_b5: '..0. .... = Spare: 0'\\n                                    nas_5gs.spare_b4: '...0 .... = Spare: 0'\\n                                    nas_5gs.spare_b3: '.... 0... = Spare: 0'\\n                                    nas_5gs.spare_b2: '.... .0.. = Spare: 0'\\n                                    nas_5gs.mm.rinmr: '.... ..0. = Retransmission of initial NAS message request (RINMR): Not Requested'\\n                                    nas_5gs.mm.hdp: '.... ...0 = Horizontal derivation parameter (HDP): Not required'\\n\", timestamp=1591863461.2715669, timestamp_offsett=1.3788669109344482), PacketDescription(ip_src='127.0.0.1', ip_dst='127.0.0.1', frame_number='76', protocols_str='NGAP', msg_description=\"NGAP-PDU: 002e405f000004000a0002000100550002000100260039387e022e599d08007e005e77000915110000000000000071001f7e004119000c0102f839f0ff0000000047781001072e08ffffffff000000000079400f4002f839000000001002f839000001\\nngap.procedureCode: 'procedureCode: id-UplinkNASTransport (46)'\\nper.enum_index: 'Enumerated Index: 1'\\nngap.criticality: 'criticality: ignore (1)'\\nper.open_type_length: 'Open Type Length: 95'\\nngap.value_element:\\n-   ngap.UplinkNASTransport_element:\\n        per.extension_bit: '0... .... Extension Bit: False'\\n        per.sequence_of_length: 'Sequence-Of Length: 4'\\n        ngap.protocolIEs:\\n            'Item 0: id-AMF-UE-NGAP-ID':\\n                ngap.id: 'id: id-AMF-UE-NGAP-ID (10)'\\n                per.enum_index: 'Enumerated Index: 0'\\n                ngap.criticality: 'criticality: reject (0)'\\n                per.open_type_length: 'Open Type Length: 2'\\n                ngap.value_element:\\n                    ngap.AMF_UE_NGAP_ID: 'AMF-UE-NGAP-ID: 1'\\n            'Item 1: id-RAN-UE-NGAP-ID':\\n                ngap.id: 'id: id-RAN-UE-NGAP-ID (85)'\\n                per.enum_index: 'Enumerated Index: 0'\\n                ngap.criticality: 'criticality: reject (0)'\\n                per.open_type_length: 'Open Type Length: 2'\\n                ngap.value_element:\\n                    ngap.RAN_UE_NGAP_ID: 'RAN-UE-NGAP-ID: 1'\\n            'Item 2: id-NAS-PDU':\\n                ngap.id: 'id: id-NAS-PDU (38)'\\n                per.enum_index: 'Enumerated Index: 0'\\n                ngap.criticality: 'criticality: reject (0)'\\n                per.open_type_length: 'Open Type Length: 57'\\n                ngap.value_element:\\n                    per.octet_string_length: 'Octet String Length: 56'\\n                    ngap.NAS_PDU:\\n                        nas-5gs:\\n                            Security protected NAS 5GS message:\\n                                nas_5gs.epd: 'Extended protocol discriminator: 5G mobility management messages (126)'\\n                                nas_5gs.spare_half_octet: '0000 .... = Spare Half Octet: 0'\\n                                nas_5gs.security_header_type: '.... 0010 = Security header type: Integrity protected and ciphered (2)'\\n                                nas_5gs.msg_auth_code: 'Message authentication code: 0x2e599d08'\\n                                nas_5gs.seq_no: 'Sequence number: 0'\\n                            Plain NAS 5GS Message:\\n                                nas_5gs.epd: 'Extended protocol discriminator: 5G mobility management messages (126)'\\n                                nas_5gs.spare_half_octet: '0000 .... = Spare Half Octet: 0'\\n                                nas_5gs.security_header_type: '.... 0000 = Security header type: Plain NAS message, not security protected (0)'\\n                                nas_5gs.mm.message_type: 'Message type: Security mode complete (0x5e)'\\n                                5GS mobile identity:\\n                                    nas_5gs.mm.elem_id: 'Element ID: 0x77'\\n                                    gsm_a.len: 'Length: 9'\\n                                    nas_5gs.mm.odd_even: '.... 0... = Odd/even indication: Even number of identity digits'\\n                                    nas_5gs.mm.type_id: '.... .101 = Type of identity: IMEISV (5)'\\n                                    nas_5gs.mm.imeisv: 'IMEISV: 11100000000000000'\\n                                NAS message container:\\n                                    nas_5gs.mm.elem_id: 'Element ID: 0x71'\\n                                    gsm_a.len: 'Length: 31'\\n                                    nas-5gs:\\n                                        Plain NAS 5GS Message:\\n                                            nas_5gs.epd: 'Extended protocol discriminator: 5G mobility management messages (126)'\\n                                            nas_5gs.spare_half_octet: '0000 .... = Spare Half Octet: 0'\\n                                            nas_5gs.security_header_type: '.... 0000 = Security header type: Plain NAS message, not security protected (0)'\\n                                            nas_5gs.mm.message_type: 'Message type: Registration request (0x41)'\\n                                            5GS registration type:\\n                                                nas_5gs.mm.for: '.... 1... = Follow-On Request bit (FOR): Follow-on request pending'\\n                                                nas_5gs.mm.5gs_reg_type: '.... .001 = 5GS registration type: initial registration (1)'\\n                                            NAS key set identifier:\\n                                                nas_5gs.mm.tsc.h1: '0... .... = Type of security context flag (TSC): Native security context (for KSIAMF)'\\n                                                nas_5gs.mm.nas_key_set_id.h1: '.001 .... = NAS key set identifier: 1'\\n                                            5GS mobile identity:\\n                                                gsm_a.len: 'Length: 12'\\n                                                nas_5gs.spare_b7: '0... .... = Spare: 0'\\n                                                nas_5gs.mm.suci.supi_fmt: '.000 .... = SUPI format: IMSI (0)'\\n                                                nas_5gs.spare_b3: '.... 0... = Spare: 0'\\n                                                nas_5gs.mm.type_id: '.... .001 = Type of identity: SUCI (1)'\\n                                                e212.mcc: 'Mobile Country Code (MCC): France (208)'\\n                                                e212.mnc: 'Mobile Network Code (MNC): Thales communications & Security (93)'\\n                                                nas_5gs.mm.suci.routing_indicator: 'Routing indicator: 0'\\n                                                nas_5gs.mm.suci.scheme_id: '.... 0000 = Protection scheme Id: NULL scheme (0)'\\n                                                nas_5gs.mm.suci.pki: 'Home network public key identifier: 0'\\n                                                nas_5gs.mm.suci.msin: 'MSIN: 00007487'\\n                                            5GMM capability:\\n                                                nas_5gs.mm.elem_id: 'Element ID: 0x10'\\n                                                gsm_a.len: 'Length: 1'\\n                                                nas_5gs.mm.sgc_b7: '0... .... = Service gap control (SGC): Not supported'\\n                                                nas_5gs.mm.5g_iphc_cp_ciot_b6: '.0.. .... = IP header compression for control plane CIoT 5GS optimization (5G-IPHC-CP CIoT): Not supported'\\n                                                nas_5gs.mm.n3_data_b5: '..0. .... = N3 data transfer (N3 data): Not supported'\\n                                                nas_5gs.mm.5g_cp_ciot_b4: '...0 .... = Control plane CIoT 5GS optimization (5G-CP CIoT): Not supported'\\n                                                nas_5gs.mm.restrict_ec_b3: '.... 0... = Restriction on use of enhanced coverage support (RestrictEC): Not supported'\\n                                                nas_5gs.mm.lpp_cap_b2: '.... .1.. = LTE Positioning Protocol (LPP) capability: Supported'\\n                                                nas_5gs.mm.ho_attach_b1: '.... ..1. = ATTACH REQUEST message containing PDN CONNECTIVITY REQUEST message for handover support (HO attach): Supported'\\n                                                nas_5gs.mm.s1_mode_b0: '.... ...1 = EPC NAS supported (S1 mode): Supported'\\n                                            UE security capability:\\n                                                nas_5gs.mm.elem_id: 'Element ID: 0x2e'\\n                                                gsm_a.len: 'Length: 8'\\n                                                nas_5gs.mm.5g_ea0: '1... .... = 5G-EA0: Supported'\\n                                                nas_5gs.mm.128_5g_ea1: '.1.. .... = 128-5G-EA1: Supported'\\n                                                nas_5gs.mm.128_5g_ea2: '..1. .... = 128-5G-EA2: Supported'\\n                                                nas_5gs.mm.128_5g_ea3: '...1 .... = 128-5G-EA3: Supported'\\n                                                nas_5gs.mm.5g_ea4: '.... 1... = 5G-EA4: Supported'\\n                                                nas_5gs.mm.5g_ea5: '.... .1.. = 5G-EA5: Supported'\\n                                                nas_5gs.mm.5g_ea6: '.... ..1. = 5G-EA6: Supported'\\n                                                nas_5gs.mm.5g_ea7: '.... ...1 = 5G-EA7: Supported'\\n                                                nas_5gs.mm.ia0: '1... .... = 5G-IA0: Supported'\\n                                                nas_5gs.mm.5g_128_ia1: '.1.. .... = 128-5G-IA1: Supported'\\n                                                nas_5gs.mm.5g_128_ia2: '..1. .... = 128-5G-IA2: Supported'\\n                                                nas_5gs.mm.5g_128_ia3: '...1 .... = 128-5G-IA3: Supported'\\n                                                nas_5gs.mm.5g_128_ia4: '.... 1... = 5G-IA4: Supported'\\n                                                nas_5gs.mm.5g_ia5: '.... .1.. = 5G-IA5: Supported'\\n                                                nas_5gs.mm.5g_ia6: '.... ..1. = 5G-IA6: Supported'\\n                                                nas_5gs.mm.5g_ia7: '.... ...1 = 5G-IA7: Supported'\\n                                                nas_5gs.mm.eea0: '1... .... = EEA0: Supported'\\n                                                nas_5gs.mm.128eea1: '.1.. .... = 128-EEA1: Supported'\\n                                                nas_5gs.mm.128eea2: '..1. .... = 128-EEA2: Supported'\\n                                                nas_5gs.mm.eea3: '...1 .... = 128-EEA3: Supported'\\n                                                nas_5gs.mm.eea4: '.... 1... = EEA4: Supported'\\n                                                nas_5gs.mm.eea5: '.... .1.. = EEA5: Supported'\\n                                                nas_5gs.mm.eea6: '.... ..1. = EEA6: Supported'\\n                                                nas_5gs.mm.eea7: '.... ...1 = EEA7: Supported'\\n                                                nas_5gs.mm.eia0: '1... .... = EIA0: Supported'\\n                                                nas_5gs.mm.128eia1: '.1.. .... = 128-EIA1: Supported'\\n                                                nas_5gs.mm.128eia2: '..1. .... = 128-EIA2: Supported'\\n                                                nas_5gs.mm.eia3: '...1 .... = 128-EIA3: Supported'\\n                                                nas_5gs.mm.eia4: '.... 1... = EIA4: Supported'\\n                                                nas_5gs.mm.eia5: '.... .1.. = EIA5: Supported'\\n                                                nas_5gs.mm.eia6: '.... ..1. = EIA6: Supported'\\n                                                nas_5gs.mm.eia7: '.... ...1 = EIA7: Supported'\\n            'Item 3: id-UserLocationInformation':\\n                ngap.id: 'id: id-UserLocationInformation (121)'\\n                per.enum_index: 'Enumerated Index: 1'\\n                ngap.criticality: 'criticality: ignore (1)'\\n                per.open_type_length: 'Open Type Length: 15'\\n                ngap.value_element:\\n                    per.choice_index: 'Choice Index: 1'\\n                    ngap.UserLocationInformation:\\n                        ngap.userLocationInformationNR_element:\\n                            per.extension_bit: '..0. .... Extension Bit: False'\\n                            per.optional_field_bit: '...0 .... Optional Field Bit: False (timeStamp is NOT present)'\\n                            per.optional_field_bit (2): '.... 0... Optional Field Bit: False (iE-Extensions is NOT present)'\\n                            ngap.nR_CGI_element:\\n                                per.extension_bit: '.... .0.. Extension Bit: False'\\n                                per.optional_field_bit: '.... ..0. Optional Field Bit: False (iE-Extensions is NOT present)'\\n                                ngap.pLMNIdentity:\\n                                    e212.nrcgi.mcc: 'Mobile Country Code (MCC): France (208)'\\n                                    e212.nrcgi.mnc: 'Mobile Network Code (MNC): Thales communications & Security (93)'\\n                                ngap.NRCellIdentity: 'nRCellIdentity: 0x0000000001'\\n                            ngap.tAI_element:\\n                                per.extension_bit: '.... 0... Extension Bit: False'\\n                                per.optional_field_bit: '.... .0.. Optional Field Bit: False (iE-Extensions is NOT present)'\\n                                ngap.pLMNIdentity:\\n                                    e212.5gstai.mcc: 'Mobile Country Code (MCC): France (208)'\\n                                    e212.5gstai.mnc: 'Mobile Network Code (MNC): Thales communications & Security (93)'\\n                                ngap.tAC: 'tAC: 1 (0x000001)'\\n\", timestamp=1591863461.2729895, timestamp_offsett=1.3802895545959473), PacketDescription(ip_src='127.0.0.1', ip_dst='127.0.0.1', frame_number='171', protocols_str='NGAP', msg_description=\"NGAP-PDU: 000e0080a7000009000a00020001005500020001001c00070002f839cafe000000000a22010102031008112233007700091fc00fe007f003f800005e0020d45014e49272262d6d5926191b6ca3628cbbd4cd50c80868dca2d090692b538c002440040002f839002240081110000000ffff0000264036357e02d073aba4017e0242010177000b0202f839cafe000000000154070002f839000001150a040101020304011122335e010616012c\\nngap.procedureCode: 'procedureCode: id-InitialContextSetup (14)'\\nper.enum_index: 'Enumerated Index: 0'\\nngap.criticality: 'criticality: reject (0)'\\nper.open_type_length: 'Open Type Length: 167'\\nngap.value_element:\\n-   ngap.InitialContextSetupRequest_element:\\n        per.extension_bit: '0... .... Extension Bit: False'\\n        per.sequence_of_length: 'Sequence-Of Length: 9'\\n        ngap.protocolIEs:\\n            'Item 0: id-AMF-UE-NGAP-ID':\\n                ngap.id: 'id: id-AMF-UE-NGAP-ID (10)'\\n                per.enum_index: 'Enumerated Index: 0'\\n                ngap.criticality: 'criticality: reject (0)'\\n                per.open_type_length: 'Open Type Length: 2'\\n                ngap.value_element:\\n                    ngap.AMF_UE_NGAP_ID: 'AMF-UE-NGAP-ID: 1'\\n            'Item 1: id-RAN-UE-NGAP-ID':\\n                ngap.id: 'id: id-RAN-UE-NGAP-ID (85)'\\n                per.enum_index: 'Enumerated Index: 0'\\n                ngap.criticality: 'criticality: reject (0)'\\n                per.open_type_length: 'Open Type Length: 2'\\n                ngap.value_element:\\n                    ngap.RAN_UE_NGAP_ID: 'RAN-UE-NGAP-ID: 1'\\n            'Item 2: id-GUAMI':\\n                ngap.id: 'id: id-GUAMI (28)'\\n                per.enum_index: 'Enumerated Index: 0'\\n                ngap.criticality: 'criticality: reject (0)'\\n                per.open_type_length: 'Open Type Length: 7'\\n                ngap.value_element:\\n                    ngap.GUAMI_element:\\n                        per.extension_bit: '0... .... Extension Bit: False'\\n                        per.optional_field_bit: '.0.. .... Optional Field Bit: False (iE-Extensions is NOT present)'\\n                        ngap.pLMNIdentity:\\n                            e212.guami.mcc: 'Mobile Country Code (MCC): France (208)'\\n                            e212.guami.mnc: 'Mobile Network Code (MNC): Thales communications & Security (93)'\\n                        ngap.aMFRegionID: 'aMFRegionID: ca [bit length 8, 1100 1010 decimal value 202]'\\n                        ngap.aMFSetID: 'aMFSetID: fe00 [bit length 10, 6 LSB pad bits, 1111 1110  00.. .... decimal value 1016]'\\n                        ngap.aMFPointer: 'aMFPointer: 00 [bit length 6, 2 LSB pad bits, 0000 00.. decimal value 0]'\\n            'Item 3: id-AllowedNSSAI':\\n                ngap.id: 'id: id-AllowedNSSAI (0)'\\n                per.enum_index: 'Enumerated Index: 0'\\n                ngap.criticality: 'criticality: reject (0)'\\n                per.open_type_length: 'Open Type Length: 10'\\n                ngap.value_element:\\n                    per.sequence_of_length: 'Sequence-Of Length: 2'\\n                    ngap.AllowedNSSAI:\\n                        Item 0:\\n                            ngap.AllowedNSSAI_Item_element:\\n                                per.extension_bit: '...0 .... Extension Bit: False'\\n                                per.optional_field_bit: '.... 0... Optional Field Bit: False (iE-Extensions is NOT present)'\\n                                ngap.s_NSSAI_element:\\n                                    per.extension_bit: '.... .0.. Extension Bit: False'\\n                                    per.optional_field_bit: '.... ..1. Optional Field Bit: True (sD is present)'\\n                                    per.optional_field_bit (2): '.... ...0 Optional Field Bit: False (iE-Extensions is NOT present)'\\n                                    ngap.sST: 'sST: 01'\\n                                    ngap.sD: 'sD: 010203'\\n                        Item 1:\\n                            ngap.AllowedNSSAI_Item_element:\\n                                per.extension_bit: '0... .... Extension Bit: False'\\n                                per.optional_field_bit: '.0.. .... Optional Field Bit: False (iE-Extensions is NOT present)'\\n                                ngap.s_NSSAI_element:\\n                                    per.extension_bit: '..0. .... Extension Bit: False'\\n                                    per.optional_field_bit: '...1 .... Optional Field Bit: True (sD is present)'\\n                                    per.optional_field_bit (2): '.... 0... Optional Field Bit: False (iE-Extensions is NOT present)'\\n                                    ngap.sST: 'sST: 01'\\n                                    ngap.sD: 'sD: 112233'\\n            'Item 4: id-UESecurityCapabilities':\\n                ngap.id: 'id: id-UESecurityCapabilities (119)'\\n                per.enum_index: 'Enumerated Index: 0'\\n                ngap.criticality: 'criticality: reject (0)'\\n                per.open_type_length: 'Open Type Length: 9'\\n                ngap.value_element:\\n                    ngap.UESecurityCapabilities_element:\\n                        per.extension_bit: '0... .... Extension Bit: False'\\n                        per.optional_field_bit: '.0.. .... Optional Field Bit: False (iE-Extensions is NOT present)'\\n                        per.extension_present_bit: '..0. .... Extension Present Bit: False'\\n                        ngap.nRencryptionAlgorithms:\\n                            ngap.NrencryptionAlgorithms.nea1: '1... .... .... .... = 128-NEA1: Supported'\\n                            ngap.NrencryptionAlgorithms.nea2: '.1.. .... .... .... = 128-NEA2: Supported'\\n                            ngap.NrencryptionAlgorithms.nea3: '..1. .... .... .... = 128-NEA3: Supported'\\n                            ngap.NrencryptionAlgorithms.reserved: '...1 1110 0000 0000 = Reserved: 0x1e00'\\n                        per.extension_present_bit (2): '...0 .... Extension Present Bit: False'\\n                        ngap.nRintegrityProtectionAlgorithms:\\n                            ngap.NrintegrityProtectionAlgorithms.nia1: '1... .... .... .... = 128-NIA1: Supported'\\n                            ngap.NrintegrityProtectionAlgorithms.nia2: '.1.. .... .... .... = 128-NIA2: Supported'\\n                            ngap.NrintegrityProtectionAlgorithms.nia3: '..1. .... .... .... = 128-NIA3: Supported'\\n                            ngap.NrintegrityProtectionAlgorithms.reserved: '...1 1110 0000 0000 = Reserved: 0x1e00'\\n                        per.extension_present_bit (3): '.... 0... Extension Present Bit: False'\\n                        ngap.eUTRAencryptionAlgorithms:\\n                            ngap.EUTRAencryptionAlgorithms.eea1: '1... .... .... .... = 128-EEA1: Supported'\\n                            ngap.EUTRAencryptionAlgorithms.eea2: '.1.. .... .... .... = 128-EEA2: Supported'\\n                            ngap.EUTRAencryptionAlgorithms.eea3: '..1. .... .... .... = 128-EEA3: Supported'\\n                            ngap.EUTRAencryptionAlgorithms.reserved: '...1 1110 0000 0000 = Reserved: 0x1e00'\\n                        per.extension_present_bit (4): '.... .0.. Extension Present Bit: False'\\n                        ngap.eUTRAintegrityProtectionAlgorithms:\\n                            ngap.EUTRAintegrityProtectionAlgorithms.eia1: '1... .... .... .... = 128-EIA1: Supported'\\n                            ngap.EUTRAintegrityProtectionAlgorithms.eia2: '.1.. .... .... .... = 128-EIA2: Supported'\\n                            ngap.EUTRAintegrityProtectionAlgorithms.eia3: '..1. .... .... .... = 128-EIA3: Supported'\\n                            ngap.EUTRAintegrityProtectionAlgorithms.reserved: '...1 1110 0000 0000 = Reserved: 0x1e00'\\n            'Item 5: id-SecurityKey':\\n                ngap.id: 'id: id-SecurityKey (94)'\\n                per.enum_index: 'Enumerated Index: 0'\\n                ngap.criticality: 'criticality: reject (0)'\\n                per.open_type_length: 'Open Type Length: 32'\\n                ngap.value_element:\\n                    ngap.SecurityKey: 'SecurityKey: d45014e49272262d6d5926191b6ca3628cbbd4cd50c80868dca2d090692b538c [bit length 256]'\\n            'Item 6: id-MobilityRestrictionList':\\n                ngap.id: 'id: id-MobilityRestrictionList (36)'\\n                per.enum_index: 'Enumerated Index: 1'\\n                ngap.criticality: 'criticality: ignore (1)'\\n                per.open_type_length: 'Open Type Length: 4'\\n                ngap.value_element:\\n                    ngap.MobilityRestrictionList_element:\\n                        per.extension_bit: '0... .... Extension Bit: False'\\n                        per.optional_field_bit: '.0.. .... Optional Field Bit: False (equivalentPLMNs is NOT present)'\\n                        per.optional_field_bit (2): '..0. .... Optional Field Bit: False (rATRestrictions is NOT present)'\\n                        per.optional_field_bit (3): '...0 .... Optional Field Bit: False (forbiddenAreaInformation is NOT present)'\\n                        per.optional_field_bit (4): '.... 0... Optional Field Bit: False (serviceAreaInformation is NOT present)'\\n                        per.optional_field_bit (5): '.... .0.. Optional Field Bit: False (iE-Extensions is NOT present)'\\n                        ngap.servingPLMN:\\n                            e212.mcc: 'Mobile Country Code (MCC): France (208)'\\n                            e212.mnc: 'Mobile Network Code (MNC): Thales communications & Security (93)'\\n            'Item 7: id-MaskedIMEISV':\\n                ngap.id: 'id: id-MaskedIMEISV (34)'\\n                per.enum_index: 'Enumerated Index: 1'\\n                ngap.criticality: 'criticality: ignore (1)'\\n                per.open_type_length: 'Open Type Length: 8'\\n                ngap.value_element:\\n                    ngap.MaskedIMEISV: 'MaskedIMEISV: 1110000000ffff00 [bit length 64, 0001 0001  0001 0000  0000 0000  0000 0000  0000 0000  1111 1111  1111 1111  0000 0000 decimal value 1229482698288922368]'\\n            'Item 8: id-NAS-PDU':\\n                ngap.id: 'id: id-NAS-PDU (38)'\\n                per.enum_index: 'Enumerated Index: 1'\\n                ngap.criticality: 'criticality: ignore (1)'\\n                per.open_type_length: 'Open Type Length: 54'\\n                ngap.value_element:\\n                    per.octet_string_length: 'Octet String Length: 53'\\n                    ngap.NAS_PDU:\\n                        nas-5gs:\\n                            Security protected NAS 5GS message:\\n                                nas_5gs.epd: 'Extended protocol discriminator: 5G mobility management messages (126)'\\n                                nas_5gs.spare_half_octet: '0000 .... = Spare Half Octet: 0'\\n                                nas_5gs.security_header_type: '.... 0010 = Security header type: Integrity protected and ciphered (2)'\\n                                nas_5gs.msg_auth_code: 'Message authentication code: 0xd073aba4'\\n                                nas_5gs.seq_no: 'Sequence number: 1'\\n                            Plain NAS 5GS Message:\\n                                nas_5gs.epd: 'Extended protocol discriminator: 5G mobility management messages (126)'\\n                                nas_5gs.spare_half_octet: '0000 .... = Spare Half Octet: 0'\\n                                nas_5gs.security_header_type: '.... 0010 = Security header type: Integrity protected and ciphered (2)'\\n                                nas_5gs.mm.message_type: 'Message type: Registration accept (0x42)'\\n                                5GS registration result:\\n                                    gsm_a.len: 'Length: 1'\\n                                    nas_5gs.mm.reg_res.emergency_reg: '..0. .... = Emergency registered: Not registered for emergency services'\\n                                    nas_5gs.mm.reg_res.nssaa_perf: '...0 .... = NSSAA Performed: Network slice-specific authentication and authorization is not to be performed'\\n                                    nas_5gs.mm.reg_res.sms_all: '.... 0... = SMS over NAS: Not Allowed'\\n                                    nas_5gs.mm.reg_res.res: '.... .001 = 5GS registration result: 3GPP access (1)'\\n                                5GS mobile identity - 5G-GUTI:\\n                                    nas_5gs.mm.elem_id: 'Element ID: 0x77'\\n                                    gsm_a.len: 'Length: 11'\\n                                    nas_5gs.spare_b7: '0... .... = Spare: 0'\\n                                    nas_5gs.spare_b6: '.0.. .... = Spare: 0'\\n                                    nas_5gs.spare_b5: '..0. .... = Spare: 0'\\n                                    nas_5gs.spare_b4: '...0 .... = Spare: 0'\\n                                    nas_5gs.spare_b3: '.... 0... = Spare: 0'\\n                                    nas_5gs.mm.type_id: '.... .010 = Type of identity: 5G-GUTI (2)'\\n                                    e212.guami.mcc: 'Mobile Country Code (MCC): France (208)'\\n                                    e212.guami.mnc: 'Mobile Network Code (MNC): Thales communications & Security (93)'\\n                                    nas_5gs.amf_region_id: 'AMF Region ID: 202'\\n                                    nas_5gs.amf_set_id: '1111 1110 00.. .... = AMF Set ID: 1016'\\n                                    nas_5gs.amf_pointer: '..00 0000 = AMF Pointer: 0'\\n                                    nas_5gs.5g_tmsi: '5G-TMSI: 1 (0x00000001)'\\n                                    3gpp.tmsi: 'TMSI/P-TMSI/M-TMSI/5G-TMSI: 1 (0x00000001)'\\n                                5GS tracking area identity list:\\n                                    nas_5gs.mm.elem_id: 'Element ID: 0x54'\\n                                    gsm_a.len: 'Length: 7'\\n                                    Partial tracking area list  1:\\n                                        nas_5gs.mm.tal_t_li: '.00. .... = Type of list: list of TACs belonging to one PLMN or SNPN, with non-consecutive TAC values (0)'\\n                                        nas_5gs.mm.tal_num_e: '...0 0000 = Number of elements: 1 element (0)'\\n                                        e212.5gstai.mcc: 'Mobile Country Code (MCC): France (208)'\\n                                        e212.5gstai.mnc: 'Mobile Network Code (MNC): Thales communications & Security (93)'\\n                                        nas_5gs.tac: 'TAC: 1'\\n                                NSSAI - Allowed NSSAI:\\n                                    nas_5gs.mm.elem_id: 'Element ID: 0x15'\\n                                    gsm_a.len: 'Length: 10'\\n                                    S-NSSAI 1:\\n                                        nas_5gs.mm.length: 'Length: 4'\\n                                        nas_5gs.mm.sst: 'Slice/service type (SST): eMBB (1)'\\n                                        nas_5gs.mm.mm_sd: 'Slice differentiator (SD): 66051'\\n                                    S-NSSAI 2:\\n                                        nas_5gs.mm.length: 'Length: 4'\\n                                        nas_5gs.mm.sst: 'Slice/service type (SST): eMBB (1)'\\n                                        nas_5gs.mm.mm_sd: 'Slice differentiator (SD): 1122867'\\n                                GPRS Timer 3 - T3512 value:\\n                                    gsm_a.gm.elem_id: 'Element ID: 0x5e'\\n                                    gsm_a.len: 'Length: 1'\\n                                    gsm_a.gm.gmm.gprs_timer3:\\n                                        gsm_a.gm.gmm.gprs_timer3_unit: '000. .... = Unit: value is incremented in multiples of 10 minutes (0)'\\n                                        gsm_a.gm.gmm.gprs_timer3_value: '...0 0110 = Timer value: 6'\\n                                GPRS Timer 2 - T3502 value:\\n                                    gsm_a.gm.elem_id: 'Element ID: 0x16'\\n                                    gsm_a.len: 'Length: 1'\\n                                    gsm_a.gm.gmm.gprs_timer2:\\n                                        gsm_a.gm.gmm.gprs_timer2_unit: '001. .... = Unit: value is incremented in multiples of 1 minute (1)'\\n                                        gsm_a.gm.gmm.gprs_timer2_value: '...0 1100 = Timer value: 12'\\n\", timestamp=1591863461.4133434, timestamp_offsett=1.5206434726715088), PacketDescription(ip_src='127.0.0.1', ip_dst='127.0.0.1', frame_number='174', protocols_str='NGAP', msg_description=\"NGAP-PDU: 200e000f000002000a40020001005540020001\\nngap.procedureCode: 'procedureCode: id-InitialContextSetup (14)'\\nper.enum_index: 'Enumerated Index: 0'\\nngap.criticality: 'criticality: reject (0)'\\nper.open_type_length: 'Open Type Length: 15'\\nngap.value_element:\\n-   ngap.InitialContextSetupResponse_element:\\n        per.extension_bit: '0... .... Extension Bit: False'\\n        per.sequence_of_length: 'Sequence-Of Length: 2'\\n        ngap.protocolIEs:\\n            'Item 0: id-AMF-UE-NGAP-ID':\\n                ngap.id: 'id: id-AMF-UE-NGAP-ID (10)'\\n                per.enum_index: 'Enumerated Index: 1'\\n                ngap.criticality: 'criticality: ignore (1)'\\n                per.open_type_length: 'Open Type Length: 2'\\n                ngap.value_element:\\n                    ngap.AMF_UE_NGAP_ID: 'AMF-UE-NGAP-ID: 1'\\n            'Item 1: id-RAN-UE-NGAP-ID':\\n                ngap.id: 'id: id-RAN-UE-NGAP-ID (85)'\\n                per.enum_index: 'Enumerated Index: 1'\\n                ngap.criticality: 'criticality: ignore (1)'\\n                per.open_type_length: 'Open Type Length: 2'\\n                ngap.value_element:\\n                    ngap.RAN_UE_NGAP_ID: 'RAN-UE-NGAP-ID: 1'\\n\", timestamp=1591863461.422216, timestamp_offsett=1.5295159816741943), PacketDescription(ip_src='127.0.0.1', ip_dst='127.0.0.1', frame_number='175', protocols_str='NGAP', msg_description=\"NGAP-PDU: 002e4031000004000a000200010055000200010026000b0a7e022cc32224017e00430079400f4002f839000000001002f839000001\\nngap.procedureCode: 'procedureCode: id-UplinkNASTransport (46)'\\nper.enum_index: 'Enumerated Index: 1'\\nngap.criticality: 'criticality: ignore (1)'\\nper.open_type_length: 'Open Type Length: 49'\\nngap.value_element:\\n-   ngap.UplinkNASTransport_element:\\n        per.extension_bit: '0... .... Extension Bit: False'\\n        per.sequence_of_length: 'Sequence-Of Length: 4'\\n        ngap.protocolIEs:\\n            'Item 0: id-AMF-UE-NGAP-ID':\\n                ngap.id: 'id: id-AMF-UE-NGAP-ID (10)'\\n                per.enum_index: 'Enumerated Index: 0'\\n                ngap.criticality: 'criticality: reject (0)'\\n                per.open_type_length: 'Open Type Length: 2'\\n                ngap.value_element:\\n                    ngap.AMF_UE_NGAP_ID: 'AMF-UE-NGAP-ID: 1'\\n            'Item 1: id-RAN-UE-NGAP-ID':\\n                ngap.id: 'id: id-RAN-UE-NGAP-ID (85)'\\n                per.enum_index: 'Enumerated Index: 0'\\n                ngap.criticality: 'criticality: reject (0)'\\n                per.open_type_length: 'Open Type Length: 2'\\n                ngap.value_element:\\n                    ngap.RAN_UE_NGAP_ID: 'RAN-UE-NGAP-ID: 1'\\n            'Item 2: id-NAS-PDU':\\n                ngap.id: 'id: id-NAS-PDU (38)'\\n                per.enum_index: 'Enumerated Index: 0'\\n                ngap.criticality: 'criticality: reject (0)'\\n                per.open_type_length: 'Open Type Length: 11'\\n                ngap.value_element:\\n                    per.octet_string_length: 'Octet String Length: 10'\\n                    ngap.NAS_PDU:\\n                        nas-5gs:\\n                            Security protected NAS 5GS message:\\n                                nas_5gs.epd: 'Extended protocol discriminator: 5G mobility management messages (126)'\\n                                nas_5gs.spare_half_octet: '0000 .... = Spare Half Octet: 0'\\n                                nas_5gs.security_header_type: '.... 0010 = Security header type: Integrity protected and ciphered (2)'\\n                                nas_5gs.msg_auth_code: 'Message authentication code: 0x2cc32224'\\n                                nas_5gs.seq_no: 'Sequence number: 1'\\n                            Plain NAS 5GS Message:\\n                                nas_5gs.epd: 'Extended protocol discriminator: 5G mobility management messages (126)'\\n                                nas_5gs.spare_half_octet: '0000 .... = Spare Half Octet: 0'\\n                                nas_5gs.security_header_type: '.... 0000 = Security header type: Plain NAS message, not security protected (0)'\\n                                nas_5gs.mm.message_type: 'Message type: Registration complete (0x43)'\\n            'Item 3: id-UserLocationInformation':\\n                ngap.id: 'id: id-UserLocationInformation (121)'\\n                per.enum_index: 'Enumerated Index: 1'\\n                ngap.criticality: 'criticality: ignore (1)'\\n                per.open_type_length: 'Open Type Length: 15'\\n                ngap.value_element:\\n                    per.choice_index: 'Choice Index: 1'\\n                    ngap.UserLocationInformation:\\n                        ngap.userLocationInformationNR_element:\\n                            per.extension_bit: '..0. .... Extension Bit: False'\\n                            per.optional_field_bit: '...0 .... Optional Field Bit: False (timeStamp is NOT present)'\\n                            per.optional_field_bit (2): '.... 0... Optional Field Bit: False (iE-Extensions is NOT present)'\\n                            ngap.nR_CGI_element:\\n                                per.extension_bit: '.... .0.. Extension Bit: False'\\n                                per.optional_field_bit: '.... ..0. Optional Field Bit: False (iE-Extensions is NOT present)'\\n                                ngap.pLMNIdentity:\\n                                    e212.nrcgi.mcc: 'Mobile Country Code (MCC): France (208)'\\n                                    e212.nrcgi.mnc: 'Mobile Network Code (MNC): Thales communications & Security (93)'\\n                                ngap.NRCellIdentity: 'nRCellIdentity: 0x0000000001'\\n                            ngap.tAI_element:\\n                                per.extension_bit: '.... 0... Extension Bit: False'\\n                                per.optional_field_bit: '.... .0.. Optional Field Bit: False (iE-Extensions is NOT present)'\\n                                ngap.pLMNIdentity:\\n                                    e212.5gstai.mcc: 'Mobile Country Code (MCC): France (208)'\\n                                    e212.5gstai.mnc: 'Mobile Network Code (MNC): Thales communications & Security (93)'\\n                                ngap.tAC: 'tAC: 1 (0x000001)'\\n\\nNGAP-PDU: 002e404f000004000a0002000100550002000100260029287e02734b75b0027e00670100072e0a00c1ffff91120a81220401010203250908696e7465726e65740079400f4002f839000000001002f839000001\\nngap.procedureCode: 'procedureCode: id-UplinkNASTransport (46)'\\nper.enum_index: 'Enumerated Index: 1'\\nngap.criticality: 'criticality: ignore (1)'\\nper.open_type_length: 'Open Type Length: 79'\\nngap.value_element:\\n-   ngap.UplinkNASTransport_element:\\n        per.extension_bit: '0... .... Extension Bit: False'\\n        per.sequence_of_length: 'Sequence-Of Length: 4'\\n        ngap.protocolIEs:\\n            'Item 0: id-AMF-UE-NGAP-ID':\\n                ngap.id: 'id: id-AMF-UE-NGAP-ID (10)'\\n                per.enum_index: 'Enumerated Index: 0'\\n                ngap.criticality: 'criticality: reject (0)'\\n                per.open_type_length: 'Open Type Length: 2'\\n                ngap.value_element:\\n                    ngap.AMF_UE_NGAP_ID: 'AMF-UE-NGAP-ID: 1'\\n            'Item 1: id-RAN-UE-NGAP-ID':\\n                ngap.id: 'id: id-RAN-UE-NGAP-ID (85)'\\n                per.enum_index: 'Enumerated Index: 0'\\n                ngap.criticality: 'criticality: reject (0)'\\n                per.open_type_length: 'Open Type Length: 2'\\n                ngap.value_element:\\n                    ngap.RAN_UE_NGAP_ID: 'RAN-UE-NGAP-ID: 1'\\n            'Item 2: id-NAS-PDU':\\n                ngap.id: 'id: id-NAS-PDU (38)'\\n                per.enum_index: 'Enumerated Index: 0'\\n                ngap.criticality: 'criticality: reject (0)'\\n                per.open_type_length: 'Open Type Length: 41'\\n                ngap.value_element:\\n                    per.octet_string_length: 'Octet String Length: 40'\\n                    ngap.NAS_PDU:\\n                        nas-5gs:\\n                            Security protected NAS 5GS message:\\n                                nas_5gs.epd: 'Extended protocol discriminator: 5G mobility management messages (126)'\\n                                nas_5gs.spare_half_octet: '0000 .... = Spare Half Octet: 0'\\n                                nas_5gs.security_header_type: '.... 0010 = Security header type: Integrity protected and ciphered (2)'\\n                                nas_5gs.msg_auth_code: 'Message authentication code: 0x734b75b0'\\n                                nas_5gs.seq_no: 'Sequence number: 2'\\n                            Plain NAS 5GS Message:\\n                                nas_5gs.epd: 'Extended protocol discriminator: 5G mobility management messages (126)'\\n                                nas_5gs.spare_half_octet: '0000 .... = Spare Half Octet: 0'\\n                                nas_5gs.security_header_type: '.... 0000 = Security header type: Plain NAS message, not security protected (0)'\\n                                nas_5gs.mm.message_type: 'Message type: UL NAS transport (0x67)'\\n                                nas_5gs.spare_half_octet (2): '0000 .... = Spare Half Octet: 0'\\n                                Payload container type:\\n                                    nas_5gs.mm.pld_cont_type: '.... 0001 = Payload container type: N1 SM information (1)'\\n                                Payload container:\\n                                    gsm_a.len: 'Length: 7'\\n                                    Plain NAS 5GS Message:\\n                                        nas_5gs.epd: 'Extended protocol discriminator: 5G session management messages (46)'\\n                                        nas_5gs.pdu_session_id: 'PDU session identity: PDU session identity value 10 (10)'\\n                                        nas_5gs.proc_trans_id: 'Procedure transaction identity: 0'\\n                                        nas_5gs.sm.message_type: 'Message type: PDU session establishment request (0xc1)'\\n                                        Integrity protection maximum data rate:\\n                                            nas_5gs.sm.int_prot_max_data_rate_ul: 'Integrity protection maximum data rate for uplink: Full data rate (255)'\\n                                            nas_5gs.sm.int_prot_max_data_rate_dl: 'Integrity protection maximum data rate for downlink: Full data rate (255)'\\n                                        PDU session type:\\n                                            gsm_a.common.elem_id: '1001 .... = Element ID: 0x9-'\\n                                            nas_5gs.sm.pdu_session_type: '.... .001 = PDU session type: IPv4 (1)'\\n                                PDU session identity 2 - PDU session ID:\\n                                    nas_5gs.mm.elem_id: 'Element ID: 0x12'\\n                                    nas_5gs.pdu_session_id: 'PDU session identity: PDU session identity value 10 (10)'\\n                                Request type:\\n                                    gsm_a.common.elem_id: '1000 .... = Element ID: 0x8-'\\n                                    nas_5gs.mm.req_type: '.... .001 = Request type: Initial request (1)'\\n                                S-NSSAI:\\n                                    nas_5gs.common.elem_id: 'Element ID: 0x22'\\n                                    gsm_a.len: 'Length: 4'\\n                                    nas_5gs.mm.sst: 'Slice/service type (SST): eMBB (1)'\\n                                    nas_5gs.mm.mm_sd: 'Slice differentiator (SD): 66051'\\n                                DNN:\\n                                    nas_5gs.common.elem_id: 'Element ID: 0x25'\\n                                    gsm_a.len: 'Length: 9'\\n                                    nas_5gs.cmn.dnn: 'DNN: internet'\\n            'Item 3: id-UserLocationInformation':\\n                ngap.id: 'id: id-UserLocationInformation (121)'\\n                per.enum_index: 'Enumerated Index: 1'\\n                ngap.criticality: 'criticality: ignore (1)'\\n                per.open_type_length: 'Open Type Length: 15'\\n                ngap.value_element:\\n                    per.choice_index: 'Choice Index: 1'\\n                    ngap.UserLocationInformation:\\n                        ngap.userLocationInformationNR_element:\\n                            per.extension_bit: '..0. .... Extension Bit: False'\\n                            per.optional_field_bit: '...0 .... Optional Field Bit: False (timeStamp is NOT present)'\\n                            per.optional_field_bit (2): '.... 0... Optional Field Bit: False (iE-Extensions is NOT present)'\\n                            ngap.nR_CGI_element:\\n                                per.extension_bit: '.... .0.. Extension Bit: False'\\n                                per.optional_field_bit: '.... ..0. Optional Field Bit: False (iE-Extensions is NOT present)'\\n                                ngap.pLMNIdentity:\\n                                    e212.nrcgi.mcc: 'Mobile Country Code (MCC): France (208)'\\n                                    e212.nrcgi.mnc: 'Mobile Network Code (MNC): Thales communications & Security (93)'\\n                                ngap.NRCellIdentity: 'nRCellIdentity: 0x0000000001'\\n                            ngap.tAI_element:\\n                                per.extension_bit: '.... 0... Extension Bit: False'\\n                                per.optional_field_bit: '.... .0.. Optional Field Bit: False (iE-Extensions is NOT present)'\\n                                ngap.pLMNIdentity:\\n                                    e212.5gstai.mcc: 'Mobile Country Code (MCC): France (208)'\\n                                    e212.5gstai.mnc: 'Mobile Network Code (MNC): Thales communications & Security (93)'\\n                                ngap.tAC: 'tAC: 1 (0x000001)'\\n\", timestamp=1591863461.6258428, timestamp_offsett=1.7331428527832031), PacketDescription(ip_src='10.200.200.1', ip_dst='10.200.200.101', frame_number='216', protocols_str='PFCP', msg_description=\"pfcp.flags:\\n-   pfcp.version: '001. .... = Version: 1'\\n    pfcp.spare_b4: '...0 .... = Spare: 0'\\n    pfcp.spare_b3: '.... 0... = Spare: 0'\\n    pfcp.fo_flag: '.... .0.. = Follow On (FO): False'\\n    pfcp.mp_flag: '.... ..1. = Message Priority (MP): True'\\n    pfcp.s: '.... ...1 = SEID (S): True'\\npfcp.msg_type: 'Message Type: PFCP Session Establishment Request (50)'\\npfcp.length: 'Length: 201'\\npfcp.seid: 'SEID: 0x0000000000000000'\\npfcp.seqno: 'Sequence Number: 2'\\npfcp.mp: '.... .... .... .... 0000 .... = Message Priority: 0'\\npfcp.spare_h0: '.... 0000 = Spare: 0'\\n'Node ID : IPv4 address: 10.200.200.1':\\n-   pfcp.ie_type: 'IE Type: Node ID (60)'\\n    pfcp.ie_len: 'IE Length: 5'\\n    pfcp.spare_h1: '0000 .... = Spare: 0'\\n    pfcp.node_id_type: '.... 0000 = Address Type: IPv4 address (0)'\\n    pfcp.node_id_ipv4: 'IPv4: 10.200.200.1'\\n'F-SEID : SEID: 0x0000000000000001, IPv4 10.200.200.1':\\n-   pfcp.ie_type: 'IE Type: F-SEID (57)'\\n    pfcp.ie_len: 'IE Length: 13'\\n    pfcp.f_seid_flags:\\n        pfcp.spare_b7: '0... .... = Spare: 0'\\n        pfcp.spare_b6: '.0.. .... = Spare: 0'\\n        pfcp.spare_b5: '..0. .... = Spare: 0'\\n        pfcp.spare_b4: '...0 .... = Spare: 0'\\n        pfcp.spare_b3: '.... 0... = Spare: 0'\\n        pfcp.spare_b2: '.... .0.. = Spare: 0'\\n        pfcp.f_seid_flags.v4: '.... ..1. = V4 (IPv4): Present'\\n        pfcp.f_seid_flags.v6: '.... ...0 = V6 (IPv6): Not Present'\\n    pfcp.seid: 'SEID: 0x0000000000000001'\\n    pfcp.f_seid.ipv4: 'IPv4 address: 10.200.200.1'\\n'Create PDR : [Grouped IE]: PDR ID: 1':\\n-   pfcp.ie_type: 'IE Type: Create PDR (1)'\\n    pfcp.ie_len: 'IE Length: 63'\\n    'PDR ID : 1':\\n        pfcp.ie_type: 'IE Type: PDR ID (56)'\\n        pfcp.ie_len: 'IE Length: 2'\\n        pfcp.pdr_id: 'Rule ID: 1'\\n    'Precedence : 32':\\n        pfcp.ie_type: 'IE Type: Precedence (29)'\\n        pfcp.ie_len: 'IE Length: 4'\\n        pfcp.precedence: 'Precedence: 32'\\n    'PDI : [Grouped IE]':\\n        pfcp.ie_type: 'IE Type: PDI (2)'\\n        pfcp.ie_len: 'IE Length: 32'\\n        'Source Interface : Access':\\n            pfcp.ie_type: 'IE Type: Source Interface (20)'\\n            pfcp.ie_len: 'IE Length: 1'\\n            pfcp.spare_h1: '0000 .... = Spare: 0'\\n            pfcp.source_interface: '.... 0000 = Source Interface: Access (0)'\\n        'F-TEID : TEID: 0x00000001, IPv4 10.200.200.102':\\n            pfcp.ie_type: 'IE Type: F-TEID (21)'\\n            pfcp.ie_len: 'IE Length: 9'\\n            pfcp.f_teid_flags:\\n                pfcp.fteid_flg.spare: '0000 .... = Spare: 0'\\n                pfcp.f_teid_flags.ch_id: '.... 0... = CHID (CHOOSE_ID): False'\\n                pfcp.f_teid_flags.ch: '.... .0.. = CH (CHOOSE): False'\\n                pfcp.f_teid_flags.v6: '.... ..0. = V6 (IPv6): Not Present'\\n                pfcp.f_teid_flags.v4: '.... ...1 = V4 (IPv4): Present'\\n            pfcp.f_teid.teid: 'TEID: 0x00000001'\\n            pfcp.f_teid.ipv4_addr: 'IPv4 address: 10.200.200.102'\\n        'Network Instance : ':\\n            pfcp.ie_type: 'IE Type: Network Instance (22)'\\n            pfcp.ie_len: 'IE Length: 1'\\n            pfcp.network_instance: 'Network Instance: '\\n        'UE IP Address : ':\\n            pfcp.ie_type: 'IE Type: UE IP Address (93)'\\n            pfcp.ie_len: 'IE Length: 5'\\n            pfcp.ue_ip_address_flags:\\n                pfcp.spare_b7: '0... .... = Spare: 0'\\n                pfcp.ue_ip_address_flag.v6pl: '.0.. .... = IPV6PL: Source IP address'\\n                pfcp.ue_ip_address_flag.chv6: '..0. .... = CHV6: Source IP address'\\n                pfcp.ue_ip_address_flag.chv4: '...0 .... = CHV4: Source IP address'\\n                pfcp.ue_ip_address_flag.v6d: '.... 0... = IPv6D: Source IP address'\\n                pfcp.ue_ip_address_flag.sd: '.... .0.. = S/D: Source IP address'\\n                pfcp.ue_ip_address_flag.v4: '.... ..1. = V4 (IPv4): Present'\\n                pfcp.ue_ip_address_flag.v6: '.... ...0 = V6 (IPv6): Not Present'\\n            pfcp.ue_ip_addr_ipv4: 'IPv4 address: 60.60.0.1'\\n    'Outer Header Removal : GTP-U/UDP/IPv4':\\n        pfcp.ie_type: 'IE Type: Outer Header Removal (95)'\\n        pfcp.ie_len: 'IE Length: 1'\\n        pfcp.out_hdr_desc: 'Outer Header Removal Description: GTP-U/UDP/IPv4 (0)'\\n    'FAR ID : Dynamic by CP 1':\\n        pfcp.ie_type: 'IE Type: FAR ID (108)'\\n        pfcp.ie_len: 'IE Length: 4'\\n        pfcp.far_id_flg: '0... .... .... .... .... .... .... .... = Allocation type: Dynamic by CP'\\n        pfcp.far_id: '.000 0000 0000 0000 0000 0000 0000 0001 = FAR ID: 1'\\n'Create PDR : [Grouped IE]: PDR ID: 2':\\n-   pfcp.ie_type: 'IE Type: Create PDR (1)'\\n    pfcp.ie_len: 'IE Length: 53'\\n    'PDR ID : 2':\\n        pfcp.ie_type: 'IE Type: PDR ID (56)'\\n        pfcp.ie_len: 'IE Length: 2'\\n        pfcp.pdr_id: 'Rule ID: 2'\\n    'Precedence : 32':\\n        pfcp.ie_type: 'IE Type: Precedence (29)'\\n        pfcp.ie_len: 'IE Length: 4'\\n        pfcp.precedence: 'Precedence: 32'\\n    'PDI : [Grouped IE]':\\n        pfcp.ie_type: 'IE Type: PDI (2)'\\n        pfcp.ie_len: 'IE Length: 27'\\n        'Source Interface : Core':\\n            pfcp.ie_type: 'IE Type: Source Interface (20)'\\n            pfcp.ie_len: 'IE Length: 1'\\n            pfcp.spare_h1: '0000 .... = Spare: 0'\\n            pfcp.source_interface: '.... 0001 = Source Interface: Core (1)'\\n        'Network Instance : internet':\\n            pfcp.ie_type: 'IE Type: Network Instance (22)'\\n            pfcp.ie_len: 'IE Length: 9'\\n            pfcp.network_instance: 'Network Instance: internet'\\n        'UE IP Address : ':\\n            pfcp.ie_type: 'IE Type: UE IP Address (93)'\\n            pfcp.ie_len: 'IE Length: 5'\\n            pfcp.ue_ip_address_flags:\\n                pfcp.spare_b7: '0... .... = Spare: 0'\\n                pfcp.ue_ip_address_flag.v6pl: '.0.. .... = IPV6PL: Source IP address'\\n                pfcp.ue_ip_address_flag.chv6: '..0. .... = CHV6: Source IP address'\\n                pfcp.ue_ip_address_flag.chv4: '...0 .... = CHV4: Source IP address'\\n                pfcp.ue_ip_address_flag.v6d: '.... 0... = IPv6D: Source IP address'\\n                pfcp.ue_ip_address_flag.sd: '.... .0.. = S/D: Source IP address'\\n                pfcp.ue_ip_address_flag.v4: '.... ..1. = V4 (IPv4): Present'\\n                pfcp.ue_ip_address_flag.v6: '.... ...0 = V6 (IPv6): Not Present'\\n            pfcp.ue_ip_addr_ipv4: 'IPv4 address: 60.60.0.1'\\n    'FAR ID : Dynamic by CP 2':\\n        pfcp.ie_type: 'IE Type: FAR ID (108)'\\n        pfcp.ie_len: 'IE Length: 4'\\n        pfcp.far_id_flg: '0... .... .... .... .... .... .... .... = Allocation type: Dynamic by CP'\\n        pfcp.far_id: '.000 0000 0000 0000 0000 0000 0000 0010 = FAR ID: 2'\\n'Create FAR : [Grouped IE]: FAR ID: Dynamic by CP 1':\\n-   pfcp.ie_type: 'IE Type: Create FAR (3)'\\n    pfcp.ie_len: 'IE Length: 13'\\n    'FAR ID : Dynamic by CP 1':\\n        pfcp.ie_type: 'IE Type: FAR ID (108)'\\n        pfcp.ie_len: 'IE Length: 4'\\n        pfcp.far_id_flg: '0... .... .... .... .... .... .... .... = Allocation type: Dynamic by CP'\\n        pfcp.far_id: '.000 0000 0000 0000 0000 0000 0000 0001 = FAR ID: 1'\\n    'Apply Action : ':\\n        pfcp.ie_type: 'IE Type: Apply Action (44)'\\n        pfcp.ie_len: 'IE Length: 1'\\n        pfcp.apply_action.dfrt: '0... .... = DFRT (Duplicate for Redundant Transmission): False'\\n        pfcp.apply_action.ipmd: '.0.. .... = IPMD (IP Multicast Deny): False'\\n        pfcp.apply_action.ipma: '..0. .... = IPMA (IP Multicast Accept): False'\\n        pfcp.apply_action.dupl: '...0 .... = DUPL (Duplicate): False'\\n        pfcp.apply_action.nocp: '.... 0... = NOCP (Notify the CP function): False'\\n        pfcp.apply_action.buff: '.... .0.. = BUFF (Buffer): False'\\n        pfcp.apply_action.forw: '.... ..1. = FORW (Forward): True'\\n        pfcp.apply_action.drop: '.... ...0 = DROP (Drop): False'\\n'Create FAR : [Grouped IE]: FAR ID: Dynamic by CP 2':\\n-   pfcp.ie_type: 'IE Type: Create FAR (3)'\\n    pfcp.ie_len: 'IE Length: 13'\\n    'FAR ID : Dynamic by CP 2':\\n        pfcp.ie_type: 'IE Type: FAR ID (108)'\\n        pfcp.ie_len: 'IE Length: 4'\\n        pfcp.far_id_flg: '0... .... .... .... .... .... .... .... = Allocation type: Dynamic by CP'\\n        pfcp.far_id: '.000 0000 0000 0000 0000 0000 0000 0010 = FAR ID: 2'\\n    'Apply Action : ':\\n        pfcp.ie_type: 'IE Type: Apply Action (44)'\\n        pfcp.ie_len: 'IE Length: 1'\\n        pfcp.apply_action.dfrt: '0... .... = DFRT (Duplicate for Redundant Transmission): False'\\n        pfcp.apply_action.ipmd: '.0.. .... = IPMD (IP Multicast Deny): False'\\n        pfcp.apply_action.ipma: '..0. .... = IPMA (IP Multicast Accept): False'\\n        pfcp.apply_action.dupl: '...0 .... = DUPL (Duplicate): False'\\n        pfcp.apply_action.nocp: '.... 0... = NOCP (Notify the CP function): False'\\n        pfcp.apply_action.buff: '.... .0.. = BUFF (Buffer): False'\\n        pfcp.apply_action.forw: '.... ..1. = FORW (Forward): True'\\n        pfcp.apply_action.drop: '.... ...0 = DROP (Drop): False'\\n'PDN Type : IPv4':\\n-   pfcp.ie_type: 'IE Type: PDN Type (113)'\\n    pfcp.ie_len: 'IE Length: 1'\\n    pfcp.pdn_type: '.... .001 = PDN Type: IPv4 (1)'\\npfcp.response_in: 'Response In: 219'\\n\", timestamp=1591863461.729256, timestamp_offsett=1.8365559577941895), PacketDescription(ip_src='10.200.200.101', ip_dst='10.200.200.1', frame_number='219', protocols_str='PFCP', msg_description=\"pfcp.flags:\\n-   pfcp.version: '001. .... = Version: 1'\\n    pfcp.spare_b4: '...0 .... = Spare: 0'\\n    pfcp.spare_b3: '.... 0... = Spare: 0'\\n    pfcp.fo_flag: '.... .0.. = Follow On (FO): False'\\n    pfcp.mp_flag: '.... ..0. = Message Priority (MP): False'\\n    pfcp.s: '.... ...1 = SEID (S): True'\\npfcp.msg_type: 'Message Type: PFCP Session Establishment Response (51)'\\npfcp.length: 'Length: 59'\\npfcp.seid: 'SEID: 0x0000000000000001'\\npfcp.seqno: 'Sequence Number: 2'\\npfcp.spare_oct: 'Spare: 0'\\n'Node ID : IPv4 address: 10.200.200.101':\\n-   pfcp.ie_type: 'IE Type: Node ID (60)'\\n    pfcp.ie_len: 'IE Length: 5'\\n    pfcp.spare_h1: '1010 .... = Spare: 10'\\n    pfcp.node_id_type: '.... 0000 = Address Type: IPv4 address (0)'\\n    pfcp.node_id_ipv4: 'IPv4: 10.200.200.101'\\n'Cause : Request accepted(success)':\\n-   pfcp.ie_type: 'IE Type: Cause (19)'\\n    pfcp.ie_len: 'IE Length: 1'\\n    pfcp.cause: 'Cause: Request accepted(success) (1)'\\n'F-SEID : SEID: 0x0000000000000001, IPv4 10.200.200.101, IPv6 ::':\\n-   pfcp.ie_type: 'IE Type: F-SEID (57)'\\n    pfcp.ie_len: 'IE Length: 29'\\n    pfcp.f_seid_flags:\\n        pfcp.spare_b7: '0... .... = Spare: 0'\\n        pfcp.spare_b6: '.0.. .... = Spare: 0'\\n        pfcp.spare_b5: '..0. .... = Spare: 0'\\n        pfcp.spare_b4: '...0 .... = Spare: 0'\\n        pfcp.spare_b3: '.... 0... = Spare: 0'\\n        pfcp.spare_b2: '.... .0.. = Spare: 0'\\n        pfcp.f_seid_flags.v4: '.... ..1. = V4 (IPv4): Present'\\n        pfcp.f_seid_flags.v6: '.... ...1 = V6 (IPv6): Present'\\n    pfcp.seid: 'SEID: 0x0000000000000001'\\n    pfcp.f_seid.ipv4: 'IPv4 address: 10.200.200.101'\\n    pfcp.f_seid.ipv6: 'IPv6 address: ::'\\npfcp.response_to: 'Response To: 216'\\npfcp.response_time: 'Response Time: 0.000877706 seconds'\\n\", timestamp=1591863461.7301335, timestamp_offsett=1.8374335765838623), PacketDescription(ip_src='127.0.0.1', ip_dst='127.0.0.1', frame_number='228', protocols_str='NGAP', msg_description=\"NGAP-PDU: 001d006b000003000a00020001005500020001004a005800400a2d7e023a909f07027e006801001e2e0a00c21100090100063131010100090601e80301e8032905013c3c0001120a402001020321000003008b000a01f00ac8c8660000000100860001000088000700000000093800\\nngap.procedureCode: 'procedureCode: id-PDUSessionResourceSetup (29)'\\nper.enum_index: 'Enumerated Index: 0'\\nngap.criticality: 'criticality: reject (0)'\\nper.open_type_length: 'Open Type Length: 107'\\nngap.value_element:\\n-   ngap.PDUSessionResourceSetupRequest_element:\\n        per.extension_bit: '0... .... Extension Bit: False'\\n        per.sequence_of_length: 'Sequence-Of Length: 3'\\n        ngap.protocolIEs:\\n            'Item 0: id-AMF-UE-NGAP-ID':\\n                ngap.id: 'id: id-AMF-UE-NGAP-ID (10)'\\n                per.enum_index: 'Enumerated Index: 0'\\n                ngap.criticality: 'criticality: reject (0)'\\n                per.open_type_length: 'Open Type Length: 2'\\n                ngap.value_element:\\n                    ngap.AMF_UE_NGAP_ID: 'AMF-UE-NGAP-ID: 1'\\n            'Item 1: id-RAN-UE-NGAP-ID':\\n                ngap.id: 'id: id-RAN-UE-NGAP-ID (85)'\\n                per.enum_index: 'Enumerated Index: 0'\\n                ngap.criticality: 'criticality: reject (0)'\\n                per.open_type_length: 'Open Type Length: 2'\\n                ngap.value_element:\\n                    ngap.RAN_UE_NGAP_ID: 'RAN-UE-NGAP-ID: 1'\\n            'Item 2: id-PDUSessionResourceSetupListSUReq':\\n                ngap.id: 'id: id-PDUSessionResourceSetupListSUReq (74)'\\n                per.enum_index: 'Enumerated Index: 0'\\n                ngap.criticality: 'criticality: reject (0)'\\n                per.open_type_length: 'Open Type Length: 88'\\n                ngap.value_element:\\n                    per.sequence_of_length: 'Sequence-Of Length: 1'\\n                    ngap.PDUSessionResourceSetupListSUReq:\\n                        Item 0:\\n                            ngap.PDUSessionResourceSetupItemSUReq_element:\\n                                per.extension_bit: '0... .... Extension Bit: False'\\n                                per.optional_field_bit: '.1.. .... Optional Field Bit: True (pDUSessionNAS-PDU is present)'\\n                                per.optional_field_bit (2): '..0. .... Optional Field Bit: False (iE-Extensions is NOT present)'\\n                                ngap.pDUSessionID: 'pDUSessionID: 10'\\n                                per.octet_string_length: 'Octet String Length: 45'\\n                                ngap.pDUSessionNAS_PDU:\\n                                    nas-5gs:\\n                                        Security protected NAS 5GS message:\\n                                            nas_5gs.epd: 'Extended protocol discriminator: 5G mobility management messages (126)'\\n                                            nas_5gs.spare_half_octet: '0000 .... = Spare Half Octet: 0'\\n                                            nas_5gs.security_header_type: '.... 0010 = Security header type: Integrity protected and ciphered (2)'\\n                                            nas_5gs.msg_auth_code: 'Message authentication code: 0x3a909f07'\\n                                            nas_5gs.seq_no: 'Sequence number: 2'\\n                                        Plain NAS 5GS Message:\\n                                            nas_5gs.epd: 'Extended protocol discriminator: 5G mobility management messages (126)'\\n                                            nas_5gs.spare_half_octet: '0000 .... = Spare Half Octet: 0'\\n                                            nas_5gs.security_header_type: '.... 0000 = Security header type: Plain NAS message, not security protected (0)'\\n                                            nas_5gs.mm.message_type: 'Message type: DL NAS transport (0x68)'\\n                                            nas_5gs.spare_half_octet (2): '0000 .... = Spare Half Octet: 0'\\n                                            Payload container type:\\n                                                nas_5gs.mm.pld_cont_type: '.... 0001 = Payload container type: N1 SM information (1)'\\n                                            Payload container:\\n                                                gsm_a.len: 'Length: 30'\\n                                                Plain NAS 5GS Message:\\n                                                    nas_5gs.epd: 'Extended protocol discriminator: 5G session management messages (46)'\\n                                                    nas_5gs.pdu_session_id: 'PDU session identity: PDU session identity value 10 (10)'\\n                                                    nas_5gs.proc_trans_id: 'Procedure transaction identity: 0'\\n                                                    nas_5gs.sm.message_type: 'Message type: PDU session establishment accept (0xc2)'\\n                                                    nas_5gs.sm.sel_sc_mode: '.001 .... = Selected SSC mode: SSC mode 1 (1)'\\n                                                    PDU session type - Selected PDU session type:\\n                                                        nas_5gs.sm.pdu_session_type: '.... .001 = PDU session type: IPv4 (1)'\\n                                                    QoS rules - Authorized QoS rules:\\n                                                        gsm_a.len: 'Length: 9'\\n                                                        QoS rule 1:\\n                                                            nas_5gs.sm.qos_rule_id: 'QoS rule identifier: 1'\\n                                                            nas_5gs.sm.length: 'Length: 6'\\n                                                            nas_5gs.sm.rop: '001. .... = Rule operation code: Create new QoS rule (1)'\\n                                                            nas_5gs.sm.dqr: '...1 .... = DQR: The QoS rule is the default QoS rule'\\n                                                            nas_5gs.sm.nof_pkt_filters: '.... 0001 = Number of packet filters: 1'\\n                                                            Packet filter 1:\\n                                                                nas_5gs.sm.pkt_flt_dir: '..11 .... = Packet filter direction: Bidirectional (3)'\\n                                                                nas_5gs.sm.pkt_flt_id: '.... 0001 = Packet filter identifier: 1'\\n                                                                nas_5gs.sm.pf_len: 'Length: 1'\\n                                                                Packet filter component 1:\\n                                                                    nas_5gs.sm.pf_type: 'Packet filter component type: Match-all type (1)'\\n                                                            nas_5gs.sm.qos_rule_precedence: 'QoS rule precedence: 0'\\n                                                            nas_5gs.spare_b7: '0... .... = Spare: 0'\\n                                                            nas_5gs.spare_b6: '.0.. .... = Spare: 0'\\n                                                            nas_5gs.sm.qfi: '..00 1001 = Qos flow identifier: 9'\\n                                                    Session-AMBR:\\n                                                        gsm_a.len: 'Length: 6'\\n                                                        nas_5gs.sm.unit_for_session_ambr_dl: 'Unit for Session-AMBR for downlink: value is incremented in multiples of 1 Kbps (1)'\\n                                                        nas_5gs.sm.session_ambr_dl: 'Session-AMBR for downlink: 59395 Kbps (59395)'\\n                                                        nas_5gs.sm.unit_for_session_ambr_ul: 'Unit for Session-AMBR for uplink: value is incremented in multiples of 1 Kbps (1)'\\n                                                        nas_5gs.sm.session_ambr_ul: 'Session-AMBR for uplink: 59395 Kbps (59395)'\\n                                                    PDU address:\\n                                                        nas_5gs.sm.elem_id: 'Element ID: 0x29'\\n                                                        gsm_a.len: 'Length: 5'\\n                                                        nas_5gs.sm.si6lla: '.... 0... = SMF''s IPv6 link local address (SI6LLA): Absent'\\n                                                        nas_5gs.sm.pdu_ses_type: '.... .001 = PDU session type: IPv4 (1)'\\n                                                        nas_5gs.sm.pdu_addr_inf_ipv4: 'PDU address information: 60.60.0.1'\\n                                            PDU session identity 2 - PDU session ID:\\n                                                nas_5gs.mm.elem_id: 'Element ID: 0x12'\\n                                                nas_5gs.pdu_session_id: 'PDU session identity: PDU session identity value 10 (10)'\\n                                ngap.s_NSSAI_element:\\n                                    per.extension_bit: '0... .... Extension Bit: False'\\n                                    per.optional_field_bit: '.1.. .... Optional Field Bit: True (sD is present)'\\n                                    per.optional_field_bit (2): '..0. .... Optional Field Bit: False (iE-Extensions is NOT present)'\\n                                    ngap.sST: 'sST: 01'\\n                                    ngap.sD: 'sD: 010203'\\n                                per.octet_string_length (2): 'Octet String Length: 33'\\n                                ngap.pDUSessionResourceSetupRequestTransfer:\\n                                    ngap.PDUSessionResourceSetupRequestTransfer_element:\\n                                        per.extension_bit: '0... .... Extension Bit: False'\\n                                        per.sequence_of_length: 'Sequence-Of Length: 3'\\n                                        ngap.protocolIEs:\\n                                            'Item 0: id-UL-NGU-UP-TNLInformation':\\n                                                ngap.id: 'id: id-UL-NGU-UP-TNLInformation (139)'\\n                                                per.enum_index: 'Enumerated Index: 0'\\n                                                ngap.criticality: 'criticality: reject (0)'\\n                                                per.open_type_length: 'Open Type Length: 10'\\n                                                ngap.value_element:\\n                                                    per.choice_index: 'Choice Index: 0'\\n                                                    ngap.UPTransportLayerInformation:\\n                                                        ngap.gTPTunnel_element:\\n                                                            per.extension_bit: '.0.. .... Extension Bit: False'\\n                                                            per.optional_field_bit: '..0. .... Optional Field Bit: False (iE-Extensions is NOT present)'\\n                                                            per.extension_present_bit: '...0 .... Extension Present Bit: False'\\n                                                            per.bit_string_length: 'Bit String Length: 32'\\n                                                            ngap.transportLayerAddress:\\n                                                                ngap.TransportLayerAddressIPv4: 'TransportLayerAddress (IPv4): 10.200.200.102'\\n                                                            ngap.gTP_TEID: 'gTP-TEID: 00000001'\\n                                            'Item 1: id-PDUSessionType':\\n                                                ngap.id: 'id: id-PDUSessionType (134)'\\n                                                per.enum_index: 'Enumerated Index: 0'\\n                                                ngap.criticality: 'criticality: reject (0)'\\n                                                per.open_type_length: 'Open Type Length: 1'\\n                                                ngap.value_element:\\n                                                    per.extension_present_bit: '0... .... Extension Present Bit: False'\\n                                                    per.enum_index: 'Enumerated Index: 0'\\n                                                    ngap.PDUSessionType: 'PDUSessionType: ipv4 (0)'\\n                                            'Item 2: id-QosFlowSetupRequestList':\\n                                                ngap.id: 'id: id-QosFlowSetupRequestList (136)'\\n                                                per.enum_index: 'Enumerated Index: 0'\\n                                                ngap.criticality: 'criticality: reject (0)'\\n                                                per.open_type_length: 'Open Type Length: 7'\\n                                                ngap.value_element:\\n                                                    per.sequence_of_length: 'Sequence-Of Length: 1'\\n                                                    ngap.QosFlowSetupRequestList:\\n                                                        Item 0:\\n                                                            ngap.QosFlowSetupRequestItem_element:\\n                                                                per.extension_bit: '.... ..0. Extension Bit: False'\\n                                                                per.optional_field_bit: '.... ...0 Optional Field Bit: False (e-RAB-ID is NOT present)'\\n                                                                per.optional_field_bit (2): '0... .... Optional Field Bit: False (iE-Extensions is NOT present)'\\n                                                                per.extension_present_bit: '.0.. .... Extension Present Bit: False'\\n                                                                ngap.qosFlowIdentifier: 'qosFlowIdentifier: 0'\\n                                                                ngap.qosFlowLevelQosParameters_element:\\n                                                                    per.extension_bit: '0... .... Extension Bit: False'\\n                                                                    per.optional_field_bit: '.0.. .... Optional Field Bit: False (gBR-QosInformation is NOT present)'\\n                                                                    per.optional_field_bit (2): '..0. .... Optional Field Bit: False (reflectiveQosAttribute is NOT present)'\\n                                                                    per.optional_field_bit (3): '...0 .... Optional Field Bit: False (additionalQosFlowInformation is NOT present)'\\n                                                                    per.optional_field_bit (4): '.... 0... Optional Field Bit: False (iE-Extensions is NOT present)'\\n                                                                    per.choice_index: 'Choice Index: 0'\\n                                                                    ngap.qosCharacteristics:\\n                                                                        ngap.nonDynamic5QI_element:\\n                                                                            per.extension_bit: '.... ...0 Extension Bit: False'\\n                                                                            per.optional_field_bit: '0... .... Optional Field Bit: False (priorityLevelQos is NOT present)'\\n                                                                            per.optional_field_bit (2): '.0.. .... Optional Field Bit: False (averagingWindow is NOT present)'\\n                                                                            per.optional_field_bit (3): '..0. .... Optional Field Bit: False (maximumDataBurstVolume is NOT present)'\\n                                                                            per.optional_field_bit (4): '...0 .... Optional Field Bit: False (iE-Extensions is NOT present)'\\n                                                                            per.extension_present_bit: '.... 0... Extension Present Bit: False'\\n                                                                            ngap.fiveQI: 'fiveQI: 9'\\n                                                                    ngap.allocationAndRetentionPriority_element:\\n                                                                        per.extension_bit: '0... .... Extension Bit: False'\\n                                                                        per.optional_field_bit: '.0.. .... Optional Field Bit: False (iE-Extensions is NOT present)'\\n                                                                        ngap.priorityLevelARP: 'priorityLevelARP: 15'\\n                                                                        per.extension_present_bit: '.... ..0. Extension Present Bit: False'\\n                                                                        per.enum_index: 'Enumerated Index: 0'\\n                                                                        ngap.pre_emptionCapability: 'pre-emptionCapability: shall-not-trigger-pre-emption (0)'\\n                                                                        per.extension_present_bit (2): '0... .... Extension Present Bit: False'\\n                                                                        per.enum_index (2): 'Enumerated Index: 0'\\n                                                                        ngap.pre_emptionVulnerability: 'pre-emptionVulnerability: not-pre-emptable (0)'\\n\", timestamp=1591863461.7418225, timestamp_offsett=1.8491225242614746), PacketDescription(ip_src='127.0.0.1', ip_dst='127.0.0.1', frame_number='233', protocols_str='NGAP', msg_description=\"NGAP-PDU: 201d0024000003000a40020001005540020001004b401100000a0d0003e00ac8c801000000010001\\nngap.procedureCode: 'procedureCode: id-PDUSessionResourceSetup (29)'\\nper.enum_index: 'Enumerated Index: 0'\\nngap.criticality: 'criticality: reject (0)'\\nper.open_type_length: 'Open Type Length: 36'\\nngap.value_element:\\n-   ngap.PDUSessionResourceSetupResponse_element:\\n        per.extension_bit: '0... .... Extension Bit: False'\\n        per.sequence_of_length: 'Sequence-Of Length: 3'\\n        ngap.protocolIEs:\\n            'Item 0: id-AMF-UE-NGAP-ID':\\n                ngap.id: 'id: id-AMF-UE-NGAP-ID (10)'\\n                per.enum_index: 'Enumerated Index: 1'\\n                ngap.criticality: 'criticality: ignore (1)'\\n                per.open_type_length: 'Open Type Length: 2'\\n                ngap.value_element:\\n                    ngap.AMF_UE_NGAP_ID: 'AMF-UE-NGAP-ID: 1'\\n            'Item 1: id-RAN-UE-NGAP-ID':\\n                ngap.id: 'id: id-RAN-UE-NGAP-ID (85)'\\n                per.enum_index: 'Enumerated Index: 1'\\n                ngap.criticality: 'criticality: ignore (1)'\\n                per.open_type_length: 'Open Type Length: 2'\\n                ngap.value_element:\\n                    ngap.RAN_UE_NGAP_ID: 'RAN-UE-NGAP-ID: 1'\\n            'Item 2: id-PDUSessionResourceSetupListSURes':\\n                ngap.id: 'id: id-PDUSessionResourceSetupListSURes (75)'\\n                per.enum_index: 'Enumerated Index: 1'\\n                ngap.criticality: 'criticality: ignore (1)'\\n                per.open_type_length: 'Open Type Length: 17'\\n                ngap.value_element:\\n                    per.sequence_of_length: 'Sequence-Of Length: 1'\\n                    ngap.PDUSessionResourceSetupListSURes:\\n                        Item 0:\\n                            ngap.PDUSessionResourceSetupItemSURes_element:\\n                                per.extension_bit: '0... .... Extension Bit: False'\\n                                per.optional_field_bit: '.0.. .... Optional Field Bit: False (iE-Extensions is NOT present)'\\n                                ngap.pDUSessionID: 'pDUSessionID: 10'\\n                                per.octet_string_length: 'Octet String Length: 13'\\n                                ngap.pDUSessionResourceSetupResponseTransfer:\\n                                    ngap.PDUSessionResourceSetupResponseTransfer_element:\\n                                        per.extension_bit: '0... .... Extension Bit: False'\\n                                        per.optional_field_bit: '.0.. .... Optional Field Bit: False (additionalDLQosFlowPerTNLInformation is NOT present)'\\n                                        per.optional_field_bit (2): '..0. .... Optional Field Bit: False (securityResult is NOT present)'\\n                                        per.optional_field_bit (3): '...0 .... Optional Field Bit: False (qosFlowFailedToSetupList is NOT present)'\\n                                        per.optional_field_bit (4): '.... 0... Optional Field Bit: False (iE-Extensions is NOT present)'\\n                                        ngap.dLQosFlowPerTNLInformation_element:\\n                                            per.extension_bit: '.... .0.. Extension Bit: False'\\n                                            per.optional_field_bit: '.... ..0. Optional Field Bit: False (iE-Extensions is NOT present)'\\n                                            per.choice_index: 'Choice Index: 0'\\n                                            ngap.uPTransportLayerInformation:\\n                                                ngap.gTPTunnel_element:\\n                                                    per.extension_bit: '0... .... Extension Bit: False'\\n                                                    per.optional_field_bit: '.0.. .... Optional Field Bit: False (iE-Extensions is NOT present)'\\n                                                    per.extension_present_bit: '..0. .... Extension Present Bit: False'\\n                                                    per.bit_string_length: 'Bit String Length: 32'\\n                                                    ngap.transportLayerAddress:\\n                                                        ngap.TransportLayerAddressIPv4: 'TransportLayerAddress (IPv4): 10.200.200.1'\\n                                                    ngap.gTP_TEID: 'gTP-TEID: 00000001'\\n                                            per.sequence_of_length: 'Sequence-Of Length: 1'\\n                                            ngap.associatedQosFlowList:\\n                                                Item 0:\\n                                                    ngap.AssociatedQosFlowItem_element:\\n                                                        per.extension_bit: '.... ..0. Extension Bit: False'\\n                                                        per.optional_field_bit: '.... ...0 Optional Field Bit: False (qosFlowMappingIndication is NOT present)'\\n                                                        per.optional_field_bit (2): '0... .... Optional Field Bit: False (iE-Extensions is NOT present)'\\n                                                        per.extension_present_bit: '.0.. .... Extension Present Bit: False'\\n                                                        ngap.qosFlowIdentifier: 'qosFlowIdentifier: 1'\\n\", timestamp=1591863461.7432344, timestamp_offsett=1.850534439086914), PacketDescription(ip_src='10.200.200.1', ip_dst='10.200.200.101', frame_number='243', protocols_str='PFCP', msg_description=\"pfcp.flags:\\n-   pfcp.version: '001. .... = Version: 1'\\n    pfcp.spare_b4: '...0 .... = Spare: 0'\\n    pfcp.spare_b3: '.... 0... = Spare: 0'\\n    pfcp.fo_flag: '.... .0.. = Follow On (FO): False'\\n    pfcp.mp_flag: '.... ..1. = Message Priority (MP): True'\\n    pfcp.s: '.... ...1 = SEID (S): True'\\npfcp.msg_type: 'Message Type: PFCP Session Modification Request (52)'\\npfcp.length: 'Length: 130'\\npfcp.seid: 'SEID: 0x0000000000000001'\\npfcp.seqno: 'Sequence Number: 3'\\npfcp.mp: '.... .... .... .... 1100 .... = Message Priority: 12'\\npfcp.spare_h0: '.... 0000 = Spare: 0'\\n'F-SEID : SEID: 0x0000000000000001, IPv4 10.200.200.1':\\n-   pfcp.ie_type: 'IE Type: F-SEID (57)'\\n    pfcp.ie_len: 'IE Length: 13'\\n    pfcp.f_seid_flags:\\n        pfcp.spare_b7: '0... .... = Spare: 0'\\n        pfcp.spare_b6: '.0.. .... = Spare: 0'\\n        pfcp.spare_b5: '..0. .... = Spare: 0'\\n        pfcp.spare_b4: '...0 .... = Spare: 0'\\n        pfcp.spare_b3: '.... 0... = Spare: 0'\\n        pfcp.spare_b2: '.... .0.. = Spare: 0'\\n        pfcp.f_seid_flags.v4: '.... ..1. = V4 (IPv4): Present'\\n        pfcp.f_seid_flags.v6: '.... ...0 = V6 (IPv6): Not Present'\\n    pfcp.seid: 'SEID: 0x0000000000000001'\\n    pfcp.f_seid.ipv4: 'IPv4 address: 10.200.200.1'\\n'Update PDR : [Grouped IE]: PDR ID: 2':\\n-   pfcp.ie_type: 'IE Type: Update PDR (9)'\\n    pfcp.ie_len: 'IE Length: 44'\\n    'PDR ID : 2':\\n        pfcp.ie_type: 'IE Type: PDR ID (56)'\\n        pfcp.ie_len: 'IE Length: 2'\\n        pfcp.pdr_id: 'Rule ID: 2'\\n    'Precedence : 32':\\n        pfcp.ie_type: 'IE Type: Precedence (29)'\\n        pfcp.ie_len: 'IE Length: 4'\\n        pfcp.precedence: 'Precedence: 32'\\n    'PDI : [Grouped IE]':\\n        pfcp.ie_type: 'IE Type: PDI (2)'\\n        pfcp.ie_len: 'IE Length: 18'\\n        'Source Interface : SGi-LAN/N6-LAN':\\n            pfcp.ie_type: 'IE Type: Source Interface (20)'\\n            pfcp.ie_len: 'IE Length: 1'\\n            pfcp.spare_h1: '0000 .... = Spare: 0'\\n            pfcp.source_interface: '.... 0010 = Source Interface: SGi-LAN/N6-LAN (2)'\\n        'Network Instance : internet':\\n            pfcp.ie_type: 'IE Type: Network Instance (22)'\\n            pfcp.ie_len: 'IE Length: 9'\\n            pfcp.network_instance: 'Network Instance: internet'\\n    'FAR ID : Dynamic by CP 2':\\n        pfcp.ie_type: 'IE Type: FAR ID (108)'\\n        pfcp.ie_len: 'IE Length: 4'\\n        pfcp.far_id_flg: '0... .... .... .... .... .... .... .... = Allocation type: Dynamic by CP'\\n        pfcp.far_id: '.000 0000 0000 0000 0000 0000 0000 0010 = FAR ID: 2'\\n'Update FAR : [Grouped IE]: FAR ID: Dynamic by CP 2':\\n-   pfcp.ie_type: 'IE Type: Update FAR (10)'\\n    pfcp.ie_len: 'IE Length: 49'\\n    'FAR ID : Dynamic by CP 2':\\n        pfcp.ie_type: 'IE Type: FAR ID (108)'\\n        pfcp.ie_len: 'IE Length: 4'\\n        pfcp.far_id_flg: '0... .... .... .... .... .... .... .... = Allocation type: Dynamic by CP'\\n        pfcp.far_id: '.000 0000 0000 0000 0000 0000 0000 0010 = FAR ID: 2'\\n    'Apply Action : ':\\n        pfcp.ie_type: 'IE Type: Apply Action (44)'\\n        pfcp.ie_len: 'IE Length: 1'\\n        pfcp.apply_action.dfrt: '0... .... = DFRT (Duplicate for Redundant Transmission): False'\\n        pfcp.apply_action.ipmd: '.0.. .... = IPMD (IP Multicast Deny): False'\\n        pfcp.apply_action.ipma: '..0. .... = IPMA (IP Multicast Accept): False'\\n        pfcp.apply_action.dupl: '...0 .... = DUPL (Duplicate): False'\\n        pfcp.apply_action.nocp: '.... 0... = NOCP (Notify the CP function): False'\\n        pfcp.apply_action.buff: '.... .0.. = BUFF (Buffer): False'\\n        pfcp.apply_action.forw: '.... ..1. = FORW (Forward): True'\\n        pfcp.apply_action.drop: '.... ...0 = DROP (Drop): False'\\n    'Update Forwarding Parameters : [Grouped IE]':\\n        pfcp.ie_type: 'IE Type: Update Forwarding Parameters (11)'\\n        pfcp.ie_len: 'IE Length: 32'\\n        'Destination Interface : Access':\\n            pfcp.ie_type: 'IE Type: Destination Interface (42)'\\n            pfcp.ie_len: 'IE Length: 1'\\n            pfcp.spare_h1: '0000 .... = Spare: 0'\\n            pfcp.dst_interface: '.... 0000 = Interface: Access (0)'\\n        'Network Instance : internet':\\n            pfcp.ie_type: 'IE Type: Network Instance (22)'\\n            pfcp.ie_len: 'IE Length: 9'\\n            pfcp.network_instance: 'Network Instance: internet'\\n        'Outer Header Creation : ':\\n            pfcp.ie_type: 'IE Type: Outer Header Creation (84)'\\n            pfcp.ie_len: 'IE Length: 10'\\n            pfcp.outer_hdr_desc: 'Outer Header Creation Description: GTP-U/UDP/IPv4  (256)'\\n            pfcp.outer_hdr_creation.teid: 'TEID: 0x00000001'\\n            pfcp.outer_hdr_creation.ipv4: 'IPv4 Address: 10.200.200.1'\\npfcp.response_in: 'Response In: 245'\\n\", timestamp=1591863461.7455866, timestamp_offsett=1.85288667678833), PacketDescription(ip_src='10.200.200.101', ip_dst='10.200.200.1', frame_number='245', protocols_str='PFCP', msg_description=\"pfcp.flags:\\n-   pfcp.version: '001. .... = Version: 1'\\n    pfcp.spare_b4: '...0 .... = Spare: 0'\\n    pfcp.spare_b3: '.... 0... = Spare: 0'\\n    pfcp.fo_flag: '.... .0.. = Follow On (FO): False'\\n    pfcp.mp_flag: '.... ..0. = Message Priority (MP): False'\\n    pfcp.s: '.... ...1 = SEID (S): True'\\npfcp.msg_type: 'Message Type: PFCP Session Modification Response (53)'\\npfcp.length: 'Length: 17'\\npfcp.seid: 'SEID: 0x0000000000000001'\\npfcp.seqno: 'Sequence Number: 3'\\npfcp.spare_oct: 'Spare: 0'\\n'Cause : Request accepted(success)':\\n-   pfcp.ie_type: 'IE Type: Cause (19)'\\n    pfcp.ie_len: 'IE Length: 1'\\n    pfcp.cause: 'Cause: Request accepted(success) (1)'\\npfcp.response_to: 'Response To: 243'\\npfcp.response_time: 'Response Time: 0.000822861 seconds'\\n\", timestamp=1591863461.7464097, timestamp_offsett=1.8537096977233887), PacketDescription(ip_src='10.200.200.1', ip_dst='10.200.200.102', frame_number='249', protocols_str='GTP<ICMP>', msg_description='Type: 8 (Echo (ping) request) seq=1/256', timestamp=1591863462.7438595, timestamp_offsett=2.8511595726013184), PacketDescription(ip_src='10.200.200.102', ip_dst='10.200.200.1', frame_number='250', protocols_str='GTP<ICMP>', msg_description='Type: 0 (Echo (ping) reply) seq=1/256', timestamp=1591863462.743888, timestamp_offsett=2.8511879444122314)]\n",
      "            ip_src          ip_dst frame_number   protocol  \\\n",
      "0     10.200.200.1  10.200.200.101            1       PFCP   \n",
      "1   10.200.200.101    10.200.200.1            2       PFCP   \n",
      "2        127.0.0.1       127.0.0.1           13       NGAP   \n",
      "3        127.0.0.1       127.0.0.1           14       NGAP   \n",
      "4        127.0.0.1       127.0.0.1           15       NGAP   \n",
      "5        127.0.0.1       127.0.0.1           44       NGAP   \n",
      "6        127.0.0.1       127.0.0.1           45       NGAP   \n",
      "7        127.0.0.1       127.0.0.1           72       NGAP   \n",
      "8        127.0.0.1       127.0.0.1           76       NGAP   \n",
      "9        127.0.0.1       127.0.0.1          171       NGAP   \n",
      "10       127.0.0.1       127.0.0.1          174       NGAP   \n",
      "11       127.0.0.1       127.0.0.1          175       NGAP   \n",
      "12    10.200.200.1  10.200.200.101          216       PFCP   \n",
      "13  10.200.200.101    10.200.200.1          219       PFCP   \n",
      "14       127.0.0.1       127.0.0.1          228       NGAP   \n",
      "15       127.0.0.1       127.0.0.1          233       NGAP   \n",
      "16    10.200.200.1  10.200.200.101          243       PFCP   \n",
      "17  10.200.200.101    10.200.200.1          245       PFCP   \n",
      "18    10.200.200.1  10.200.200.102          249  GTP<ICMP>   \n",
      "19  10.200.200.102    10.200.200.1          250  GTP<ICMP>   \n",
      "\n",
      "                                      msg_description     timestamp  \\\n",
      "0   pfcp.flags:\\n-   pfcp.version: '001. .... = Ve...  1.591863e+09   \n",
      "1   pfcp.flags:\\n-   pfcp.version: '001. .... = Ve...  1.591863e+09   \n",
      "2   NGAP-PDU: 00150035000004001b00080002f839100001...  1.591863e+09   \n",
      "3   NGAP-PDU: 20150031000004000100050100414d460060...  1.591863e+09   \n",
      "4   NGAP-PDU: 000f404a000005005500020001002600201f...  1.591863e+09   \n",
      "5   NGAP-PDU: 0004403e000003000a000200010055000200...  1.591863e+09   \n",
      "6   NGAP-PDU: 002e403c000004000a000200010055000200...  1.591863e+09   \n",
      "7   NGAP-PDU: 0004402d000003000a000200010055000200...  1.591863e+09   \n",
      "8   NGAP-PDU: 002e405f000004000a000200010055000200...  1.591863e+09   \n",
      "9   NGAP-PDU: 000e0080a7000009000a0002000100550002...  1.591863e+09   \n",
      "10  NGAP-PDU: 200e000f000002000a400200010055400200...  1.591863e+09   \n",
      "11  NGAP-PDU: 002e4031000004000a000200010055000200...  1.591863e+09   \n",
      "12  pfcp.flags:\\n-   pfcp.version: '001. .... = Ve...  1.591863e+09   \n",
      "13  pfcp.flags:\\n-   pfcp.version: '001. .... = Ve...  1.591863e+09   \n",
      "14  NGAP-PDU: 001d006b000003000a000200010055000200...  1.591863e+09   \n",
      "15  NGAP-PDU: 201d0024000003000a400200010055400200...  1.591863e+09   \n",
      "16  pfcp.flags:\\n-   pfcp.version: '001. .... = Ve...  1.591863e+09   \n",
      "17  pfcp.flags:\\n-   pfcp.version: '001. .... = Ve...  1.591863e+09   \n",
      "18            Type: 8 (Echo (ping) request) seq=1/256  1.591863e+09   \n",
      "19              Type: 0 (Echo (ping) reply) seq=1/256  1.591863e+09   \n",
      "\n",
      "    timestamp_offset  \n",
      "0           0.000000  \n",
      "1           0.000514  \n",
      "2           1.199464  \n",
      "3           1.207988  \n",
      "4           1.223939  \n",
      "5           1.364420  \n",
      "6           1.368014  \n",
      "7           1.378867  \n",
      "8           1.380290  \n",
      "9           1.520643  \n",
      "10          1.529516  \n",
      "11          1.733143  \n",
      "12          1.836556  \n",
      "13          1.837434  \n",
      "14          1.849123  \n",
      "15          1.850534  \n",
      "16          1.852887  \n",
      "17          1.853710  \n",
      "18          2.851160  \n",
      "19          2.851188  \n",
      "line 67\n"
     ]
    }
   ],
   "source": [
    "# DEBUG loggig level for big traces so that you can see if processing is stuck or not\n",
    "packets_df = trace_plotting.import_pcap_as_dataframe(\n",
    "    wireshark_traces, \n",
    "    http2_ports = \"32445,5002,5000,32665,80,32077,5006,8080,3000,8081\",\n",
    "    wireshark_version = '4.2.3',\n",
    "    logging_level=logging.INFO)"
   ]
  },
  {
   "cell_type": "code",
   "execution_count": 31,
   "metadata": {},
   "outputs": [
    {
     "name": "stdout",
     "output_type": "stream",
     "text": [
      "            ip_src          ip_dst frame_number   protocol  \\\n",
      "0     10.200.200.1  10.200.200.101            1       PFCP   \n",
      "1   10.200.200.101    10.200.200.1            2       PFCP   \n",
      "2        127.0.0.1       127.0.0.1           13       NGAP   \n",
      "3        127.0.0.1       127.0.0.1           14       NGAP   \n",
      "4        127.0.0.1       127.0.0.1           15       NGAP   \n",
      "5        127.0.0.1       127.0.0.1           44       NGAP   \n",
      "6        127.0.0.1       127.0.0.1           45       NGAP   \n",
      "7        127.0.0.1       127.0.0.1           72       NGAP   \n",
      "8        127.0.0.1       127.0.0.1           76       NGAP   \n",
      "9        127.0.0.1       127.0.0.1          171       NGAP   \n",
      "10       127.0.0.1       127.0.0.1          174       NGAP   \n",
      "11       127.0.0.1       127.0.0.1          175       NGAP   \n",
      "12    10.200.200.1  10.200.200.101          216       PFCP   \n",
      "13  10.200.200.101    10.200.200.1          219       PFCP   \n",
      "14       127.0.0.1       127.0.0.1          228       NGAP   \n",
      "15       127.0.0.1       127.0.0.1          233       NGAP   \n",
      "16    10.200.200.1  10.200.200.101          243       PFCP   \n",
      "17  10.200.200.101    10.200.200.1          245       PFCP   \n",
      "18    10.200.200.1  10.200.200.102          249  GTP<ICMP>   \n",
      "19  10.200.200.102    10.200.200.1          250  GTP<ICMP>   \n",
      "\n",
      "                                      msg_description     timestamp  \\\n",
      "0   pfcp.flags:\\n-   pfcp.version: '001. .... = Ve...  1.591863e+09   \n",
      "1   pfcp.flags:\\n-   pfcp.version: '001. .... = Ve...  1.591863e+09   \n",
      "2   NGAP-PDU: 00150035000004001b00080002f839100001...  1.591863e+09   \n",
      "3   NGAP-PDU: 20150031000004000100050100414d460060...  1.591863e+09   \n",
      "4   NGAP-PDU: 000f404a000005005500020001002600201f...  1.591863e+09   \n",
      "5   NGAP-PDU: 0004403e000003000a000200010055000200...  1.591863e+09   \n",
      "6   NGAP-PDU: 002e403c000004000a000200010055000200...  1.591863e+09   \n",
      "7   NGAP-PDU: 0004402d000003000a000200010055000200...  1.591863e+09   \n",
      "8   NGAP-PDU: 002e405f000004000a000200010055000200...  1.591863e+09   \n",
      "9   NGAP-PDU: 000e0080a7000009000a0002000100550002...  1.591863e+09   \n",
      "10  NGAP-PDU: 200e000f000002000a400200010055400200...  1.591863e+09   \n",
      "11  NGAP-PDU: 002e4031000004000a000200010055000200...  1.591863e+09   \n",
      "12  pfcp.flags:\\n-   pfcp.version: '001. .... = Ve...  1.591863e+09   \n",
      "13  pfcp.flags:\\n-   pfcp.version: '001. .... = Ve...  1.591863e+09   \n",
      "14  NGAP-PDU: 001d006b000003000a000200010055000200...  1.591863e+09   \n",
      "15  NGAP-PDU: 201d0024000003000a400200010055400200...  1.591863e+09   \n",
      "16  pfcp.flags:\\n-   pfcp.version: '001. .... = Ve...  1.591863e+09   \n",
      "17  pfcp.flags:\\n-   pfcp.version: '001. .... = Ve...  1.591863e+09   \n",
      "18            Type: 8 (Echo (ping) request) seq=1/256  1.591863e+09   \n",
      "19              Type: 0 (Echo (ping) reply) seq=1/256  1.591863e+09   \n",
      "\n",
      "    timestamp_offset                      datetime  \\\n",
      "0           0.000000 2020-06-11 08:17:39.892699904   \n",
      "1           0.000514 2020-06-11 08:17:39.893213952   \n",
      "2           1.199464 2020-06-11 08:17:41.092163840   \n",
      "3           1.207988 2020-06-11 08:17:41.100687616   \n",
      "4           1.223939 2020-06-11 08:17:41.116638976   \n",
      "5           1.364420 2020-06-11 08:17:41.257120256   \n",
      "6           1.368014 2020-06-11 08:17:41.260714240   \n",
      "7           1.378867 2020-06-11 08:17:41.271566848   \n",
      "8           1.380290 2020-06-11 08:17:41.272989440   \n",
      "9           1.520643 2020-06-11 08:17:41.413343488   \n",
      "10          1.529516 2020-06-11 08:17:41.422215936   \n",
      "11          1.733143 2020-06-11 08:17:41.625842688   \n",
      "12          1.836556 2020-06-11 08:17:41.729255936   \n",
      "13          1.837434 2020-06-11 08:17:41.730133504   \n",
      "14          1.849123 2020-06-11 08:17:41.741822464   \n",
      "15          1.850534 2020-06-11 08:17:41.743234304   \n",
      "16          1.852887 2020-06-11 08:17:41.745586688   \n",
      "17          1.853710 2020-06-11 08:17:41.746409728   \n",
      "18          2.851160 2020-06-11 08:17:42.743859456   \n",
      "19          2.851188 2020-06-11 08:17:42.743887872   \n",
      "\n",
      "                                          summary_raw  \\\n",
      "0       PFCP req.\\nPFCP Association Setup Request (5)   \n",
      "1      PFCP rsp.\\nPFCP Association Setup Response (6)   \n",
      "2                                   NGAP NGSetup (21)   \n",
      "3                                   NGAP NGSetup (21)   \n",
      "4   NGAP InitialUEMessage (15),\\nNAS Registration ...   \n",
      "5   NGAP DownlinkNASTransport (4),\\nNAS Authentica...   \n",
      "6   NGAP UplinkNASTransport (46),\\nNAS Authenticat...   \n",
      "7   NGAP DownlinkNASTransport (4),\\nNAS Security m...   \n",
      "8   NGAP UplinkNASTransport (46),\\nNAS Security mo...   \n",
      "9   NGAP InitialContextSetup (14),\\nNAS Registrati...   \n",
      "10                      NGAP InitialContextSetup (14)   \n",
      "11  NGAP UplinkNASTransport (46),\\nNAS Registratio...   \n",
      "12  PFCP req.\\nPFCP Session Establishment Request ...   \n",
      "13  PFCP rsp.\\nPFCP Session Establishment Response...   \n",
      "14  NGAP PDUSessionResourceSetup (29),\\nNAS DL NAS...   \n",
      "15                  NGAP PDUSessionResourceSetup (29)   \n",
      "16  PFCP req.\\nPFCP Session Modification Request (52)   \n",
      "17  PFCP rsp.\\nPFCP Session Modification Response ...   \n",
      "18                                          GTP<ICMP>   \n",
      "19                                          GTP<ICMP>   \n",
      "\n",
      "                                         summary              file  file_idx  \n",
      "0             PFCP Association Setup Request (5)  doc/free5gc.pcap         0  \n",
      "1            PFCP Association Setup Response (6)  doc/free5gc.pcap         0  \n",
      "2                               NAS NGSetup (21)  doc/free5gc.pcap         0  \n",
      "3                               NAS NGSetup (21)  doc/free5gc.pcap         0  \n",
      "4                NAS Registration request (0x41)  doc/free5gc.pcap         0  \n",
      "5              NAS Authentication request (0x56)  doc/free5gc.pcap         0  \n",
      "6             NAS Authentication response (0x57)  doc/free5gc.pcap         0  \n",
      "7               NAS Security mode command (0x5d)  doc/free5gc.pcap         0  \n",
      "8                NAS Registration request (0x41)  doc/free5gc.pcap         0  \n",
      "9                 NAS Registration accept (0x42)  doc/free5gc.pcap         0  \n",
      "10                  NAS InitialContextSetup (14)  doc/free5gc.pcap         0  \n",
      "11  NAS PDU session establishment request (0xc1)  doc/free5gc.pcap         0  \n",
      "12       PFCP Session Establishment Request (50)  doc/free5gc.pcap         0  \n",
      "13      PFCP Session Establishment Response (51)  doc/free5gc.pcap         0  \n",
      "14   NAS PDU session establishment accept (0xc2)  doc/free5gc.pcap         0  \n",
      "15              NAS PDUSessionResourceSetup (29)  doc/free5gc.pcap         0  \n",
      "16        PFCP Session Modification Request (52)  doc/free5gc.pcap         0  \n",
      "17       PFCP Session Modification Response (53)  doc/free5gc.pcap         0  \n",
      "18                                                doc/free5gc.pcap         0  \n",
      "19                                                doc/free5gc.pcap         0  \n"
     ]
    }
   ],
   "source": [
    "print(packets_df)"
   ]
  },
  {
   "cell_type": "code",
   "execution_count": 32,
   "metadata": {},
   "outputs": [],
   "source": [
    "plot_data = trace_plotting.generate_scatterplots_for_wireshark_traces(packets_df, filter_column='file')[0]"
   ]
  },
  {
   "cell_type": "code",
   "execution_count": 33,
   "metadata": {},
   "outputs": [
    {
     "data": {
      "application/vnd.plotly.v1+json": {
       "config": {
        "plotlyServerURL": "https://plot.ly"
       },
       "data": [
        {
         "hovertemplate": "%{text}, %{y}<extra></extra>",
         "line": {
          "color": "gray"
         },
         "mode": "markers",
         "name": "doc/free5gc.pcap",
         "opacity": 1,
         "showlegend": true,
         "text": [
          "Frame 44, 08:17:41.257120",
          "Frame 45, 08:17:41.260714",
          "Frame 174, 08:17:41.422215",
          "Frame 13, 08:17:41.092163",
          "Frame 14, 08:17:41.100687",
          "Frame 228, 08:17:41.741822",
          "Frame 175, 08:17:41.625842",
          "Frame 233, 08:17:41.743234",
          "Frame 171, 08:17:41.413343",
          "Frame 15, 08:17:41.116638",
          "Frame 76, 08:17:41.272989",
          "Frame 72, 08:17:41.271566",
          "Frame 1, 08:17:39.892699",
          "Frame 2, 08:17:39.893213",
          "Frame 216, 08:17:41.729255",
          "Frame 219, 08:17:41.730133",
          "Frame 243, 08:17:41.745586",
          "Frame 245, 08:17:41.746409"
         ],
         "type": "scatter",
         "x": [
          "2020-06-11T08:17:41.257120",
          "2020-06-11T08:17:41.260714",
          "2020-06-11T08:17:41.422215",
          "2020-06-11T08:17:41.092163",
          "2020-06-11T08:17:41.100687",
          "2020-06-11T08:17:41.741822",
          "2020-06-11T08:17:41.625842",
          "2020-06-11T08:17:41.743234",
          "2020-06-11T08:17:41.413343",
          "2020-06-11T08:17:41.116638",
          "2020-06-11T08:17:41.272989",
          "2020-06-11T08:17:41.271566",
          "2020-06-11T08:17:39.892699",
          "2020-06-11T08:17:39.893213",
          "2020-06-11T08:17:41.729255",
          "2020-06-11T08:17:41.730133",
          "2020-06-11T08:17:41.745586",
          "2020-06-11T08:17:41.746409"
         ],
         "y": [
          "NAS Authentication request (0x56)",
          "NAS Authentication response (0x57)",
          "NAS InitialContextSetup (14)",
          "NAS NGSetup (21)",
          "NAS NGSetup (21)",
          "NAS PDU session establishment accept (0xc2)",
          "NAS PDU session establishment request (0xc1)",
          "NAS PDUSessionResourceSetup (29)",
          "NAS Registration accept (0x42)",
          "NAS Registration request (0x41)",
          "NAS Registration request (0x41)",
          "NAS Security mode command (0x5d)",
          "PFCP Association Setup Request (5)",
          "PFCP Association Setup Response (6)",
          "PFCP Session Establishment Request (50)",
          "PFCP Session Establishment Response (51)",
          "PFCP Session Modification Request (52)",
          "PFCP Session Modification Response (53)"
         ]
        }
       ],
       "layout": {
        "shapes": [
         {
          "fillcolor": "#8cd98c",
          "line": {
           "width": 0
          },
          "opacity": 0.3,
          "type": "rect",
          "x0": 0,
          "x1": 1,
          "xref": "paper",
          "y0": "NAS Authentication request (0x56)",
          "y1": "NAS Security mode command (0x5d)",
          "yref": "y"
         },
         {
          "fillcolor": "#80b3ff",
          "line": {
           "width": 0
          },
          "opacity": 0.3,
          "type": "rect",
          "x0": 0,
          "x1": 1,
          "xref": "paper",
          "y0": "PFCP Association Setup Request (5)",
          "y1": "PFCP Session Modification Response (53)",
          "yref": "y"
         }
        ],
        "template": {
         "data": {
          "bar": [
           {
            "error_x": {
             "color": "#2a3f5f"
            },
            "error_y": {
             "color": "#2a3f5f"
            },
            "marker": {
             "line": {
              "color": "#E5ECF6",
              "width": 0.5
             },
             "pattern": {
              "fillmode": "overlay",
              "size": 10,
              "solidity": 0.2
             }
            },
            "type": "bar"
           }
          ],
          "barpolar": [
           {
            "marker": {
             "line": {
              "color": "#E5ECF6",
              "width": 0.5
             },
             "pattern": {
              "fillmode": "overlay",
              "size": 10,
              "solidity": 0.2
             }
            },
            "type": "barpolar"
           }
          ],
          "carpet": [
           {
            "aaxis": {
             "endlinecolor": "#2a3f5f",
             "gridcolor": "white",
             "linecolor": "white",
             "minorgridcolor": "white",
             "startlinecolor": "#2a3f5f"
            },
            "baxis": {
             "endlinecolor": "#2a3f5f",
             "gridcolor": "white",
             "linecolor": "white",
             "minorgridcolor": "white",
             "startlinecolor": "#2a3f5f"
            },
            "type": "carpet"
           }
          ],
          "choropleth": [
           {
            "colorbar": {
             "outlinewidth": 0,
             "ticks": ""
            },
            "type": "choropleth"
           }
          ],
          "contour": [
           {
            "colorbar": {
             "outlinewidth": 0,
             "ticks": ""
            },
            "colorscale": [
             [
              0,
              "#0d0887"
             ],
             [
              0.1111111111111111,
              "#46039f"
             ],
             [
              0.2222222222222222,
              "#7201a8"
             ],
             [
              0.3333333333333333,
              "#9c179e"
             ],
             [
              0.4444444444444444,
              "#bd3786"
             ],
             [
              0.5555555555555556,
              "#d8576b"
             ],
             [
              0.6666666666666666,
              "#ed7953"
             ],
             [
              0.7777777777777778,
              "#fb9f3a"
             ],
             [
              0.8888888888888888,
              "#fdca26"
             ],
             [
              1,
              "#f0f921"
             ]
            ],
            "type": "contour"
           }
          ],
          "contourcarpet": [
           {
            "colorbar": {
             "outlinewidth": 0,
             "ticks": ""
            },
            "type": "contourcarpet"
           }
          ],
          "heatmap": [
           {
            "colorbar": {
             "outlinewidth": 0,
             "ticks": ""
            },
            "colorscale": [
             [
              0,
              "#0d0887"
             ],
             [
              0.1111111111111111,
              "#46039f"
             ],
             [
              0.2222222222222222,
              "#7201a8"
             ],
             [
              0.3333333333333333,
              "#9c179e"
             ],
             [
              0.4444444444444444,
              "#bd3786"
             ],
             [
              0.5555555555555556,
              "#d8576b"
             ],
             [
              0.6666666666666666,
              "#ed7953"
             ],
             [
              0.7777777777777778,
              "#fb9f3a"
             ],
             [
              0.8888888888888888,
              "#fdca26"
             ],
             [
              1,
              "#f0f921"
             ]
            ],
            "type": "heatmap"
           }
          ],
          "heatmapgl": [
           {
            "colorbar": {
             "outlinewidth": 0,
             "ticks": ""
            },
            "colorscale": [
             [
              0,
              "#0d0887"
             ],
             [
              0.1111111111111111,
              "#46039f"
             ],
             [
              0.2222222222222222,
              "#7201a8"
             ],
             [
              0.3333333333333333,
              "#9c179e"
             ],
             [
              0.4444444444444444,
              "#bd3786"
             ],
             [
              0.5555555555555556,
              "#d8576b"
             ],
             [
              0.6666666666666666,
              "#ed7953"
             ],
             [
              0.7777777777777778,
              "#fb9f3a"
             ],
             [
              0.8888888888888888,
              "#fdca26"
             ],
             [
              1,
              "#f0f921"
             ]
            ],
            "type": "heatmapgl"
           }
          ],
          "histogram": [
           {
            "marker": {
             "pattern": {
              "fillmode": "overlay",
              "size": 10,
              "solidity": 0.2
             }
            },
            "type": "histogram"
           }
          ],
          "histogram2d": [
           {
            "colorbar": {
             "outlinewidth": 0,
             "ticks": ""
            },
            "colorscale": [
             [
              0,
              "#0d0887"
             ],
             [
              0.1111111111111111,
              "#46039f"
             ],
             [
              0.2222222222222222,
              "#7201a8"
             ],
             [
              0.3333333333333333,
              "#9c179e"
             ],
             [
              0.4444444444444444,
              "#bd3786"
             ],
             [
              0.5555555555555556,
              "#d8576b"
             ],
             [
              0.6666666666666666,
              "#ed7953"
             ],
             [
              0.7777777777777778,
              "#fb9f3a"
             ],
             [
              0.8888888888888888,
              "#fdca26"
             ],
             [
              1,
              "#f0f921"
             ]
            ],
            "type": "histogram2d"
           }
          ],
          "histogram2dcontour": [
           {
            "colorbar": {
             "outlinewidth": 0,
             "ticks": ""
            },
            "colorscale": [
             [
              0,
              "#0d0887"
             ],
             [
              0.1111111111111111,
              "#46039f"
             ],
             [
              0.2222222222222222,
              "#7201a8"
             ],
             [
              0.3333333333333333,
              "#9c179e"
             ],
             [
              0.4444444444444444,
              "#bd3786"
             ],
             [
              0.5555555555555556,
              "#d8576b"
             ],
             [
              0.6666666666666666,
              "#ed7953"
             ],
             [
              0.7777777777777778,
              "#fb9f3a"
             ],
             [
              0.8888888888888888,
              "#fdca26"
             ],
             [
              1,
              "#f0f921"
             ]
            ],
            "type": "histogram2dcontour"
           }
          ],
          "mesh3d": [
           {
            "colorbar": {
             "outlinewidth": 0,
             "ticks": ""
            },
            "type": "mesh3d"
           }
          ],
          "parcoords": [
           {
            "line": {
             "colorbar": {
              "outlinewidth": 0,
              "ticks": ""
             }
            },
            "type": "parcoords"
           }
          ],
          "pie": [
           {
            "automargin": true,
            "type": "pie"
           }
          ],
          "scatter": [
           {
            "fillpattern": {
             "fillmode": "overlay",
             "size": 10,
             "solidity": 0.2
            },
            "type": "scatter"
           }
          ],
          "scatter3d": [
           {
            "line": {
             "colorbar": {
              "outlinewidth": 0,
              "ticks": ""
             }
            },
            "marker": {
             "colorbar": {
              "outlinewidth": 0,
              "ticks": ""
             }
            },
            "type": "scatter3d"
           }
          ],
          "scattercarpet": [
           {
            "marker": {
             "colorbar": {
              "outlinewidth": 0,
              "ticks": ""
             }
            },
            "type": "scattercarpet"
           }
          ],
          "scattergeo": [
           {
            "marker": {
             "colorbar": {
              "outlinewidth": 0,
              "ticks": ""
             }
            },
            "type": "scattergeo"
           }
          ],
          "scattergl": [
           {
            "marker": {
             "colorbar": {
              "outlinewidth": 0,
              "ticks": ""
             }
            },
            "type": "scattergl"
           }
          ],
          "scattermapbox": [
           {
            "marker": {
             "colorbar": {
              "outlinewidth": 0,
              "ticks": ""
             }
            },
            "type": "scattermapbox"
           }
          ],
          "scatterpolar": [
           {
            "marker": {
             "colorbar": {
              "outlinewidth": 0,
              "ticks": ""
             }
            },
            "type": "scatterpolar"
           }
          ],
          "scatterpolargl": [
           {
            "marker": {
             "colorbar": {
              "outlinewidth": 0,
              "ticks": ""
             }
            },
            "type": "scatterpolargl"
           }
          ],
          "scatterternary": [
           {
            "marker": {
             "colorbar": {
              "outlinewidth": 0,
              "ticks": ""
             }
            },
            "type": "scatterternary"
           }
          ],
          "surface": [
           {
            "colorbar": {
             "outlinewidth": 0,
             "ticks": ""
            },
            "colorscale": [
             [
              0,
              "#0d0887"
             ],
             [
              0.1111111111111111,
              "#46039f"
             ],
             [
              0.2222222222222222,
              "#7201a8"
             ],
             [
              0.3333333333333333,
              "#9c179e"
             ],
             [
              0.4444444444444444,
              "#bd3786"
             ],
             [
              0.5555555555555556,
              "#d8576b"
             ],
             [
              0.6666666666666666,
              "#ed7953"
             ],
             [
              0.7777777777777778,
              "#fb9f3a"
             ],
             [
              0.8888888888888888,
              "#fdca26"
             ],
             [
              1,
              "#f0f921"
             ]
            ],
            "type": "surface"
           }
          ],
          "table": [
           {
            "cells": {
             "fill": {
              "color": "#EBF0F8"
             },
             "line": {
              "color": "white"
             }
            },
            "header": {
             "fill": {
              "color": "#C8D4E3"
             },
             "line": {
              "color": "white"
             }
            },
            "type": "table"
           }
          ]
         },
         "layout": {
          "annotationdefaults": {
           "arrowcolor": "#2a3f5f",
           "arrowhead": 0,
           "arrowwidth": 1
          },
          "autotypenumbers": "strict",
          "coloraxis": {
           "colorbar": {
            "outlinewidth": 0,
            "ticks": ""
           }
          },
          "colorscale": {
           "diverging": [
            [
             0,
             "#8e0152"
            ],
            [
             0.1,
             "#c51b7d"
            ],
            [
             0.2,
             "#de77ae"
            ],
            [
             0.3,
             "#f1b6da"
            ],
            [
             0.4,
             "#fde0ef"
            ],
            [
             0.5,
             "#f7f7f7"
            ],
            [
             0.6,
             "#e6f5d0"
            ],
            [
             0.7,
             "#b8e186"
            ],
            [
             0.8,
             "#7fbc41"
            ],
            [
             0.9,
             "#4d9221"
            ],
            [
             1,
             "#276419"
            ]
           ],
           "sequential": [
            [
             0,
             "#0d0887"
            ],
            [
             0.1111111111111111,
             "#46039f"
            ],
            [
             0.2222222222222222,
             "#7201a8"
            ],
            [
             0.3333333333333333,
             "#9c179e"
            ],
            [
             0.4444444444444444,
             "#bd3786"
            ],
            [
             0.5555555555555556,
             "#d8576b"
            ],
            [
             0.6666666666666666,
             "#ed7953"
            ],
            [
             0.7777777777777778,
             "#fb9f3a"
            ],
            [
             0.8888888888888888,
             "#fdca26"
            ],
            [
             1,
             "#f0f921"
            ]
           ],
           "sequentialminus": [
            [
             0,
             "#0d0887"
            ],
            [
             0.1111111111111111,
             "#46039f"
            ],
            [
             0.2222222222222222,
             "#7201a8"
            ],
            [
             0.3333333333333333,
             "#9c179e"
            ],
            [
             0.4444444444444444,
             "#bd3786"
            ],
            [
             0.5555555555555556,
             "#d8576b"
            ],
            [
             0.6666666666666666,
             "#ed7953"
            ],
            [
             0.7777777777777778,
             "#fb9f3a"
            ],
            [
             0.8888888888888888,
             "#fdca26"
            ],
            [
             1,
             "#f0f921"
            ]
           ]
          },
          "colorway": [
           "#636efa",
           "#EF553B",
           "#00cc96",
           "#ab63fa",
           "#FFA15A",
           "#19d3f3",
           "#FF6692",
           "#B6E880",
           "#FF97FF",
           "#FECB52"
          ],
          "font": {
           "color": "#2a3f5f"
          },
          "geo": {
           "bgcolor": "white",
           "lakecolor": "white",
           "landcolor": "#E5ECF6",
           "showlakes": true,
           "showland": true,
           "subunitcolor": "white"
          },
          "hoverlabel": {
           "align": "left"
          },
          "hovermode": "closest",
          "mapbox": {
           "style": "light"
          },
          "paper_bgcolor": "white",
          "plot_bgcolor": "#E5ECF6",
          "polar": {
           "angularaxis": {
            "gridcolor": "white",
            "linecolor": "white",
            "ticks": ""
           },
           "bgcolor": "#E5ECF6",
           "radialaxis": {
            "gridcolor": "white",
            "linecolor": "white",
            "ticks": ""
           }
          },
          "scene": {
           "xaxis": {
            "backgroundcolor": "#E5ECF6",
            "gridcolor": "white",
            "gridwidth": 2,
            "linecolor": "white",
            "showbackground": true,
            "ticks": "",
            "zerolinecolor": "white"
           },
           "yaxis": {
            "backgroundcolor": "#E5ECF6",
            "gridcolor": "white",
            "gridwidth": 2,
            "linecolor": "white",
            "showbackground": true,
            "ticks": "",
            "zerolinecolor": "white"
           },
           "zaxis": {
            "backgroundcolor": "#E5ECF6",
            "gridcolor": "white",
            "gridwidth": 2,
            "linecolor": "white",
            "showbackground": true,
            "ticks": "",
            "zerolinecolor": "white"
           }
          },
          "shapedefaults": {
           "line": {
            "color": "#2a3f5f"
           }
          },
          "ternary": {
           "aaxis": {
            "gridcolor": "white",
            "linecolor": "white",
            "ticks": ""
           },
           "baxis": {
            "gridcolor": "white",
            "linecolor": "white",
            "ticks": ""
           },
           "bgcolor": "#E5ECF6",
           "caxis": {
            "gridcolor": "white",
            "linecolor": "white",
            "ticks": ""
           }
          },
          "title": {
           "x": 0.05
          },
          "xaxis": {
           "automargin": true,
           "gridcolor": "white",
           "linecolor": "white",
           "ticks": "",
           "title": {
            "standoff": 15
           },
           "zerolinecolor": "white",
           "zerolinewidth": 2
          },
          "yaxis": {
           "automargin": true,
           "gridcolor": "white",
           "linecolor": "white",
           "ticks": "",
           "title": {
            "standoff": 15
           },
           "zerolinecolor": "white",
           "zerolinewidth": 2
          }
         }
        }
       }
      }
     },
     "metadata": {},
     "output_type": "display_data"
    }
   ],
   "source": [
    "fig = go.Figure(data=plot_data)\n",
    "fig.update_layout(shapes=trace_plotting.get_protocol_shapes(packets_df, y_axis='y'))\n",
    "fig.show()\n",
    "out_html = ''.join(wireshark_traces.split('.')[0:-1]) + '_pcap_plot.html'\n",
    "fig.write_html(out_html)"
   ]
  }
 ],
 "metadata": {
  "kernelspec": {
   "display_name": "Python 3 (ipykernel)",
   "language": "python",
   "name": "python3"
  },
  "language_info": {
   "codemirror_mode": {
    "name": "ipython",
    "version": 3
   },
   "file_extension": ".py",
   "mimetype": "text/x-python",
   "name": "python",
   "nbconvert_exporter": "python",
   "pygments_lexer": "ipython3",
   "version": "3.10.12"
  }
 },
 "nbformat": 4,
 "nbformat_minor": 4
}
