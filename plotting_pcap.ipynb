{
 "cells": [
  {
   "cell_type": "code",
   "execution_count": 1,
   "metadata": {},
   "outputs": [],
   "source": [
    "# Generic imports\n",
    "import pandas as pd\n",
    "import plotly\n",
    "import plotly.graph_objects as go\n",
    "\n",
    "# 5G visualization logic\n",
    "import trace_plotting\n",
    "import logging"
   ]
  },
  {
   "cell_type": "code",
   "execution_count": 2,
   "metadata": {},
   "outputs": [],
   "source": [
    "# Wireshark trace with 5GC messages\n",
    "# wireshark_traces = 'doc/free5gc.pcap'\n",
    "wireshark_traces = 'collected/one-reg-open5gs-ueransim.pcapng'\n",
    "# wireshark_trace = \"/pcaps/all_120.pcap\""
   ]
  },
  {
   "cell_type": "code",
   "execution_count": 3,
   "metadata": {},
   "outputs": [
    {
     "name": "stdout",
     "output_type": "stream",
     "text": [
      "collected/one-reg-open5gs-ueransim.pcapng 32445,5002,5000,32665,80,32077,5006,8080,3000,8081 4.2.3\n",
      "line 50\n",
      "line 53\n",
      "line 55\n",
      "line 57\n",
      "['4.2.3']\n",
      "['collected/one-reg-open5gs-ueransim.pcapng']\n",
      "asdkjhasdkj checkin /Applications/Wireshark.app/Contents/MacOS/tshark\n",
      "djkd ['collected/one-reg-open5gs-ueransim_4.2.3.pdml']\n",
      "[PacketDescription(ip_src='192.168.56.120', ip_dst='192.168.56.100', frame_number='5', protocols_str='NGAP', msg_description=\"NGAP-PDU: 00150041000004001b00090099f9075000000001005240170a00554552414e53494d2d676e622d3939392d37302d310066000d00000000010099f907000000080015400140\\nngap.procedureCode: 'procedureCode: id-NGSetup (21)'\\nper.enum_index: 'Enumerated Index: 0'\\nngap.criticality: 'criticality: reject (0)'\\nper.open_type_length: 'Open Type Length: 65'\\nngap.value_element:\\n-   ngap.NGSetupRequest_element:\\n        per.extension_bit: '0... .... Extension Bit: False'\\n        per.sequence_of_length: 'Sequence-Of Length: 4'\\n        ngap.protocolIEs:\\n            'Item 0: id-GlobalRANNodeID':\\n                ngap.id: 'id: id-GlobalRANNodeID (27)'\\n                per.enum_index: 'Enumerated Index: 0'\\n                ngap.criticality: 'criticality: reject (0)'\\n                per.open_type_length: 'Open Type Length: 9'\\n                ngap.value_element:\\n                    per.choice_index: 'Choice Index: 0'\\n                    ngap.GlobalRANNodeID:\\n                        ngap.globalGNB_ID_element:\\n                            per.extension_bit: '..0. .... Extension Bit: False'\\n                            per.optional_field_bit: '...0 .... Optional Field Bit: False (iE-Extensions is NOT present)'\\n                            ngap.pLMNIdentity:\\n                                e212.mcc: 'Mobile Country Code (MCC): Private network (999)'\\n                                e212.mnc: 'Mobile Network Code (MNC): Unknown (70)'\\n                            per.choice_index: 'Choice Index: 0'\\n                            ngap.globalGNB_ID.gNB_ID:\\n                                per.bit_string_length: 'Bit String Length: 32'\\n                                ngap.gNB_ID: 'gNB-ID: 00000001 [bit length 32, 0000 0000  0000 0000  0000 0000  0000 0001 decimal value 1]'\\n            'Item 1: id-RANNodeName':\\n                ngap.id: 'id: id-RANNodeName (82)'\\n                per.enum_index: 'Enumerated Index: 1'\\n                ngap.criticality: 'criticality: ignore (1)'\\n                per.open_type_length: 'Open Type Length: 23'\\n                ngap.value_element:\\n                    per.extension_present_bit: '0... .... Extension Present Bit: False'\\n                    per.octet_string_length: 'Octet String Length: 21'\\n                    ngap.RANNodeName: 'RANNodeName: UERANSIM-gnb-999-70-1'\\n            'Item 2: id-SupportedTAList':\\n                ngap.id: 'id: id-SupportedTAList (102)'\\n                per.enum_index: 'Enumerated Index: 0'\\n                ngap.criticality: 'criticality: reject (0)'\\n                per.open_type_length: 'Open Type Length: 13'\\n                ngap.value_element:\\n                    per.sequence_of_length: 'Sequence-Of Length: 1'\\n                    ngap.SupportedTAList:\\n                        Item 0:\\n                            ngap.SupportedTAItem_element:\\n                                per.extension_bit: '0... .... Extension Bit: False'\\n                                per.optional_field_bit: '.0.. .... Optional Field Bit: False (iE-Extensions is NOT present)'\\n                                ngap.tAC: 'tAC: 1 (0x000001)'\\n                                per.sequence_of_length: 'Sequence-Of Length: 1'\\n                                ngap.broadcastPLMNList:\\n                                    Item 0:\\n                                        ngap.BroadcastPLMNItem_element:\\n                                            per.extension_bit: '.... 0... Extension Bit: False'\\n                                            per.optional_field_bit: '.... .0.. Optional Field Bit: False (iE-Extensions is NOT present)'\\n                                            ngap.pLMNIdentity:\\n                                                e212.mcc: 'Mobile Country Code (MCC): Private network (999)'\\n                                                e212.mnc: 'Mobile Network Code (MNC): Unknown (70)'\\n                                            per.sequence_of_length: 'Sequence-Of Length: 1'\\n                                            ngap.tAISliceSupportList:\\n                                                Item 0:\\n                                                    ngap.SliceSupportItem_element:\\n                                                        per.extension_bit: '0... .... Extension Bit: False'\\n                                                        per.optional_field_bit: '.0.. .... Optional Field Bit: False (iE-Extensions is NOT present)'\\n                                                        ngap.s_NSSAI_element:\\n                                                            per.extension_bit: '..0. .... Extension Bit: False'\\n                                                            per.optional_field_bit: '...0 .... Optional Field Bit: False (sD is NOT present)'\\n                                                            per.optional_field_bit (2): '.... 0... Optional Field Bit: False (iE-Extensions is NOT present)'\\n                                                            ngap.sST: 'sST: 01'\\n            'Item 3: id-DefaultPagingDRX':\\n                ngap.id: 'id: id-DefaultPagingDRX (21)'\\n                per.enum_index: 'Enumerated Index: 1'\\n                ngap.criticality: 'criticality: ignore (1)'\\n                per.open_type_length: 'Open Type Length: 1'\\n                ngap.value_element:\\n                    per.extension_present_bit: '0... .... Extension Present Bit: False'\\n                    per.enum_index: 'Enumerated Index: 2'\\n                    ngap.PagingDRX: 'PagingDRX: v128 (2)'\\n\", timestamp=1712213798.067521, timestamp_offsett=0.0), PacketDescription(ip_src='192.168.56.100', ip_dst='192.168.56.120', frame_number='7', protocols_str='NGAP', msg_description=\"NGAP-PDU: 201500320000040001000e05806f70656e3567732d616d663000600008000099f90702004000564001ff005000080099f90700000008\\nngap.procedureCode: 'procedureCode: id-NGSetup (21)'\\nper.enum_index: 'Enumerated Index: 0'\\nngap.criticality: 'criticality: reject (0)'\\nper.open_type_length: 'Open Type Length: 50'\\nngap.value_element:\\n-   ngap.NGSetupResponse_element:\\n        per.extension_bit: '0... .... Extension Bit: False'\\n        per.sequence_of_length: 'Sequence-Of Length: 4'\\n        ngap.protocolIEs:\\n            'Item 0: id-AMFName':\\n                ngap.id: 'id: id-AMFName (1)'\\n                per.enum_index: 'Enumerated Index: 0'\\n                ngap.criticality: 'criticality: reject (0)'\\n                per.open_type_length: 'Open Type Length: 14'\\n                ngap.value_element:\\n                    per.extension_present_bit: '0... .... Extension Present Bit: False'\\n                    per.octet_string_length: 'Octet String Length: 12'\\n                    ngap.AMFName: 'AMFName: open5gs-amf0'\\n            'Item 1: id-ServedGUAMIList':\\n                ngap.id: 'id: id-ServedGUAMIList (96)'\\n                per.enum_index: 'Enumerated Index: 0'\\n                ngap.criticality: 'criticality: reject (0)'\\n                per.open_type_length: 'Open Type Length: 8'\\n                ngap.value_element:\\n                    per.sequence_of_length: 'Sequence-Of Length: 1'\\n                    ngap.ServedGUAMIList:\\n                        Item 0:\\n                            ngap.ServedGUAMIItem_element:\\n                                per.extension_bit: '0... .... Extension Bit: False'\\n                                per.optional_field_bit: '.0.. .... Optional Field Bit: False (backupAMFName is NOT present)'\\n                                per.optional_field_bit (2): '..0. .... Optional Field Bit: False (iE-Extensions is NOT present)'\\n                                ngap.gUAMI_element:\\n                                    per.extension_bit: '...0 .... Extension Bit: False'\\n                                    per.optional_field_bit: '.... 0... Optional Field Bit: False (iE-Extensions is NOT present)'\\n                                    ngap.pLMNIdentity:\\n                                        e212.guami.mcc: 'Mobile Country Code (MCC): Private network (999)'\\n                                        e212.guami.mnc: 'Mobile Network Code (MNC): Unknown (70)'\\n                                    ngap.aMFRegionID: 'aMFRegionID: 02 [bit length 8, 0000 0010 decimal value 2]'\\n                                    ngap.aMFSetID: 'aMFSetID: 0040 [bit length 10, 6 LSB pad bits, 0000 0000  01.. .... decimal value 1]'\\n                                    ngap.aMFPointer: 'aMFPointer: 00 [bit length 6, 2 LSB pad bits, 0000 00.. decimal value 0]'\\n            'Item 2: id-RelativeAMFCapacity':\\n                ngap.id: 'id: id-RelativeAMFCapacity (86)'\\n                per.enum_index: 'Enumerated Index: 1'\\n                ngap.criticality: 'criticality: ignore (1)'\\n                per.open_type_length: 'Open Type Length: 1'\\n                ngap.value_element:\\n                    ngap.RelativeAMFCapacity: 'RelativeAMFCapacity: 255'\\n            'Item 3: id-PLMNSupportList':\\n                ngap.id: 'id: id-PLMNSupportList (80)'\\n                per.enum_index: 'Enumerated Index: 0'\\n                ngap.criticality: 'criticality: reject (0)'\\n                per.open_type_length: 'Open Type Length: 8'\\n                ngap.value_element:\\n                    per.sequence_of_length: 'Sequence-Of Length: 1'\\n                    ngap.PLMNSupportList:\\n                        Item 0:\\n                            ngap.PLMNSupportItem_element:\\n                                per.extension_bit: '.... 0... Extension Bit: False'\\n                                per.optional_field_bit: '.... .0.. Optional Field Bit: False (iE-Extensions is NOT present)'\\n                                ngap.pLMNIdentity:\\n                                    e212.mcc: 'Mobile Country Code (MCC): Private network (999)'\\n                                    e212.mnc: 'Mobile Network Code (MNC): Unknown (70)'\\n                                per.sequence_of_length: 'Sequence-Of Length: 1'\\n                                ngap.sliceSupportList:\\n                                    Item 0:\\n                                        ngap.SliceSupportItem_element:\\n                                            per.extension_bit: '0... .... Extension Bit: False'\\n                                            per.optional_field_bit: '.0.. .... Optional Field Bit: False (iE-Extensions is NOT present)'\\n                                            ngap.s_NSSAI_element:\\n                                                per.extension_bit: '..0. .... Extension Bit: False'\\n                                                per.optional_field_bit: '...0 .... Optional Field Bit: False (sD is NOT present)'\\n                                                per.optional_field_bit (2): '.... 0... Optional Field Bit: False (iE-Extensions is NOT present)'\\n                                                ngap.sST: 'sST: 01'\\n\", timestamp=1712213798.071167, timestamp_offsett=0.0036458969116210938), PacketDescription(ip_src='192.168.56.120', ip_dst='192.168.56.100', frame_number='15', protocols_str='NGAP', msg_description=\"NGAP-PDU: 000f40480000050055000200010026001a197e004179000d0199f9070000000000000000102e04f0f0f0f0007900135099f907000000010099f907000001e9b8cdaf005a4001180070400100\\nngap.procedureCode: 'procedureCode: id-InitialUEMessage (15)'\\nper.enum_index: 'Enumerated Index: 1'\\nngap.criticality: 'criticality: ignore (1)'\\nper.open_type_length: 'Open Type Length: 72'\\nngap.value_element:\\n-   ngap.InitialUEMessage_element:\\n        per.extension_bit: '0... .... Extension Bit: False'\\n        per.sequence_of_length: 'Sequence-Of Length: 5'\\n        ngap.protocolIEs:\\n            'Item 0: id-RAN-UE-NGAP-ID':\\n                ngap.id: 'id: id-RAN-UE-NGAP-ID (85)'\\n                per.enum_index: 'Enumerated Index: 0'\\n                ngap.criticality: 'criticality: reject (0)'\\n                per.open_type_length: 'Open Type Length: 2'\\n                ngap.value_element:\\n                    ngap.RAN_UE_NGAP_ID: 'RAN-UE-NGAP-ID: 1'\\n            'Item 1: id-NAS-PDU':\\n                ngap.id: 'id: id-NAS-PDU (38)'\\n                per.enum_index: 'Enumerated Index: 0'\\n                ngap.criticality: 'criticality: reject (0)'\\n                per.open_type_length: 'Open Type Length: 26'\\n                ngap.value_element:\\n                    per.octet_string_length: 'Octet String Length: 25'\\n                    ngap.NAS_PDU:\\n                        nas-5gs:\\n                            Plain NAS 5GS Message:\\n                                nas_5gs.epd: 'Extended protocol discriminator: 5G mobility management messages (126)'\\n                                nas_5gs.spare_half_octet: '0000 .... = Spare Half Octet: 0'\\n                                nas_5gs.security_header_type: '.... 0000 = Security header type: Plain NAS message, not security protected (0)'\\n                                nas_5gs.mm.message_type: 'Message type: Registration request (0x41)'\\n                                5GS registration type:\\n                                    nas_5gs.mm.for: '.... 1... = Follow-On Request bit (FOR): Follow-on request pending'\\n                                    nas_5gs.mm.5gs_reg_type: '.... .001 = 5GS registration type: initial registration (1)'\\n                                NAS key set identifier:\\n                                    nas_5gs.mm.tsc.h1: '0... .... = Type of security context flag (TSC): Native security context (for KSIAMF)'\\n                                    nas_5gs.mm.nas_key_set_id.h1: '.111 .... = NAS key set identifier: 7'\\n                                5GS mobile identity:\\n                                    gsm_a.len: 'Length: 13'\\n                                    nas_5gs.spare_b7: '0... .... = Spare: 0'\\n                                    nas_5gs.mm.suci.supi_fmt: '.000 .... = SUPI format: IMSI (0)'\\n                                    nas_5gs.spare_b3: '.... 0... = Spare: 0'\\n                                    nas_5gs.mm.type_id: '.... .001 = Type of identity: SUCI (1)'\\n                                    e212.mcc: 'Mobile Country Code (MCC): Private network (999)'\\n                                    e212.mnc: 'Mobile Network Code (MNC): Unknown (70)'\\n                                    nas_5gs.mm.suci.routing_indicator: 'Routing indicator: 0000'\\n                                    nas_5gs.mm.suci.scheme_id: '.... 0000 = Protection scheme Id: NULL scheme (0)'\\n                                    nas_5gs.mm.suci.pki: 'Home network public key identifier: 0'\\n                                    nas_5gs.mm.suci.msin: 'MSIN: 0000000001'\\n                                UE security capability:\\n                                    nas_5gs.mm.elem_id: 'Element ID: 0x2e'\\n                                    gsm_a.len: 'Length: 4'\\n                                    nas_5gs.mm.5g_ea0: '1... .... = 5G-EA0: Supported'\\n                                    nas_5gs.mm.128_5g_ea1: '.1.. .... = 128-5G-EA1: Supported'\\n                                    nas_5gs.mm.128_5g_ea2: '..1. .... = 128-5G-EA2: Supported'\\n                                    nas_5gs.mm.128_5g_ea3: '...1 .... = 128-5G-EA3: Supported'\\n                                    nas_5gs.mm.5g_ea4: '.... 0... = 5G-EA4: Not supported'\\n                                    nas_5gs.mm.5g_ea5: '.... .0.. = 5G-EA5: Not supported'\\n                                    nas_5gs.mm.5g_ea6: '.... ..0. = 5G-EA6: Not supported'\\n                                    nas_5gs.mm.5g_ea7: '.... ...0 = 5G-EA7: Not supported'\\n                                    nas_5gs.mm.ia0: '1... .... = 5G-IA0: Supported'\\n                                    nas_5gs.mm.5g_128_ia1: '.1.. .... = 128-5G-IA1: Supported'\\n                                    nas_5gs.mm.5g_128_ia2: '..1. .... = 128-5G-IA2: Supported'\\n                                    nas_5gs.mm.5g_128_ia3: '...1 .... = 128-5G-IA3: Supported'\\n                                    nas_5gs.mm.5g_128_ia4: '.... 0... = 5G-IA4: Not supported'\\n                                    nas_5gs.mm.5g_ia5: '.... .0.. = 5G-IA5: Not supported'\\n                                    nas_5gs.mm.5g_ia6: '.... ..0. = 5G-IA6: Not supported'\\n                                    nas_5gs.mm.5g_ia7: '.... ...0 = 5G-IA7: Not supported'\\n                                    nas_5gs.mm.eea0: '1... .... = EEA0: Supported'\\n                                    nas_5gs.mm.128eea1: '.1.. .... = 128-EEA1: Supported'\\n                                    nas_5gs.mm.128eea2: '..1. .... = 128-EEA2: Supported'\\n                                    nas_5gs.mm.eea3: '...1 .... = 128-EEA3: Supported'\\n                                    nas_5gs.mm.eea4: '.... 0... = EEA4: Not supported'\\n                                    nas_5gs.mm.eea5: '.... .0.. = EEA5: Not supported'\\n                                    nas_5gs.mm.eea6: '.... ..0. = EEA6: Not supported'\\n                                    nas_5gs.mm.eea7: '.... ...0 = EEA7: Not supported'\\n                                    nas_5gs.mm.eia0: '1... .... = EIA0: Supported'\\n                                    nas_5gs.mm.128eia1: '.1.. .... = 128-EIA1: Supported'\\n                                    nas_5gs.mm.128eia2: '..1. .... = 128-EIA2: Supported'\\n                                    nas_5gs.mm.eia3: '...1 .... = 128-EIA3: Supported'\\n                                    nas_5gs.mm.eia4: '.... 0... = EIA4: Not supported'\\n                                    nas_5gs.mm.eia5: '.... .0.. = EIA5: Not supported'\\n                                    nas_5gs.mm.eia6: '.... ..0. = EIA6: Not supported'\\n                                    nas_5gs.mm.eia7: '.... ...0 = EIA7: Not supported'\\n            'Item 2: id-UserLocationInformation':\\n                ngap.id: 'id: id-UserLocationInformation (121)'\\n                per.enum_index: 'Enumerated Index: 0'\\n                ngap.criticality: 'criticality: reject (0)'\\n                per.open_type_length: 'Open Type Length: 19'\\n                ngap.value_element:\\n                    per.choice_index: 'Choice Index: 1'\\n                    ngap.UserLocationInformation:\\n                        ngap.userLocationInformationNR_element:\\n                            per.extension_bit: '..0. .... Extension Bit: False'\\n                            per.optional_field_bit: '...1 .... Optional Field Bit: True (timeStamp is present)'\\n                            per.optional_field_bit (2): '.... 0... Optional Field Bit: False (iE-Extensions is NOT present)'\\n                            ngap.nR_CGI_element:\\n                                per.extension_bit: '.... .0.. Extension Bit: False'\\n                                per.optional_field_bit: '.... ..0. Optional Field Bit: False (iE-Extensions is NOT present)'\\n                                ngap.pLMNIdentity:\\n                                    e212.nrcgi.mcc: 'Mobile Country Code (MCC): Private network (999)'\\n                                    e212.nrcgi.mnc: 'Mobile Network Code (MNC): Unknown (70)'\\n                                ngap.NRCellIdentity: 'nRCellIdentity: 0x0000000010'\\n                            ngap.tAI_element:\\n                                per.extension_bit: '.... 0... Extension Bit: False'\\n                                per.optional_field_bit: '.... .0.. Optional Field Bit: False (iE-Extensions is NOT present)'\\n                                ngap.pLMNIdentity:\\n                                    e212.5gstai.mcc: 'Mobile Country Code (MCC): Private network (999)'\\n                                    e212.5gstai.mnc: 'Mobile Network Code (MNC): Unknown (70)'\\n                                ngap.tAC: 'tAC: 1 (0x000001)'\\n                            ngap.timeStamp: 'timeStamp: e9b8cdaf (Apr  4, 2024 06:56:47 UTC)'\\n            'Item 3: id-RRCEstablishmentCause':\\n                ngap.id: 'id: id-RRCEstablishmentCause (90)'\\n                per.enum_index: 'Enumerated Index: 1'\\n                ngap.criticality: 'criticality: ignore (1)'\\n                per.open_type_length: 'Open Type Length: 1'\\n                ngap.value_element:\\n                    per.extension_present_bit: '0... .... Extension Present Bit: False'\\n                    per.enum_index: 'Enumerated Index: 3'\\n                    ngap.RRCEstablishmentCause: 'RRCEstablishmentCause: mo-Signalling (3)'\\n            'Item 4: id-UEContextRequest':\\n                ngap.id: 'id: id-UEContextRequest (112)'\\n                per.enum_index: 'Enumerated Index: 1'\\n                ngap.criticality: 'criticality: ignore (1)'\\n                per.open_type_length: 'Open Type Length: 1'\\n                ngap.value_element:\\n                    per.extension_present_bit: '0... .... Extension Present Bit: False'\\n                    per.enum_index: 'Enumerated Index: 0'\\n                    ngap.UEContextRequest: 'UEContextRequest: requested (0)'\\n\", timestamp=1712213807.96641, timestamp_offsett=9.89888882637024), PacketDescription(ip_src='192.168.56.100', ip_dst='192.168.56.120', frame_number='16', protocols_str='NGAP', msg_description=\"NGAP-PDU: 0004403e000003000a000200040055000200010026002b2a7e005600020000212cfdebf2296762eea563d1fbda64088520100159c42d148b80009cb13a9dd7b19f7b\\nngap.procedureCode: 'procedureCode: id-DownlinkNASTransport (4)'\\nper.enum_index: 'Enumerated Index: 1'\\nngap.criticality: 'criticality: ignore (1)'\\nper.open_type_length: 'Open Type Length: 62'\\nngap.value_element:\\n-   ngap.DownlinkNASTransport_element:\\n        per.extension_bit: '0... .... Extension Bit: False'\\n        per.sequence_of_length: 'Sequence-Of Length: 3'\\n        ngap.protocolIEs:\\n            'Item 0: id-AMF-UE-NGAP-ID':\\n                ngap.id: 'id: id-AMF-UE-NGAP-ID (10)'\\n                per.enum_index: 'Enumerated Index: 0'\\n                ngap.criticality: 'criticality: reject (0)'\\n                per.open_type_length: 'Open Type Length: 2'\\n                ngap.value_element:\\n                    ngap.AMF_UE_NGAP_ID: 'AMF-UE-NGAP-ID: 4'\\n            'Item 1: id-RAN-UE-NGAP-ID':\\n                ngap.id: 'id: id-RAN-UE-NGAP-ID (85)'\\n                per.enum_index: 'Enumerated Index: 0'\\n                ngap.criticality: 'criticality: reject (0)'\\n                per.open_type_length: 'Open Type Length: 2'\\n                ngap.value_element:\\n                    ngap.RAN_UE_NGAP_ID: 'RAN-UE-NGAP-ID: 1'\\n            'Item 2: id-NAS-PDU':\\n                ngap.id: 'id: id-NAS-PDU (38)'\\n                per.enum_index: 'Enumerated Index: 0'\\n                ngap.criticality: 'criticality: reject (0)'\\n                per.open_type_length: 'Open Type Length: 43'\\n                ngap.value_element:\\n                    per.octet_string_length: 'Octet String Length: 42'\\n                    ngap.NAS_PDU:\\n                        nas-5gs:\\n                            Plain NAS 5GS Message:\\n                                nas_5gs.epd: 'Extended protocol discriminator: 5G mobility management messages (126)'\\n                                nas_5gs.spare_half_octet: '0000 .... = Spare Half Octet: 0'\\n                                nas_5gs.security_header_type: '.... 0000 = Security header type: Plain NAS message, not security protected (0)'\\n                                nas_5gs.mm.message_type: 'Message type: Authentication request (0x56)'\\n                                nas_5gs.spare_half_octet (2): '0000 .... = Spare Half Octet: 0'\\n                                NAS key set identifier - ngKSI:\\n                                    nas_5gs.mm.tsc: '.... 0... = Type of security context flag (TSC): Native security context (for KSIAMF)'\\n                                    nas_5gs.mm.nas_key_set_id: '.... .000 = NAS key set identifier: 0'\\n                                ABBA:\\n                                    gsm_a.len: 'Length: 2'\\n                                    nas_5gs.mm.abba_contents: 'ABBA Contents: 0000'\\n                                Authentication Parameter RAND - 5G authentication challenge:\\n                                    gsm_a.dtap.elem_id: 'Element ID: 0x21'\\n                                    gsm_a.dtap.rand: 'RAND value: 2cfdebf2296762eea563d1fbda640885'\\n                                Authentication Parameter AUTN (UMTS and EPS authentication challenge) - 5G authentication challenge:\\n                                    gsm_a.dtap.elem_id: 'Element ID: 0x20'\\n                                    gsm_a.len: 'Length: 16'\\n                                    gsm_a.dtap.autn:\\n                                        gsm_a.dtap.autn.sqn_xor_ak: 'SQN xor AK: 0159c42d148b'\\n                                        gsm_a.dtap.autn.amf: 'AMF: 8000'\\n                                        gsm_a.dtap.autn.mac: 'MAC: 9cb13a9dd7b19f7b'\\n\", timestamp=1712213807.990538, timestamp_offsett=9.923016786575317), PacketDescription(ip_src='192.168.56.120', ip_dst='192.168.56.100', frame_number='17', protocols_str='NGAP', msg_description=\"NGAP-PDU: 002e403f000004000a0002000400550002000100260015147e005915300ec4bef5eec75fc88c11dedc993778007940135099f907000000010099f907000001e9b8cdaf\\nngap.procedureCode: 'procedureCode: id-UplinkNASTransport (46)'\\nper.enum_index: 'Enumerated Index: 1'\\nngap.criticality: 'criticality: ignore (1)'\\nper.open_type_length: 'Open Type Length: 63'\\nngap.value_element:\\n-   ngap.UplinkNASTransport_element:\\n        per.extension_bit: '0... .... Extension Bit: False'\\n        per.sequence_of_length: 'Sequence-Of Length: 4'\\n        ngap.protocolIEs:\\n            'Item 0: id-AMF-UE-NGAP-ID':\\n                ngap.id: 'id: id-AMF-UE-NGAP-ID (10)'\\n                per.enum_index: 'Enumerated Index: 0'\\n                ngap.criticality: 'criticality: reject (0)'\\n                per.open_type_length: 'Open Type Length: 2'\\n                ngap.value_element:\\n                    ngap.AMF_UE_NGAP_ID: 'AMF-UE-NGAP-ID: 4'\\n            'Item 1: id-RAN-UE-NGAP-ID':\\n                ngap.id: 'id: id-RAN-UE-NGAP-ID (85)'\\n                per.enum_index: 'Enumerated Index: 0'\\n                ngap.criticality: 'criticality: reject (0)'\\n                per.open_type_length: 'Open Type Length: 2'\\n                ngap.value_element:\\n                    ngap.RAN_UE_NGAP_ID: 'RAN-UE-NGAP-ID: 1'\\n            'Item 2: id-NAS-PDU':\\n                ngap.id: 'id: id-NAS-PDU (38)'\\n                per.enum_index: 'Enumerated Index: 0'\\n                ngap.criticality: 'criticality: reject (0)'\\n                per.open_type_length: 'Open Type Length: 21'\\n                ngap.value_element:\\n                    per.octet_string_length: 'Octet String Length: 20'\\n                    ngap.NAS_PDU:\\n                        nas-5gs:\\n                            Plain NAS 5GS Message:\\n                                nas_5gs.epd: 'Extended protocol discriminator: 5G mobility management messages (126)'\\n                                nas_5gs.spare_half_octet: '0000 .... = Spare Half Octet: 0'\\n                                nas_5gs.security_header_type: '.... 0000 = Security header type: Plain NAS message, not security protected (0)'\\n                                nas_5gs.mm.message_type: 'Message type: Authentication failure (0x59)'\\n                                5GMM cause:\\n                                    nas_5gs.mm.5gmm_cause: '5GMM cause: Synch failure (21)'\\n                                Authentication Failure Parameter (UMTS and EPS authentication challenge):\\n                                    gsm_a.dtap.elem_id: 'Element ID: 0x30'\\n                                    gsm_a.len: 'Length: 14'\\n                                    gsm_a.dtap.auts:\\n                                        gsm_a.dtap.auts.sqn_ms_xor_ak: 'SQN_MS xor AK: c4bef5eec75f'\\n                                        gsm_a.dtap.auts.mac_s: 'MAC-S: c88c11dedc993778'\\n            'Item 3: id-UserLocationInformation':\\n                ngap.id: 'id: id-UserLocationInformation (121)'\\n                per.enum_index: 'Enumerated Index: 1'\\n                ngap.criticality: 'criticality: ignore (1)'\\n                per.open_type_length: 'Open Type Length: 19'\\n                ngap.value_element:\\n                    per.choice_index: 'Choice Index: 1'\\n                    ngap.UserLocationInformation:\\n                        ngap.userLocationInformationNR_element:\\n                            per.extension_bit: '..0. .... Extension Bit: False'\\n                            per.optional_field_bit: '...1 .... Optional Field Bit: True (timeStamp is present)'\\n                            per.optional_field_bit (2): '.... 0... Optional Field Bit: False (iE-Extensions is NOT present)'\\n                            ngap.nR_CGI_element:\\n                                per.extension_bit: '.... .0.. Extension Bit: False'\\n                                per.optional_field_bit: '.... ..0. Optional Field Bit: False (iE-Extensions is NOT present)'\\n                                ngap.pLMNIdentity:\\n                                    e212.nrcgi.mcc: 'Mobile Country Code (MCC): Private network (999)'\\n                                    e212.nrcgi.mnc: 'Mobile Network Code (MNC): Unknown (70)'\\n                                ngap.NRCellIdentity: 'nRCellIdentity: 0x0000000010'\\n                            ngap.tAI_element:\\n                                per.extension_bit: '.... 0... Extension Bit: False'\\n                                per.optional_field_bit: '.... .0.. Optional Field Bit: False (iE-Extensions is NOT present)'\\n                                ngap.pLMNIdentity:\\n                                    e212.5gstai.mcc: 'Mobile Country Code (MCC): Private network (999)'\\n                                    e212.5gstai.mnc: 'Mobile Network Code (MNC): Unknown (70)'\\n                                ngap.tAC: 'tAC: 1 (0x000001)'\\n                            ngap.timeStamp: 'timeStamp: e9b8cdaf (Apr  4, 2024 06:56:47 UTC)'\\n\", timestamp=1712213807.991515, timestamp_offsett=9.923993825912476), PacketDescription(ip_src='192.168.56.100', ip_dst='192.168.56.120', frame_number='18', protocols_str='NGAP', msg_description=\"NGAP-PDU: 0004403e000003000a000200040055000200010026002b2a7e00560102000021826a3cfd81bb25ba2fb0639e067c9b6420109ab7dbd597dc8000f38714f1e5a51d50\\nngap.procedureCode: 'procedureCode: id-DownlinkNASTransport (4)'\\nper.enum_index: 'Enumerated Index: 1'\\nngap.criticality: 'criticality: ignore (1)'\\nper.open_type_length: 'Open Type Length: 62'\\nngap.value_element:\\n-   ngap.DownlinkNASTransport_element:\\n        per.extension_bit: '0... .... Extension Bit: False'\\n        per.sequence_of_length: 'Sequence-Of Length: 3'\\n        ngap.protocolIEs:\\n            'Item 0: id-AMF-UE-NGAP-ID':\\n                ngap.id: 'id: id-AMF-UE-NGAP-ID (10)'\\n                per.enum_index: 'Enumerated Index: 0'\\n                ngap.criticality: 'criticality: reject (0)'\\n                per.open_type_length: 'Open Type Length: 2'\\n                ngap.value_element:\\n                    ngap.AMF_UE_NGAP_ID: 'AMF-UE-NGAP-ID: 4'\\n            'Item 1: id-RAN-UE-NGAP-ID':\\n                ngap.id: 'id: id-RAN-UE-NGAP-ID (85)'\\n                per.enum_index: 'Enumerated Index: 0'\\n                ngap.criticality: 'criticality: reject (0)'\\n                per.open_type_length: 'Open Type Length: 2'\\n                ngap.value_element:\\n                    ngap.RAN_UE_NGAP_ID: 'RAN-UE-NGAP-ID: 1'\\n            'Item 2: id-NAS-PDU':\\n                ngap.id: 'id: id-NAS-PDU (38)'\\n                per.enum_index: 'Enumerated Index: 0'\\n                ngap.criticality: 'criticality: reject (0)'\\n                per.open_type_length: 'Open Type Length: 43'\\n                ngap.value_element:\\n                    per.octet_string_length: 'Octet String Length: 42'\\n                    ngap.NAS_PDU:\\n                        nas-5gs:\\n                            Plain NAS 5GS Message:\\n                                nas_5gs.epd: 'Extended protocol discriminator: 5G mobility management messages (126)'\\n                                nas_5gs.spare_half_octet: '0000 .... = Spare Half Octet: 0'\\n                                nas_5gs.security_header_type: '.... 0000 = Security header type: Plain NAS message, not security protected (0)'\\n                                nas_5gs.mm.message_type: 'Message type: Authentication request (0x56)'\\n                                nas_5gs.spare_half_octet (2): '0000 .... = Spare Half Octet: 0'\\n                                NAS key set identifier - ngKSI:\\n                                    nas_5gs.mm.tsc: '.... 0... = Type of security context flag (TSC): Native security context (for KSIAMF)'\\n                                    nas_5gs.mm.nas_key_set_id: '.... .001 = NAS key set identifier: 1'\\n                                ABBA:\\n                                    gsm_a.len: 'Length: 2'\\n                                    nas_5gs.mm.abba_contents: 'ABBA Contents: 0000'\\n                                Authentication Parameter RAND - 5G authentication challenge:\\n                                    gsm_a.dtap.elem_id: 'Element ID: 0x21'\\n                                    gsm_a.dtap.rand: 'RAND value: 826a3cfd81bb25ba2fb0639e067c9b64'\\n                                Authentication Parameter AUTN (UMTS and EPS authentication challenge) - 5G authentication challenge:\\n                                    gsm_a.dtap.elem_id: 'Element ID: 0x20'\\n                                    gsm_a.len: 'Length: 16'\\n                                    gsm_a.dtap.autn:\\n                                        gsm_a.dtap.autn.sqn_xor_ak: 'SQN xor AK: 9ab7dbd597dc'\\n                                        gsm_a.dtap.autn.amf: 'AMF: 8000'\\n                                        gsm_a.dtap.autn.mac: 'MAC: f38714f1e5a51d50'\\n\", timestamp=1712213807.995326, timestamp_offsett=9.927804946899414), PacketDescription(ip_src='192.168.56.120', ip_dst='192.168.56.100', frame_number='19', protocols_str='NGAP', msg_description=\"NGAP-PDU: 002e4040000004000a0002000400550002000100260016157e00572d105a77798c442a0dc32cf4eb3279b4f2b7007940135099f907000000010099f907000001e9b8cdaf\\nngap.procedureCode: 'procedureCode: id-UplinkNASTransport (46)'\\nper.enum_index: 'Enumerated Index: 1'\\nngap.criticality: 'criticality: ignore (1)'\\nper.open_type_length: 'Open Type Length: 64'\\nngap.value_element:\\n-   ngap.UplinkNASTransport_element:\\n        per.extension_bit: '0... .... Extension Bit: False'\\n        per.sequence_of_length: 'Sequence-Of Length: 4'\\n        ngap.protocolIEs:\\n            'Item 0: id-AMF-UE-NGAP-ID':\\n                ngap.id: 'id: id-AMF-UE-NGAP-ID (10)'\\n                per.enum_index: 'Enumerated Index: 0'\\n                ngap.criticality: 'criticality: reject (0)'\\n                per.open_type_length: 'Open Type Length: 2'\\n                ngap.value_element:\\n                    ngap.AMF_UE_NGAP_ID: 'AMF-UE-NGAP-ID: 4'\\n            'Item 1: id-RAN-UE-NGAP-ID':\\n                ngap.id: 'id: id-RAN-UE-NGAP-ID (85)'\\n                per.enum_index: 'Enumerated Index: 0'\\n                ngap.criticality: 'criticality: reject (0)'\\n                per.open_type_length: 'Open Type Length: 2'\\n                ngap.value_element:\\n                    ngap.RAN_UE_NGAP_ID: 'RAN-UE-NGAP-ID: 1'\\n            'Item 2: id-NAS-PDU':\\n                ngap.id: 'id: id-NAS-PDU (38)'\\n                per.enum_index: 'Enumerated Index: 0'\\n                ngap.criticality: 'criticality: reject (0)'\\n                per.open_type_length: 'Open Type Length: 22'\\n                ngap.value_element:\\n                    per.octet_string_length: 'Octet String Length: 21'\\n                    ngap.NAS_PDU:\\n                        nas-5gs:\\n                            Plain NAS 5GS Message:\\n                                nas_5gs.epd: 'Extended protocol discriminator: 5G mobility management messages (126)'\\n                                nas_5gs.spare_half_octet: '0000 .... = Spare Half Octet: 0'\\n                                nas_5gs.security_header_type: '.... 0000 = Security header type: Plain NAS message, not security protected (0)'\\n                                nas_5gs.mm.message_type: 'Message type: Authentication response (0x57)'\\n                                Authentication response parameter:\\n                                    nas_eps.emm.elem_id: 'Element ID: 0x2d'\\n                                    gsm_a.len: 'Length: 16'\\n                                    nas_eps.emm.res: 'RES: 5a77798c442a0dc32cf4eb3279b4f2b7'\\n            'Item 3: id-UserLocationInformation':\\n                ngap.id: 'id: id-UserLocationInformation (121)'\\n                per.enum_index: 'Enumerated Index: 1'\\n                ngap.criticality: 'criticality: ignore (1)'\\n                per.open_type_length: 'Open Type Length: 19'\\n                ngap.value_element:\\n                    per.choice_index: 'Choice Index: 1'\\n                    ngap.UserLocationInformation:\\n                        ngap.userLocationInformationNR_element:\\n                            per.extension_bit: '..0. .... Extension Bit: False'\\n                            per.optional_field_bit: '...1 .... Optional Field Bit: True (timeStamp is present)'\\n                            per.optional_field_bit (2): '.... 0... Optional Field Bit: False (iE-Extensions is NOT present)'\\n                            ngap.nR_CGI_element:\\n                                per.extension_bit: '.... .0.. Extension Bit: False'\\n                                per.optional_field_bit: '.... ..0. Optional Field Bit: False (iE-Extensions is NOT present)'\\n                                ngap.pLMNIdentity:\\n                                    e212.nrcgi.mcc: 'Mobile Country Code (MCC): Private network (999)'\\n                                    e212.nrcgi.mnc: 'Mobile Network Code (MNC): Unknown (70)'\\n                                ngap.NRCellIdentity: 'nRCellIdentity: 0x0000000010'\\n                            ngap.tAI_element:\\n                                per.extension_bit: '.... 0... Extension Bit: False'\\n                                per.optional_field_bit: '.... .0.. Optional Field Bit: False (iE-Extensions is NOT present)'\\n                                ngap.pLMNIdentity:\\n                                    e212.5gstai.mcc: 'Mobile Country Code (MCC): Private network (999)'\\n                                    e212.5gstai.mnc: 'Mobile Network Code (MNC): Unknown (70)'\\n                                ngap.tAC: 'tAC: 1 (0x000001)'\\n                            ngap.timeStamp: 'timeStamp: e9b8cdaf (Apr  4, 2024 06:56:47 UTC)'\\n\", timestamp=1712213807.996005, timestamp_offsett=9.928483963012695), PacketDescription(ip_src='192.168.56.100', ip_dst='192.168.56.120', frame_number='20', protocols_str='NGAP', msg_description=\"NGAP-PDU: 00044029000003000a0002000400550002000100260016157e0356ef3f97007e005d020104f0f0f0f0e1360102\\nngap.procedureCode: 'procedureCode: id-DownlinkNASTransport (4)'\\nper.enum_index: 'Enumerated Index: 1'\\nngap.criticality: 'criticality: ignore (1)'\\nper.open_type_length: 'Open Type Length: 41'\\nngap.value_element:\\n-   ngap.DownlinkNASTransport_element:\\n        per.extension_bit: '0... .... Extension Bit: False'\\n        per.sequence_of_length: 'Sequence-Of Length: 3'\\n        ngap.protocolIEs:\\n            'Item 0: id-AMF-UE-NGAP-ID':\\n                ngap.id: 'id: id-AMF-UE-NGAP-ID (10)'\\n                per.enum_index: 'Enumerated Index: 0'\\n                ngap.criticality: 'criticality: reject (0)'\\n                per.open_type_length: 'Open Type Length: 2'\\n                ngap.value_element:\\n                    ngap.AMF_UE_NGAP_ID: 'AMF-UE-NGAP-ID: 4'\\n            'Item 1: id-RAN-UE-NGAP-ID':\\n                ngap.id: 'id: id-RAN-UE-NGAP-ID (85)'\\n                per.enum_index: 'Enumerated Index: 0'\\n                ngap.criticality: 'criticality: reject (0)'\\n                per.open_type_length: 'Open Type Length: 2'\\n                ngap.value_element:\\n                    ngap.RAN_UE_NGAP_ID: 'RAN-UE-NGAP-ID: 1'\\n            'Item 2: id-NAS-PDU':\\n                ngap.id: 'id: id-NAS-PDU (38)'\\n                per.enum_index: 'Enumerated Index: 0'\\n                ngap.criticality: 'criticality: reject (0)'\\n                per.open_type_length: 'Open Type Length: 22'\\n                ngap.value_element:\\n                    per.octet_string_length: 'Octet String Length: 21'\\n                    ngap.NAS_PDU:\\n                        nas-5gs:\\n                            Security protected NAS 5GS message:\\n                                nas_5gs.epd: 'Extended protocol discriminator: 5G mobility management messages (126)'\\n                                nas_5gs.spare_half_octet: '0000 .... = Spare Half Octet: 0'\\n                                nas_5gs.security_header_type: '.... 0011 = Security header type: Integrity protected with new 5GS security context (3)'\\n                                nas_5gs.msg_auth_code: 'Message authentication code: 0x56ef3f97'\\n                                nas_5gs.seq_no: 'Sequence number: 0'\\n                            Plain NAS 5GS Message:\\n                                nas_5gs.epd: 'Extended protocol discriminator: 5G mobility management messages (126)'\\n                                nas_5gs.spare_half_octet: '0000 .... = Spare Half Octet: 0'\\n                                nas_5gs.security_header_type: '.... 0000 = Security header type: Plain NAS message, not security protected (0)'\\n                                nas_5gs.mm.message_type: 'Message type: Security mode command (0x5d)'\\n                                NAS security algorithms:\\n                                    nas_5gs.mm.nas_sec_algo_enc: '0000 .... = Type of ciphering algorithm: 5G-EA0 (null ciphering algorithm) (0)'\\n                                    nas_5gs.mm.nas_sec_algo_ip: '.... 0010 = Type of integrity protection algorithm: 128-5G-IA2 (2)'\\n                                nas_5gs.spare_half_octet (2): '0000 .... = Spare Half Octet: 0'\\n                                NAS key set identifier - ngKSI:\\n                                    nas_5gs.mm.tsc: '.... 0... = Type of security context flag (TSC): Native security context (for KSIAMF)'\\n                                    nas_5gs.mm.nas_key_set_id: '.... .001 = NAS key set identifier: 1'\\n                                UE security capability - Replayed UE security capabilities:\\n                                    gsm_a.len: 'Length: 4'\\n                                    nas_5gs.mm.5g_ea0: '1... .... = 5G-EA0: Supported'\\n                                    nas_5gs.mm.128_5g_ea1: '.1.. .... = 128-5G-EA1: Supported'\\n                                    nas_5gs.mm.128_5g_ea2: '..1. .... = 128-5G-EA2: Supported'\\n                                    nas_5gs.mm.128_5g_ea3: '...1 .... = 128-5G-EA3: Supported'\\n                                    nas_5gs.mm.5g_ea4: '.... 0... = 5G-EA4: Not supported'\\n                                    nas_5gs.mm.5g_ea5: '.... .0.. = 5G-EA5: Not supported'\\n                                    nas_5gs.mm.5g_ea6: '.... ..0. = 5G-EA6: Not supported'\\n                                    nas_5gs.mm.5g_ea7: '.... ...0 = 5G-EA7: Not supported'\\n                                    nas_5gs.mm.ia0: '1... .... = 5G-IA0: Supported'\\n                                    nas_5gs.mm.5g_128_ia1: '.1.. .... = 128-5G-IA1: Supported'\\n                                    nas_5gs.mm.5g_128_ia2: '..1. .... = 128-5G-IA2: Supported'\\n                                    nas_5gs.mm.5g_128_ia3: '...1 .... = 128-5G-IA3: Supported'\\n                                    nas_5gs.mm.5g_128_ia4: '.... 0... = 5G-IA4: Not supported'\\n                                    nas_5gs.mm.5g_ia5: '.... .0.. = 5G-IA5: Not supported'\\n                                    nas_5gs.mm.5g_ia6: '.... ..0. = 5G-IA6: Not supported'\\n                                    nas_5gs.mm.5g_ia7: '.... ...0 = 5G-IA7: Not supported'\\n                                    nas_5gs.mm.eea0: '1... .... = EEA0: Supported'\\n                                    nas_5gs.mm.128eea1: '.1.. .... = 128-EEA1: Supported'\\n                                    nas_5gs.mm.128eea2: '..1. .... = 128-EEA2: Supported'\\n                                    nas_5gs.mm.eea3: '...1 .... = 128-EEA3: Supported'\\n                                    nas_5gs.mm.eea4: '.... 0... = EEA4: Not supported'\\n                                    nas_5gs.mm.eea5: '.... .0.. = EEA5: Not supported'\\n                                    nas_5gs.mm.eea6: '.... ..0. = EEA6: Not supported'\\n                                    nas_5gs.mm.eea7: '.... ...0 = EEA7: Not supported'\\n                                    nas_5gs.mm.eia0: '1... .... = EIA0: Supported'\\n                                    nas_5gs.mm.128eia1: '.1.. .... = 128-EIA1: Supported'\\n                                    nas_5gs.mm.128eia2: '..1. .... = 128-EIA2: Supported'\\n                                    nas_5gs.mm.eia3: '...1 .... = 128-EIA3: Supported'\\n                                    nas_5gs.mm.eia4: '.... 0... = EIA4: Not supported'\\n                                    nas_5gs.mm.eia5: '.... .0.. = EIA5: Not supported'\\n                                    nas_5gs.mm.eia6: '.... ..0. = EIA6: Not supported'\\n                                    nas_5gs.mm.eia7: '.... ...0 = EIA7: Not supported'\\n                                IMEISV request:\\n                                    gsm_a.common.elem_id: '1110 .... = Element ID: 0xe-'\\n                                    nas_eps.spare_bits: '.... 0... = Spare bit(s): 0x00'\\n                                    nas_eps.emm.imeisv_req: '.... .001 = IMEISV request: IMEISV requested (1)'\\n                                Additional 5G security information:\\n                                    nas_5gs.mm.elem_id: 'Element ID: 0x36'\\n                                    gsm_a.len: 'Length: 1'\\n                                    nas_5gs.spare_b7: '0... .... = Spare: 0'\\n                                    nas_5gs.spare_b6: '.0.. .... = Spare: 0'\\n                                    nas_5gs.spare_b5: '..0. .... = Spare: 0'\\n                                    nas_5gs.spare_b4: '...0 .... = Spare: 0'\\n                                    nas_5gs.spare_b3: '.... 0... = Spare: 0'\\n                                    nas_5gs.spare_b2: '.... .0.. = Spare: 0'\\n                                    nas_5gs.mm.rinmr: '.... ..1. = Retransmission of initial NAS message request (RINMR): Requested'\\n                                    nas_5gs.mm.hdp: '.... ...0 = Horizontal derivation parameter (HDP): Not required'\\n\", timestamp=1712213807.999838, timestamp_offsett=9.932317018508911), PacketDescription(ip_src='192.168.56.120', ip_dst='192.168.56.100', frame_number='21', protocols_str='NGAP', msg_description=\"NGAP-PDU: 002e4067000004000a000200040055000200010026003d3c7e042e555f70007e005e7700094573806121856151f17100237e004179000d0199f9070000000000000000101001002e04f0f0f0f02f020101530100007940135099f907000000010099f907000001e9b8cdaf\\nngap.procedureCode: 'procedureCode: id-UplinkNASTransport (46)'\\nper.enum_index: 'Enumerated Index: 1'\\nngap.criticality: 'criticality: ignore (1)'\\nper.open_type_length: 'Open Type Length: 103'\\nngap.value_element:\\n-   ngap.UplinkNASTransport_element:\\n        per.extension_bit: '0... .... Extension Bit: False'\\n        per.sequence_of_length: 'Sequence-Of Length: 4'\\n        ngap.protocolIEs:\\n            'Item 0: id-AMF-UE-NGAP-ID':\\n                ngap.id: 'id: id-AMF-UE-NGAP-ID (10)'\\n                per.enum_index: 'Enumerated Index: 0'\\n                ngap.criticality: 'criticality: reject (0)'\\n                per.open_type_length: 'Open Type Length: 2'\\n                ngap.value_element:\\n                    ngap.AMF_UE_NGAP_ID: 'AMF-UE-NGAP-ID: 4'\\n            'Item 1: id-RAN-UE-NGAP-ID':\\n                ngap.id: 'id: id-RAN-UE-NGAP-ID (85)'\\n                per.enum_index: 'Enumerated Index: 0'\\n                ngap.criticality: 'criticality: reject (0)'\\n                per.open_type_length: 'Open Type Length: 2'\\n                ngap.value_element:\\n                    ngap.RAN_UE_NGAP_ID: 'RAN-UE-NGAP-ID: 1'\\n            'Item 2: id-NAS-PDU':\\n                ngap.id: 'id: id-NAS-PDU (38)'\\n                per.enum_index: 'Enumerated Index: 0'\\n                ngap.criticality: 'criticality: reject (0)'\\n                per.open_type_length: 'Open Type Length: 61'\\n                ngap.value_element:\\n                    per.octet_string_length: 'Octet String Length: 60'\\n                    ngap.NAS_PDU:\\n                        nas-5gs:\\n                            Security protected NAS 5GS message:\\n                                nas_5gs.epd: 'Extended protocol discriminator: 5G mobility management messages (126)'\\n                                nas_5gs.spare_half_octet: '0000 .... = Spare Half Octet: 0'\\n                                nas_5gs.security_header_type: '.... 0100 = Security header type: Integrity protected and ciphered with new 5GS security context (4)'\\n                                nas_5gs.msg_auth_code: 'Message authentication code: 0x2e555f70'\\n                                nas_5gs.seq_no: 'Sequence number: 0'\\n                            Plain NAS 5GS Message:\\n                                nas_5gs.epd: 'Extended protocol discriminator: 5G mobility management messages (126)'\\n                                nas_5gs.spare_half_octet: '0000 .... = Spare Half Octet: 0'\\n                                nas_5gs.security_header_type: '.... 0000 = Security header type: Plain NAS message, not security protected (0)'\\n                                nas_5gs.mm.message_type: 'Message type: Security mode complete (0x5e)'\\n                                5GS mobile identity:\\n                                    nas_5gs.mm.elem_id: 'Element ID: 0x77'\\n                                    gsm_a.len: 'Length: 9'\\n                                    nas_5gs.mm.odd_even: '.... 0... = Odd/even indication: Even number of identity digits'\\n                                    nas_5gs.mm.type_id: '.... .101 = Type of identity: IMEISV (5)'\\n                                    nas_5gs.mm.imeisv: 'IMEISV: 4370816125816151'\\n                                NAS message container:\\n                                    nas_5gs.mm.elem_id: 'Element ID: 0x71'\\n                                    gsm_a.len: 'Length: 35'\\n                                    nas-5gs:\\n                                        Plain NAS 5GS Message:\\n                                            nas_5gs.epd: 'Extended protocol discriminator: 5G mobility management messages (126)'\\n                                            nas_5gs.spare_half_octet: '0000 .... = Spare Half Octet: 0'\\n                                            nas_5gs.security_header_type: '.... 0000 = Security header type: Plain NAS message, not security protected (0)'\\n                                            nas_5gs.mm.message_type: 'Message type: Registration request (0x41)'\\n                                            5GS registration type:\\n                                                nas_5gs.mm.for: '.... 1... = Follow-On Request bit (FOR): Follow-on request pending'\\n                                                nas_5gs.mm.5gs_reg_type: '.... .001 = 5GS registration type: initial registration (1)'\\n                                            NAS key set identifier:\\n                                                nas_5gs.mm.tsc.h1: '0... .... = Type of security context flag (TSC): Native security context (for KSIAMF)'\\n                                                nas_5gs.mm.nas_key_set_id.h1: '.111 .... = NAS key set identifier: 7'\\n                                            5GS mobile identity:\\n                                                gsm_a.len: 'Length: 13'\\n                                                nas_5gs.spare_b7: '0... .... = Spare: 0'\\n                                                nas_5gs.mm.suci.supi_fmt: '.000 .... = SUPI format: IMSI (0)'\\n                                                nas_5gs.spare_b3: '.... 0... = Spare: 0'\\n                                                nas_5gs.mm.type_id: '.... .001 = Type of identity: SUCI (1)'\\n                                                e212.mcc: 'Mobile Country Code (MCC): Private network (999)'\\n                                                e212.mnc: 'Mobile Network Code (MNC): Unknown (70)'\\n                                                nas_5gs.mm.suci.routing_indicator: 'Routing indicator: 0000'\\n                                                nas_5gs.mm.suci.scheme_id: '.... 0000 = Protection scheme Id: NULL scheme (0)'\\n                                                nas_5gs.mm.suci.pki: 'Home network public key identifier: 0'\\n                                                nas_5gs.mm.suci.msin: 'MSIN: 0000000001'\\n                                            5GMM capability:\\n                                                nas_5gs.mm.elem_id: 'Element ID: 0x10'\\n                                                gsm_a.len: 'Length: 1'\\n                                                nas_5gs.mm.sgc_b7: '0... .... = Service gap control (SGC): Not supported'\\n                                                nas_5gs.mm.5g_iphc_cp_ciot_b6: '.0.. .... = IP header compression for control plane CIoT 5GS optimization (5G-IPHC-CP CIoT): Not supported'\\n                                                nas_5gs.mm.n3_data_b5: '..0. .... = N3 data transfer (N3 data): Not supported'\\n                                                nas_5gs.mm.5g_cp_ciot_b4: '...0 .... = Control plane CIoT 5GS optimization (5G-CP CIoT): Not supported'\\n                                                nas_5gs.mm.restrict_ec_b3: '.... 0... = Restriction on use of enhanced coverage support (RestrictEC): Not supported'\\n                                                nas_5gs.mm.lpp_cap_b2: '.... .0.. = LTE Positioning Protocol (LPP) capability: Not supported'\\n                                                nas_5gs.mm.ho_attach_b1: '.... ..0. = ATTACH REQUEST message containing PDN CONNECTIVITY REQUEST message for handover support (HO attach): Not supported'\\n                                                nas_5gs.mm.s1_mode_b0: '.... ...0 = EPC NAS supported (S1 mode): Not supported'\\n                                            UE security capability:\\n                                                nas_5gs.mm.elem_id: 'Element ID: 0x2e'\\n                                                gsm_a.len: 'Length: 4'\\n                                                nas_5gs.mm.5g_ea0: '1... .... = 5G-EA0: Supported'\\n                                                nas_5gs.mm.128_5g_ea1: '.1.. .... = 128-5G-EA1: Supported'\\n                                                nas_5gs.mm.128_5g_ea2: '..1. .... = 128-5G-EA2: Supported'\\n                                                nas_5gs.mm.128_5g_ea3: '...1 .... = 128-5G-EA3: Supported'\\n                                                nas_5gs.mm.5g_ea4: '.... 0... = 5G-EA4: Not supported'\\n                                                nas_5gs.mm.5g_ea5: '.... .0.. = 5G-EA5: Not supported'\\n                                                nas_5gs.mm.5g_ea6: '.... ..0. = 5G-EA6: Not supported'\\n                                                nas_5gs.mm.5g_ea7: '.... ...0 = 5G-EA7: Not supported'\\n                                                nas_5gs.mm.ia0: '1... .... = 5G-IA0: Supported'\\n                                                nas_5gs.mm.5g_128_ia1: '.1.. .... = 128-5G-IA1: Supported'\\n                                                nas_5gs.mm.5g_128_ia2: '..1. .... = 128-5G-IA2: Supported'\\n                                                nas_5gs.mm.5g_128_ia3: '...1 .... = 128-5G-IA3: Supported'\\n                                                nas_5gs.mm.5g_128_ia4: '.... 0... = 5G-IA4: Not supported'\\n                                                nas_5gs.mm.5g_ia5: '.... .0.. = 5G-IA5: Not supported'\\n                                                nas_5gs.mm.5g_ia6: '.... ..0. = 5G-IA6: Not supported'\\n                                                nas_5gs.mm.5g_ia7: '.... ...0 = 5G-IA7: Not supported'\\n                                                nas_5gs.mm.eea0: '1... .... = EEA0: Supported'\\n                                                nas_5gs.mm.128eea1: '.1.. .... = 128-EEA1: Supported'\\n                                                nas_5gs.mm.128eea2: '..1. .... = 128-EEA2: Supported'\\n                                                nas_5gs.mm.eea3: '...1 .... = 128-EEA3: Supported'\\n                                                nas_5gs.mm.eea4: '.... 0... = EEA4: Not supported'\\n                                                nas_5gs.mm.eea5: '.... .0.. = EEA5: Not supported'\\n                                                nas_5gs.mm.eea6: '.... ..0. = EEA6: Not supported'\\n                                                nas_5gs.mm.eea7: '.... ...0 = EEA7: Not supported'\\n                                                nas_5gs.mm.eia0: '1... .... = EIA0: Supported'\\n                                                nas_5gs.mm.128eia1: '.1.. .... = 128-EIA1: Supported'\\n                                                nas_5gs.mm.128eia2: '..1. .... = 128-EIA2: Supported'\\n                                                nas_5gs.mm.eia3: '...1 .... = 128-EIA3: Supported'\\n                                                nas_5gs.mm.eia4: '.... 0... = EIA4: Not supported'\\n                                                nas_5gs.mm.eia5: '.... .0.. = EIA5: Not supported'\\n                                                nas_5gs.mm.eia6: '.... ..0. = EIA6: Not supported'\\n                                                nas_5gs.mm.eia7: '.... ...0 = EIA7: Not supported'\\n                                            NSSAI - Requested NSSAI:\\n                                                nas_5gs.mm.elem_id: 'Element ID: 0x2f'\\n                                                gsm_a.len: 'Length: 2'\\n                                                S-NSSAI 1:\\n                                                    nas_5gs.mm.length: 'Length: 1'\\n                                                    nas_5gs.mm.sst: 'Slice/service type (SST): eMBB (1)'\\n                                            5GS update type:\\n                                                nas_5gs.mm.elem_id: 'Element ID: 0x53'\\n                                                gsm_a.len: 'Length: 1'\\n                                                nas_5gs.spare_b7: '0... .... = Spare: 0'\\n                                                nas_5gs.spare_b6: '.0.. .... = Spare: 0'\\n                                                nas_5gs.mm.eps_pnb_ciot: '..00 .... = EPS Preferred CIoT network behaviour (EPS-PNB-CIoT): no additional information (0)'\\n                                                nas_5gs.mm.5gs_pnb_ciot: '.... 00.. = 5GS Preferred CIoT network behaviour (5GS PNB-CIoT): no additional information (0)'\\n                                                nas_5gs.mm.ng_ran_rcu: '.... ..0. = NG-RAN Radio Capability Update (NG-RAN-RCU): Not Needed'\\n                                                nas_5gs.mm.sms_requested: '.... ...0 = SMS over NAS transport requested (SMS requested): Not supported'\\n            'Item 3: id-UserLocationInformation':\\n                ngap.id: 'id: id-UserLocationInformation (121)'\\n                per.enum_index: 'Enumerated Index: 1'\\n                ngap.criticality: 'criticality: ignore (1)'\\n                per.open_type_length: 'Open Type Length: 19'\\n                ngap.value_element:\\n                    per.choice_index: 'Choice Index: 1'\\n                    ngap.UserLocationInformation:\\n                        ngap.userLocationInformationNR_element:\\n                            per.extension_bit: '..0. .... Extension Bit: False'\\n                            per.optional_field_bit: '...1 .... Optional Field Bit: True (timeStamp is present)'\\n                            per.optional_field_bit (2): '.... 0... Optional Field Bit: False (iE-Extensions is NOT present)'\\n                            ngap.nR_CGI_element:\\n                                per.extension_bit: '.... .0.. Extension Bit: False'\\n                                per.optional_field_bit: '.... ..0. Optional Field Bit: False (iE-Extensions is NOT present)'\\n                                ngap.pLMNIdentity:\\n                                    e212.nrcgi.mcc: 'Mobile Country Code (MCC): Private network (999)'\\n                                    e212.nrcgi.mnc: 'Mobile Network Code (MNC): Unknown (70)'\\n                                ngap.NRCellIdentity: 'nRCellIdentity: 0x0000000010'\\n                            ngap.tAI_element:\\n                                per.extension_bit: '.... 0... Extension Bit: False'\\n                                per.optional_field_bit: '.... .0.. Optional Field Bit: False (iE-Extensions is NOT present)'\\n                                ngap.pLMNIdentity:\\n                                    e212.5gstai.mcc: 'Mobile Country Code (MCC): Private network (999)'\\n                                    e212.5gstai.mnc: 'Mobile Network Code (MNC): Unknown (70)'\\n                                ngap.tAC: 'tAC: 1 (0x000001)'\\n                            ngap.timeStamp: 'timeStamp: e9b8cdaf (Apr  4, 2024 06:56:47 UTC)'\\n\", timestamp=1712213808.000695, timestamp_offsett=9.933173894882202), PacketDescription(ip_src='192.168.56.100', ip_dst='192.168.56.120', frame_number='22', protocols_str='NGAP', msg_description=\"NGAP-PDU: 000e008090000008000a00020004005500020001001c00070099f907020040000000020001007700091c000e000700038000005e0020f186914f5fa8a41432a3c65fef55eb4880df50affcce0fde04eaacb78ea2dd40002240084370816125ffff510026402f2e7e027b3bad86017e0042010177000bf299f907020040c000068854074099f90700000115020101210201005e01a9\\nngap.procedureCode: 'procedureCode: id-InitialContextSetup (14)'\\nper.enum_index: 'Enumerated Index: 0'\\nngap.criticality: 'criticality: reject (0)'\\nper.open_type_length: 'Open Type Length: 144'\\nngap.value_element:\\n-   ngap.InitialContextSetupRequest_element:\\n        per.extension_bit: '0... .... Extension Bit: False'\\n        per.sequence_of_length: 'Sequence-Of Length: 8'\\n        ngap.protocolIEs:\\n            'Item 0: id-AMF-UE-NGAP-ID':\\n                ngap.id: 'id: id-AMF-UE-NGAP-ID (10)'\\n                per.enum_index: 'Enumerated Index: 0'\\n                ngap.criticality: 'criticality: reject (0)'\\n                per.open_type_length: 'Open Type Length: 2'\\n                ngap.value_element:\\n                    ngap.AMF_UE_NGAP_ID: 'AMF-UE-NGAP-ID: 4'\\n            'Item 1: id-RAN-UE-NGAP-ID':\\n                ngap.id: 'id: id-RAN-UE-NGAP-ID (85)'\\n                per.enum_index: 'Enumerated Index: 0'\\n                ngap.criticality: 'criticality: reject (0)'\\n                per.open_type_length: 'Open Type Length: 2'\\n                ngap.value_element:\\n                    ngap.RAN_UE_NGAP_ID: 'RAN-UE-NGAP-ID: 1'\\n            'Item 2: id-GUAMI':\\n                ngap.id: 'id: id-GUAMI (28)'\\n                per.enum_index: 'Enumerated Index: 0'\\n                ngap.criticality: 'criticality: reject (0)'\\n                per.open_type_length: 'Open Type Length: 7'\\n                ngap.value_element:\\n                    ngap.GUAMI_element:\\n                        per.extension_bit: '0... .... Extension Bit: False'\\n                        per.optional_field_bit: '.0.. .... Optional Field Bit: False (iE-Extensions is NOT present)'\\n                        ngap.pLMNIdentity:\\n                            e212.guami.mcc: 'Mobile Country Code (MCC): Private network (999)'\\n                            e212.guami.mnc: 'Mobile Network Code (MNC): Unknown (70)'\\n                        ngap.aMFRegionID: 'aMFRegionID: 02 [bit length 8, 0000 0010 decimal value 2]'\\n                        ngap.aMFSetID: 'aMFSetID: 0040 [bit length 10, 6 LSB pad bits, 0000 0000  01.. .... decimal value 1]'\\n                        ngap.aMFPointer: 'aMFPointer: 00 [bit length 6, 2 LSB pad bits, 0000 00.. decimal value 0]'\\n            'Item 3: id-AllowedNSSAI':\\n                ngap.id: 'id: id-AllowedNSSAI (0)'\\n                per.enum_index: 'Enumerated Index: 0'\\n                ngap.criticality: 'criticality: reject (0)'\\n                per.open_type_length: 'Open Type Length: 2'\\n                ngap.value_element:\\n                    per.sequence_of_length: 'Sequence-Of Length: 1'\\n                    ngap.AllowedNSSAI:\\n                        Item 0:\\n                            ngap.AllowedNSSAI_Item_element:\\n                                per.extension_bit: '...0 .... Extension Bit: False'\\n                                per.optional_field_bit: '.... 0... Optional Field Bit: False (iE-Extensions is NOT present)'\\n                                ngap.s_NSSAI_element:\\n                                    per.extension_bit: '.... .0.. Extension Bit: False'\\n                                    per.optional_field_bit: '.... ..0. Optional Field Bit: False (sD is NOT present)'\\n                                    per.optional_field_bit (2): '.... ...0 Optional Field Bit: False (iE-Extensions is NOT present)'\\n                                    ngap.sST: 'sST: 01'\\n            'Item 4: id-UESecurityCapabilities':\\n                ngap.id: 'id: id-UESecurityCapabilities (119)'\\n                per.enum_index: 'Enumerated Index: 0'\\n                ngap.criticality: 'criticality: reject (0)'\\n                per.open_type_length: 'Open Type Length: 9'\\n                ngap.value_element:\\n                    ngap.UESecurityCapabilities_element:\\n                        per.extension_bit: '0... .... Extension Bit: False'\\n                        per.optional_field_bit: '.0.. .... Optional Field Bit: False (iE-Extensions is NOT present)'\\n                        per.extension_present_bit: '..0. .... Extension Present Bit: False'\\n                        ngap.nRencryptionAlgorithms:\\n                            ngap.NrencryptionAlgorithms.nea1: '1... .... .... .... = 128-NEA1: Supported'\\n                            ngap.NrencryptionAlgorithms.nea2: '.1.. .... .... .... = 128-NEA2: Supported'\\n                            ngap.NrencryptionAlgorithms.nea3: '..1. .... .... .... = 128-NEA3: Supported'\\n                            ngap.NrencryptionAlgorithms.reserved: '...0 0000 0000 0000 = Reserved: 0x0000'\\n                        per.extension_present_bit (2): '...0 .... Extension Present Bit: False'\\n                        ngap.nRintegrityProtectionAlgorithms:\\n                            ngap.NrintegrityProtectionAlgorithms.nia1: '1... .... .... .... = 128-NIA1: Supported'\\n                            ngap.NrintegrityProtectionAlgorithms.nia2: '.1.. .... .... .... = 128-NIA2: Supported'\\n                            ngap.NrintegrityProtectionAlgorithms.nia3: '..1. .... .... .... = 128-NIA3: Supported'\\n                            ngap.NrintegrityProtectionAlgorithms.reserved: '...0 0000 0000 0000 = Reserved: 0x0000'\\n                        per.extension_present_bit (3): '.... 0... Extension Present Bit: False'\\n                        ngap.eUTRAencryptionAlgorithms:\\n                            ngap.EUTRAencryptionAlgorithms.eea1: '1... .... .... .... = 128-EEA1: Supported'\\n                            ngap.EUTRAencryptionAlgorithms.eea2: '.1.. .... .... .... = 128-EEA2: Supported'\\n                            ngap.EUTRAencryptionAlgorithms.eea3: '..1. .... .... .... = 128-EEA3: Supported'\\n                            ngap.EUTRAencryptionAlgorithms.reserved: '...0 0000 0000 0000 = Reserved: 0x0000'\\n                        per.extension_present_bit (4): '.... .0.. Extension Present Bit: False'\\n                        ngap.eUTRAintegrityProtectionAlgorithms:\\n                            ngap.EUTRAintegrityProtectionAlgorithms.eia1: '1... .... .... .... = 128-EIA1: Supported'\\n                            ngap.EUTRAintegrityProtectionAlgorithms.eia2: '.1.. .... .... .... = 128-EIA2: Supported'\\n                            ngap.EUTRAintegrityProtectionAlgorithms.eia3: '..1. .... .... .... = 128-EIA3: Supported'\\n                            ngap.EUTRAintegrityProtectionAlgorithms.reserved: '...0 0000 0000 0000 = Reserved: 0x0000'\\n            'Item 5: id-SecurityKey':\\n                ngap.id: 'id: id-SecurityKey (94)'\\n                per.enum_index: 'Enumerated Index: 0'\\n                ngap.criticality: 'criticality: reject (0)'\\n                per.open_type_length: 'Open Type Length: 32'\\n                ngap.value_element:\\n                    ngap.SecurityKey: 'SecurityKey: f186914f5fa8a41432a3c65fef55eb4880df50affcce0fde04eaacb78ea2dd40 [bit length 256]'\\n            'Item 6: id-MaskedIMEISV':\\n                ngap.id: 'id: id-MaskedIMEISV (34)'\\n                per.enum_index: 'Enumerated Index: 1'\\n                ngap.criticality: 'criticality: ignore (1)'\\n                per.open_type_length: 'Open Type Length: 8'\\n                ngap.value_element:\\n                    ngap.MaskedIMEISV: 'MaskedIMEISV: 4370816125ffff51 [bit length 64, 0100 0011  0111 0000  1000 0001  0110 0001  0010 0101  1111 1111  1111 1111  0101 0001 decimal value 4859526252182110033]'\\n            'Item 7: id-NAS-PDU':\\n                ngap.id: 'id: id-NAS-PDU (38)'\\n                per.enum_index: 'Enumerated Index: 1'\\n                ngap.criticality: 'criticality: ignore (1)'\\n                per.open_type_length: 'Open Type Length: 47'\\n                ngap.value_element:\\n                    per.octet_string_length: 'Octet String Length: 46'\\n                    ngap.NAS_PDU:\\n                        nas-5gs:\\n                            Security protected NAS 5GS message:\\n                                nas_5gs.epd: 'Extended protocol discriminator: 5G mobility management messages (126)'\\n                                nas_5gs.spare_half_octet: '0000 .... = Spare Half Octet: 0'\\n                                nas_5gs.security_header_type: '.... 0010 = Security header type: Integrity protected and ciphered (2)'\\n                                nas_5gs.msg_auth_code: 'Message authentication code: 0x7b3bad86'\\n                                nas_5gs.seq_no: 'Sequence number: 1'\\n                            Plain NAS 5GS Message:\\n                                nas_5gs.epd: 'Extended protocol discriminator: 5G mobility management messages (126)'\\n                                nas_5gs.spare_half_octet: '0000 .... = Spare Half Octet: 0'\\n                                nas_5gs.security_header_type: '.... 0000 = Security header type: Plain NAS message, not security protected (0)'\\n                                nas_5gs.mm.message_type: 'Message type: Registration accept (0x42)'\\n                                5GS registration result:\\n                                    gsm_a.len: 'Length: 1'\\n                                    nas_5gs.mm.reg_res.emergency_reg: '..0. .... = Emergency registered: Not registered for emergency services'\\n                                    nas_5gs.mm.reg_res.nssaa_perf: '...0 .... = NSSAA Performed: Network slice-specific authentication and authorization is not to be performed'\\n                                    nas_5gs.mm.reg_res.sms_all: '.... 0... = SMS over NAS: Not Allowed'\\n                                    nas_5gs.mm.reg_res.res: '.... .001 = 5GS registration result: 3GPP access (1)'\\n                                5GS mobile identity - 5G-GUTI:\\n                                    nas_5gs.mm.elem_id: 'Element ID: 0x77'\\n                                    gsm_a.len: 'Length: 11'\\n                                    nas_5gs.spare_b7: '1... .... = Spare: 1'\\n                                    nas_5gs.spare_b6: '.1.. .... = Spare: 1'\\n                                    nas_5gs.spare_b5: '..1. .... = Spare: 1'\\n                                    nas_5gs.spare_b4: '...1 .... = Spare: 1'\\n                                    nas_5gs.spare_b3: '.... 0... = Spare: 0'\\n                                    nas_5gs.mm.type_id: '.... .010 = Type of identity: 5G-GUTI (2)'\\n                                    e212.guami.mcc: 'Mobile Country Code (MCC): Private network (999)'\\n                                    e212.guami.mnc: 'Mobile Network Code (MNC): Unknown (70)'\\n                                    nas_5gs.amf_region_id: 'AMF Region ID: 2'\\n                                    nas_5gs.amf_set_id: '0000 0000 01.. .... = AMF Set ID: 1'\\n                                    nas_5gs.amf_pointer: '..00 0000 = AMF Pointer: 0'\\n                                    nas_5gs.5g_tmsi: '5G-TMSI: 3221227144 (0xc0000688)'\\n                                    3gpp.tmsi: 'TMSI/P-TMSI/M-TMSI/5G-TMSI: 3221227144 (0xc0000688)'\\n                                5GS tracking area identity list:\\n                                    nas_5gs.mm.elem_id: 'Element ID: 0x54'\\n                                    gsm_a.len: 'Length: 7'\\n                                    Partial tracking area list  1:\\n                                        nas_5gs.mm.tal_t_li: '.10. .... = Type of list: list of TAIs belonging to different PLMNs (2)'\\n                                        nas_5gs.mm.tal_num_e: '...0 0000 = Number of elements: 1 element (0)'\\n                                        e212.5gstai.mcc: 'Mobile Country Code (MCC): Private network (999)'\\n                                        e212.5gstai.mnc: 'Mobile Network Code (MNC): Unknown (70)'\\n                                        nas_5gs.tac: 'TAC: 1'\\n                                NSSAI - Allowed NSSAI:\\n                                    nas_5gs.mm.elem_id: 'Element ID: 0x15'\\n                                    gsm_a.len: 'Length: 2'\\n                                    S-NSSAI 1:\\n                                        nas_5gs.mm.length: 'Length: 1'\\n                                        nas_5gs.mm.sst: 'Slice/service type (SST): eMBB (1)'\\n                                5GS network feature support:\\n                                    nas_5gs.mm.elem_id: 'Element ID: 0x21'\\n                                    gsm_a.len: 'Length: 2'\\n                                    nas_5gs.nw_feat_sup.mpsi: '0... .... = MPS indicator (MPSI): Access identity 1 not valid in RPLMN or equivalent PLMN'\\n                                    nas_5gs.nw_feat_sup.iwk_n26: '.0.. .... = Interworking without N26 (IWK N26): Not supported'\\n                                    nas_5gs.nw_feat_sup.emf: '..00 .... = Emergency service fallback indicator (EMF): Emergency services fallback not supported (0)'\\n                                    nas_5gs.nw_feat_sup.emc: '.... 00.. = Emergency service support indicator (EMC): Emergency services not supported (0)'\\n                                    nas_5gs.nw_feat_sup.vops_n3gpp: '.... ..0. = IMS voice over PS session over non-3GPP access indicator (IMS-VoPS-N3GPP): Not supported'\\n                                    nas_5gs.nw_feat_sup.vops_3gpp: '.... ...1 = IMS voice over PS session indicator (IMS VoPS): Supported'\\n                                    nas_5gs.nw_feat_sup.5g_ciot_up: '0... .... = User plane CIoT 5GS optimization (5G-UP CIoT): Not supported'\\n                                    nas_5gs.nw_feat_sup.5g_iphc_cp_ciot: '.0.. .... = IP header compression for control plane CIoT 5GS optimization (5G-IPHC-CP CIoT): Not supported'\\n                                    nas_5gs.nw_feat_sup.n3_data: '..0. .... = N3 data transfer (N3 data): Not supported'\\n                                    nas_5gs.nw_feat_sup.5g_cp_ciot: '...0 .... = Control plane CIoT 5GS optimization (5G-CP CIoT): Not supported'\\n                                    nas_5gs.nw_feat_sup.restrict_ec: '.... 00.. = Restriction on enhanced coverage (RestrictEC): WB-N1: Both CE mode A and CE mode B are not restricted / NB-N1: Use of enhanced coverage is not restricted (0)'\\n                                    nas_5gs.nw_feat_sup.mcsi: '.... ..0. = MCS indicator (MCSI): Access identity 2 not valid'\\n                                    nas_5gs.nw_feat_sup.emcn3: '.... ...0 = Emergency services over non-3GPP access (EMCN3): Not supported'\\n                                GPRS Timer 3 - T3512 value:\\n                                    gsm_a.gm.elem_id: 'Element ID: 0x5e'\\n                                    gsm_a.len: 'Length: 1'\\n                                    gsm_a.gm.gmm.gprs_timer3:\\n                                        gsm_a.gm.gmm.gprs_timer3_unit: '101. .... = Unit: value is incremented in multiples of 1 minute (5)'\\n                                        gsm_a.gm.gmm.gprs_timer3_value: '...0 1001 = Timer value: 9'\\n\", timestamp=1712213808.014187, timestamp_offsett=9.94666600227356), PacketDescription(ip_src='192.168.56.120', ip_dst='192.168.56.100', frame_number='23', protocols_str='NGAP', msg_description=\"NGAP-PDU: 200e000f000002000a40020004005540020001\\nngap.procedureCode: 'procedureCode: id-InitialContextSetup (14)'\\nper.enum_index: 'Enumerated Index: 0'\\nngap.criticality: 'criticality: reject (0)'\\nper.open_type_length: 'Open Type Length: 15'\\nngap.value_element:\\n-   ngap.InitialContextSetupResponse_element:\\n        per.extension_bit: '0... .... Extension Bit: False'\\n        per.sequence_of_length: 'Sequence-Of Length: 2'\\n        ngap.protocolIEs:\\n            'Item 0: id-AMF-UE-NGAP-ID':\\n                ngap.id: 'id: id-AMF-UE-NGAP-ID (10)'\\n                per.enum_index: 'Enumerated Index: 1'\\n                ngap.criticality: 'criticality: ignore (1)'\\n                per.open_type_length: 'Open Type Length: 2'\\n                ngap.value_element:\\n                    ngap.AMF_UE_NGAP_ID: 'AMF-UE-NGAP-ID: 4'\\n            'Item 1: id-RAN-UE-NGAP-ID':\\n                ngap.id: 'id: id-RAN-UE-NGAP-ID (85)'\\n                per.enum_index: 'Enumerated Index: 1'\\n                ngap.criticality: 'criticality: ignore (1)'\\n                per.open_type_length: 'Open Type Length: 2'\\n                ngap.value_element:\\n                    ngap.RAN_UE_NGAP_ID: 'RAN-UE-NGAP-ID: 1'\\n\", timestamp=1712213808.014552, timestamp_offsett=9.947031021118164), PacketDescription(ip_src='192.168.56.120', ip_dst='192.168.56.100', frame_number='25', protocols_str='NGAP', msg_description=\"NGAP-PDU: 002e4035000004000a000200040055000200010026000b0a7e026a2c0dd5017e0043007940135099f907000000010099f907000001e9b8cdaf\\nngap.procedureCode: 'procedureCode: id-UplinkNASTransport (46)'\\nper.enum_index: 'Enumerated Index: 1'\\nngap.criticality: 'criticality: ignore (1)'\\nper.open_type_length: 'Open Type Length: 53'\\nngap.value_element:\\n-   ngap.UplinkNASTransport_element:\\n        per.extension_bit: '0... .... Extension Bit: False'\\n        per.sequence_of_length: 'Sequence-Of Length: 4'\\n        ngap.protocolIEs:\\n            'Item 0: id-AMF-UE-NGAP-ID':\\n                ngap.id: 'id: id-AMF-UE-NGAP-ID (10)'\\n                per.enum_index: 'Enumerated Index: 0'\\n                ngap.criticality: 'criticality: reject (0)'\\n                per.open_type_length: 'Open Type Length: 2'\\n                ngap.value_element:\\n                    ngap.AMF_UE_NGAP_ID: 'AMF-UE-NGAP-ID: 4'\\n            'Item 1: id-RAN-UE-NGAP-ID':\\n                ngap.id: 'id: id-RAN-UE-NGAP-ID (85)'\\n                per.enum_index: 'Enumerated Index: 0'\\n                ngap.criticality: 'criticality: reject (0)'\\n                per.open_type_length: 'Open Type Length: 2'\\n                ngap.value_element:\\n                    ngap.RAN_UE_NGAP_ID: 'RAN-UE-NGAP-ID: 1'\\n            'Item 2: id-NAS-PDU':\\n                ngap.id: 'id: id-NAS-PDU (38)'\\n                per.enum_index: 'Enumerated Index: 0'\\n                ngap.criticality: 'criticality: reject (0)'\\n                per.open_type_length: 'Open Type Length: 11'\\n                ngap.value_element:\\n                    per.octet_string_length: 'Octet String Length: 10'\\n                    ngap.NAS_PDU:\\n                        nas-5gs:\\n                            Security protected NAS 5GS message:\\n                                nas_5gs.epd: 'Extended protocol discriminator: 5G mobility management messages (126)'\\n                                nas_5gs.spare_half_octet: '0000 .... = Spare Half Octet: 0'\\n                                nas_5gs.security_header_type: '.... 0010 = Security header type: Integrity protected and ciphered (2)'\\n                                nas_5gs.msg_auth_code: 'Message authentication code: 0x6a2c0dd5'\\n                                nas_5gs.seq_no: 'Sequence number: 1'\\n                            Plain NAS 5GS Message:\\n                                nas_5gs.epd: 'Extended protocol discriminator: 5G mobility management messages (126)'\\n                                nas_5gs.spare_half_octet: '0000 .... = Spare Half Octet: 0'\\n                                nas_5gs.security_header_type: '.... 0000 = Security header type: Plain NAS message, not security protected (0)'\\n                                nas_5gs.mm.message_type: 'Message type: Registration complete (0x43)'\\n            'Item 3: id-UserLocationInformation':\\n                ngap.id: 'id: id-UserLocationInformation (121)'\\n                per.enum_index: 'Enumerated Index: 1'\\n                ngap.criticality: 'criticality: ignore (1)'\\n                per.open_type_length: 'Open Type Length: 19'\\n                ngap.value_element:\\n                    per.choice_index: 'Choice Index: 1'\\n                    ngap.UserLocationInformation:\\n                        ngap.userLocationInformationNR_element:\\n                            per.extension_bit: '..0. .... Extension Bit: False'\\n                            per.optional_field_bit: '...1 .... Optional Field Bit: True (timeStamp is present)'\\n                            per.optional_field_bit (2): '.... 0... Optional Field Bit: False (iE-Extensions is NOT present)'\\n                            ngap.nR_CGI_element:\\n                                per.extension_bit: '.... .0.. Extension Bit: False'\\n                                per.optional_field_bit: '.... ..0. Optional Field Bit: False (iE-Extensions is NOT present)'\\n                                ngap.pLMNIdentity:\\n                                    e212.nrcgi.mcc: 'Mobile Country Code (MCC): Private network (999)'\\n                                    e212.nrcgi.mnc: 'Mobile Network Code (MNC): Unknown (70)'\\n                                ngap.NRCellIdentity: 'nRCellIdentity: 0x0000000010'\\n                            ngap.tAI_element:\\n                                per.extension_bit: '.... 0... Extension Bit: False'\\n                                per.optional_field_bit: '.... .0.. Optional Field Bit: False (iE-Extensions is NOT present)'\\n                                ngap.pLMNIdentity:\\n                                    e212.5gstai.mcc: 'Mobile Country Code (MCC): Private network (999)'\\n                                    e212.5gstai.mnc: 'Mobile Network Code (MNC): Unknown (70)'\\n                                ngap.tAC: 'tAC: 1 (0x000001)'\\n                            ngap.timeStamp: 'timeStamp: e9b8cdaf (Apr  4, 2024 06:56:47 UTC)'\\n\\nNGAP-PDU: 002e405e000004000a0002000400550002000100260034337e02ab345431027e00670100152e0101c1ffff91a12801007b000780000a00000d00120181220101250908696e7465726e6574007940135099f907000000010099f907000001e9b8cdaf\\nngap.procedureCode: 'procedureCode: id-UplinkNASTransport (46)'\\nper.enum_index: 'Enumerated Index: 1'\\nngap.criticality: 'criticality: ignore (1)'\\nper.open_type_length: 'Open Type Length: 94'\\nngap.value_element:\\n-   ngap.UplinkNASTransport_element:\\n        per.extension_bit: '0... .... Extension Bit: False'\\n        per.sequence_of_length: 'Sequence-Of Length: 4'\\n        ngap.protocolIEs:\\n            'Item 0: id-AMF-UE-NGAP-ID':\\n                ngap.id: 'id: id-AMF-UE-NGAP-ID (10)'\\n                per.enum_index: 'Enumerated Index: 0'\\n                ngap.criticality: 'criticality: reject (0)'\\n                per.open_type_length: 'Open Type Length: 2'\\n                ngap.value_element:\\n                    ngap.AMF_UE_NGAP_ID: 'AMF-UE-NGAP-ID: 4'\\n            'Item 1: id-RAN-UE-NGAP-ID':\\n                ngap.id: 'id: id-RAN-UE-NGAP-ID (85)'\\n                per.enum_index: 'Enumerated Index: 0'\\n                ngap.criticality: 'criticality: reject (0)'\\n                per.open_type_length: 'Open Type Length: 2'\\n                ngap.value_element:\\n                    ngap.RAN_UE_NGAP_ID: 'RAN-UE-NGAP-ID: 1'\\n            'Item 2: id-NAS-PDU':\\n                ngap.id: 'id: id-NAS-PDU (38)'\\n                per.enum_index: 'Enumerated Index: 0'\\n                ngap.criticality: 'criticality: reject (0)'\\n                per.open_type_length: 'Open Type Length: 52'\\n                ngap.value_element:\\n                    per.octet_string_length: 'Octet String Length: 51'\\n                    ngap.NAS_PDU:\\n                        nas-5gs:\\n                            Security protected NAS 5GS message:\\n                                nas_5gs.epd: 'Extended protocol discriminator: 5G mobility management messages (126)'\\n                                nas_5gs.spare_half_octet: '0000 .... = Spare Half Octet: 0'\\n                                nas_5gs.security_header_type: '.... 0010 = Security header type: Integrity protected and ciphered (2)'\\n                                nas_5gs.msg_auth_code: 'Message authentication code: 0xab345431'\\n                                nas_5gs.seq_no: 'Sequence number: 2'\\n                            Plain NAS 5GS Message:\\n                                nas_5gs.epd: 'Extended protocol discriminator: 5G mobility management messages (126)'\\n                                nas_5gs.spare_half_octet: '0000 .... = Spare Half Octet: 0'\\n                                nas_5gs.security_header_type: '.... 0000 = Security header type: Plain NAS message, not security protected (0)'\\n                                nas_5gs.mm.message_type: 'Message type: UL NAS transport (0x67)'\\n                                nas_5gs.spare_half_octet (2): '0000 .... = Spare Half Octet: 0'\\n                                Payload container type:\\n                                    nas_5gs.mm.pld_cont_type: '.... 0001 = Payload container type: N1 SM information (1)'\\n                                Payload container:\\n                                    gsm_a.len: 'Length: 21'\\n                                    Plain NAS 5GS Message:\\n                                        nas_5gs.epd: 'Extended protocol discriminator: 5G session management messages (46)'\\n                                        nas_5gs.pdu_session_id: 'PDU session identity: PDU session identity value 1 (1)'\\n                                        nas_5gs.proc_trans_id: 'Procedure transaction identity: 1'\\n                                        nas_5gs.sm.message_type: 'Message type: PDU session establishment request (0xc1)'\\n                                        Integrity protection maximum data rate:\\n                                            nas_5gs.sm.int_prot_max_data_rate_ul: 'Integrity protection maximum data rate for uplink: Full data rate (255)'\\n                                            nas_5gs.sm.int_prot_max_data_rate_dl: 'Integrity protection maximum data rate for downlink: Full data rate (255)'\\n                                        PDU session type:\\n                                            gsm_a.common.elem_id: '1001 .... = Element ID: 0x9-'\\n                                            nas_5gs.sm.pdu_session_type: '.... .001 = PDU session type: IPv4 (1)'\\n                                        SSC mode:\\n                                            gsm_a.common.elem_id: '1010 .... = Element ID: 0xa-'\\n                                            nas_5gs.sm.sc_mode: '.... .001 = SSC mode: SSC mode 1 (1)'\\n                                        5GSM capability:\\n                                            nas_5gs.sm.elem_id: 'Element ID: 0x28'\\n                                            gsm_a.len: 'Length: 1'\\n                                            nas_5gs.sm.tpmic: '0... .... = Transfer of port management information containers (TPMIC): Not supported'\\n                                            nas_5gs.sm.atsss_st: '.000 0... = Supported ATSSS steering functionalities and steering modes (ATSSS-ST): ATSSS not supported (0)'\\n                                            nas_5gs.sm.ept_s1: '.... .0.. = Ethernet PDN type in S1 mode (EPT-S1): Not supported'\\n                                            nas_5gs.sm.mh6_pdu: '.... ..0. = Multi-homed IPv6 PDU session (MH6-PDU): Not supported'\\n                                            nas_5gs.sm.rqos: '.... ...0 = Reflective QoS (RqoS): Not supported'\\n                                        Extended protocol configuration options:\\n                                            nas_eps.esm.elem_id: 'Element ID: 0x7b'\\n                                            gsm_a.len: 'Length: 7'\\n                                            gsm_a.gm.sm.link_dir: 'Link direction: MS to network (0)'\\n                                            gsm_a.gm.sm.ext: '1... .... = Extension: True'\\n                                            gsm_a.gm.configuration_protocol: '.... .000 = Configuration Protocol: PPP for use with IP PDP type or IP PDN type (0)'\\n                                            gsm_a.gm.sm.pco_pid:\\n                                                gsm_a.gm.sm.pco.length: 'Length: 0x00 (0)'\\n                                            gsm_a.gm.sm.pco_pid (2):\\n                                                gsm_a.gm.sm.pco.length: 'Length: 0x00 (0)'\\n                                PDU session identity 2 - PDU session ID:\\n                                    nas_5gs.mm.elem_id: 'Element ID: 0x12'\\n                                    nas_5gs.pdu_session_id: 'PDU session identity: PDU session identity value 1 (1)'\\n                                Request type:\\n                                    gsm_a.common.elem_id: '1000 .... = Element ID: 0x8-'\\n                                    nas_5gs.mm.req_type: '.... .001 = Request type: Initial request (1)'\\n                                S-NSSAI:\\n                                    nas_5gs.common.elem_id: 'Element ID: 0x22'\\n                                    gsm_a.len: 'Length: 1'\\n                                    nas_5gs.mm.sst: 'Slice/service type (SST): eMBB (1)'\\n                                DNN:\\n                                    nas_5gs.common.elem_id: 'Element ID: 0x25'\\n                                    gsm_a.len: 'Length: 9'\\n                                    nas_5gs.cmn.dnn: 'DNN: internet'\\n            'Item 3: id-UserLocationInformation':\\n                ngap.id: 'id: id-UserLocationInformation (121)'\\n                per.enum_index: 'Enumerated Index: 1'\\n                ngap.criticality: 'criticality: ignore (1)'\\n                per.open_type_length: 'Open Type Length: 19'\\n                ngap.value_element:\\n                    per.choice_index: 'Choice Index: 1'\\n                    ngap.UserLocationInformation:\\n                        ngap.userLocationInformationNR_element:\\n                            per.extension_bit: '..0. .... Extension Bit: False'\\n                            per.optional_field_bit: '...1 .... Optional Field Bit: True (timeStamp is present)'\\n                            per.optional_field_bit (2): '.... 0... Optional Field Bit: False (iE-Extensions is NOT present)'\\n                            ngap.nR_CGI_element:\\n                                per.extension_bit: '.... .0.. Extension Bit: False'\\n                                per.optional_field_bit: '.... ..0. Optional Field Bit: False (iE-Extensions is NOT present)'\\n                                ngap.pLMNIdentity:\\n                                    e212.nrcgi.mcc: 'Mobile Country Code (MCC): Private network (999)'\\n                                    e212.nrcgi.mnc: 'Mobile Network Code (MNC): Unknown (70)'\\n                                ngap.NRCellIdentity: 'nRCellIdentity: 0x0000000010'\\n                            ngap.tAI_element:\\n                                per.extension_bit: '.... 0... Extension Bit: False'\\n                                per.optional_field_bit: '.... .0.. Optional Field Bit: False (iE-Extensions is NOT present)'\\n                                ngap.pLMNIdentity:\\n                                    e212.5gstai.mcc: 'Mobile Country Code (MCC): Private network (999)'\\n                                    e212.5gstai.mnc: 'Mobile Network Code (MNC): Unknown (70)'\\n                                ngap.tAC: 'tAC: 1 (0x000001)'\\n                            ngap.timeStamp: 'timeStamp: e9b8cdaf (Apr  4, 2024 06:56:47 UTC)'\\n\", timestamp=1712213808.222714, timestamp_offsett=10.155192852020264), PacketDescription(ip_src='192.168.56.100', ip_dst='192.168.56.120', frame_number='26', protocols_str='NGAP', msg_description=\"NGAP-PDU: 00044047000003000a0002000400550002000100260034337e02ba2f641a027e0054430f90004f00700065006e003500470053450990004e006500780074460a474240406065840a490101\\nngap.procedureCode: 'procedureCode: id-DownlinkNASTransport (4)'\\nper.enum_index: 'Enumerated Index: 1'\\nngap.criticality: 'criticality: ignore (1)'\\nper.open_type_length: 'Open Type Length: 71'\\nngap.value_element:\\n-   ngap.DownlinkNASTransport_element:\\n        per.extension_bit: '0... .... Extension Bit: False'\\n        per.sequence_of_length: 'Sequence-Of Length: 3'\\n        ngap.protocolIEs:\\n            'Item 0: id-AMF-UE-NGAP-ID':\\n                ngap.id: 'id: id-AMF-UE-NGAP-ID (10)'\\n                per.enum_index: 'Enumerated Index: 0'\\n                ngap.criticality: 'criticality: reject (0)'\\n                per.open_type_length: 'Open Type Length: 2'\\n                ngap.value_element:\\n                    ngap.AMF_UE_NGAP_ID: 'AMF-UE-NGAP-ID: 4'\\n            'Item 1: id-RAN-UE-NGAP-ID':\\n                ngap.id: 'id: id-RAN-UE-NGAP-ID (85)'\\n                per.enum_index: 'Enumerated Index: 0'\\n                ngap.criticality: 'criticality: reject (0)'\\n                per.open_type_length: 'Open Type Length: 2'\\n                ngap.value_element:\\n                    ngap.RAN_UE_NGAP_ID: 'RAN-UE-NGAP-ID: 1'\\n            'Item 2: id-NAS-PDU':\\n                ngap.id: 'id: id-NAS-PDU (38)'\\n                per.enum_index: 'Enumerated Index: 0'\\n                ngap.criticality: 'criticality: reject (0)'\\n                per.open_type_length: 'Open Type Length: 52'\\n                ngap.value_element:\\n                    per.octet_string_length: 'Octet String Length: 51'\\n                    ngap.NAS_PDU:\\n                        nas-5gs:\\n                            Security protected NAS 5GS message:\\n                                nas_5gs.epd: 'Extended protocol discriminator: 5G mobility management messages (126)'\\n                                nas_5gs.spare_half_octet: '0000 .... = Spare Half Octet: 0'\\n                                nas_5gs.security_header_type: '.... 0010 = Security header type: Integrity protected and ciphered (2)'\\n                                nas_5gs.msg_auth_code: 'Message authentication code: 0xba2f641a'\\n                                nas_5gs.seq_no: 'Sequence number: 2'\\n                            Plain NAS 5GS Message:\\n                                nas_5gs.epd: 'Extended protocol discriminator: 5G mobility management messages (126)'\\n                                nas_5gs.spare_half_octet: '0000 .... = Spare Half Octet: 0'\\n                                nas_5gs.security_header_type: '.... 0000 = Security header type: Plain NAS message, not security protected (0)'\\n                                nas_5gs.mm.message_type: 'Message type: Configuration update command (0x54)'\\n                                Network Name - Full name for network:\\n                                    gsm_a.dtap.elem_id: 'Element ID: 0x43'\\n                                    gsm_a.len: 'Length: 15'\\n                                    gsm_a.extension: '1... .... = Extension: No Extension'\\n                                    gsm_a.dtap.coding_scheme: '.001 .... = Coding Scheme: UCS2 (16 bit) (1)'\\n                                    gsm_a.dtap.add_ci: '.... 0... = Add CI: The MS should not add the letters for the Country''s Initials to the text string'\\n                                    gsm_a.dtap.number_of_spare_bits: '.... .000 = Number of spare bits in last octet: this field carries no information about the number of spare bits in octet n (0)'\\n                                    gsm_a.dtap.text_string: 'Text String: Open5GS'\\n                                Network Name - Short Name:\\n                                    gsm_a.dtap.elem_id: 'Element ID: 0x45'\\n                                    gsm_a.len: 'Length: 9'\\n                                    gsm_a.extension: '1... .... = Extension: No Extension'\\n                                    gsm_a.dtap.coding_scheme: '.001 .... = Coding Scheme: UCS2 (16 bit) (1)'\\n                                    gsm_a.dtap.add_ci: '.... 0... = Add CI: The MS should not add the letters for the Country''s Initials to the text string'\\n                                    gsm_a.dtap.number_of_spare_bits: '.... .000 = Number of spare bits in last octet: this field carries no information about the number of spare bits in octet n (0)'\\n                                    gsm_a.dtap.text_string: 'Text String: Next'\\n                                Time Zone - Local:\\n                                    gsm_a.dtap.elem_id: 'Element ID: 0x46'\\n                                    gsm_a.dtap.timezone: 'Timezone: GMT - 5 hours 0 minutes'\\n                                Time Zone and Time - Universal Time and Local Time Zone:\\n                                    gsm_a.dtap.elem_id: 'Element ID: 0x47'\\n                                    gsm_a.dtap.time_zone_time: 'Time: Apr  4, 2024 06:56:48.000000000'\\n                                    gsm_a.dtap.timezone: 'Timezone: GMT - 5 hours 0 minutes'\\n                                Daylight Saving Time:\\n                                    gsm_a.dtap.elem_id: 'Element ID: 0x49'\\n                                    gsm_a.len: 'Length: 1'\\n                                    gsm_a.spare_bits: '0000 00.. = Spare bit(s): 0'\\n                                    gsm_a.dtap.dst_adjustment: '.... ..01 = DST Adjustment: +1 hour adjustment for Daylight Saving Time (1)'\\n\", timestamp=1712213808.223966, timestamp_offsett=10.156444787979126), PacketDescription(ip_src='192.168.56.100', ip_dst='192.168.56.120', frame_number='27', protocols_str='NGAP', msg_description=\"NGAP-PDU: 001d0080ae000004000a00020004005500020001004a00808c004001567e024fe79c07037e00680100472e0101c211000901000631310101ff010603f42403f4242905010a2d00022201017900060120410101097b000f80000d0408080808000d0408080404250908696e7465726e6574120100202f0000040082000a0c3b9aca00303b9aca00008b000a01f0c0a8386400006d1b00860001000088000700010000091c40006e400a0c3b9aca00303b9aca00\\nngap.procedureCode: 'procedureCode: id-PDUSessionResourceSetup (29)'\\nper.enum_index: 'Enumerated Index: 0'\\nngap.criticality: 'criticality: reject (0)'\\nper.open_type_length: 'Open Type Length: 174'\\nngap.value_element:\\n-   ngap.PDUSessionResourceSetupRequest_element:\\n        per.extension_bit: '0... .... Extension Bit: False'\\n        per.sequence_of_length: 'Sequence-Of Length: 4'\\n        ngap.protocolIEs:\\n            'Item 0: id-AMF-UE-NGAP-ID':\\n                ngap.id: 'id: id-AMF-UE-NGAP-ID (10)'\\n                per.enum_index: 'Enumerated Index: 0'\\n                ngap.criticality: 'criticality: reject (0)'\\n                per.open_type_length: 'Open Type Length: 2'\\n                ngap.value_element:\\n                    ngap.AMF_UE_NGAP_ID: 'AMF-UE-NGAP-ID: 4'\\n            'Item 1: id-RAN-UE-NGAP-ID':\\n                ngap.id: 'id: id-RAN-UE-NGAP-ID (85)'\\n                per.enum_index: 'Enumerated Index: 0'\\n                ngap.criticality: 'criticality: reject (0)'\\n                per.open_type_length: 'Open Type Length: 2'\\n                ngap.value_element:\\n                    ngap.RAN_UE_NGAP_ID: 'RAN-UE-NGAP-ID: 1'\\n            'Item 2: id-PDUSessionResourceSetupListSUReq':\\n                ngap.id: 'id: id-PDUSessionResourceSetupListSUReq (74)'\\n                per.enum_index: 'Enumerated Index: 0'\\n                ngap.criticality: 'criticality: reject (0)'\\n                per.open_type_length: 'Open Type Length: 140'\\n                ngap.value_element:\\n                    per.sequence_of_length: 'Sequence-Of Length: 1'\\n                    ngap.PDUSessionResourceSetupListSUReq:\\n                        Item 0:\\n                            ngap.PDUSessionResourceSetupItemSUReq_element:\\n                                per.extension_bit: '0... .... Extension Bit: False'\\n                                per.optional_field_bit: '.1.. .... Optional Field Bit: True (pDUSessionNAS-PDU is present)'\\n                                per.optional_field_bit (2): '..0. .... Optional Field Bit: False (iE-Extensions is NOT present)'\\n                                ngap.pDUSessionID: 'pDUSessionID: 1'\\n                                per.octet_string_length: 'Octet String Length: 86'\\n                                ngap.pDUSessionNAS_PDU:\\n                                    nas-5gs:\\n                                        Security protected NAS 5GS message:\\n                                            nas_5gs.epd: 'Extended protocol discriminator: 5G mobility management messages (126)'\\n                                            nas_5gs.spare_half_octet: '0000 .... = Spare Half Octet: 0'\\n                                            nas_5gs.security_header_type: '.... 0010 = Security header type: Integrity protected and ciphered (2)'\\n                                            nas_5gs.msg_auth_code: 'Message authentication code: 0x4fe79c07'\\n                                            nas_5gs.seq_no: 'Sequence number: 3'\\n                                        Plain NAS 5GS Message:\\n                                            nas_5gs.epd: 'Extended protocol discriminator: 5G mobility management messages (126)'\\n                                            nas_5gs.spare_half_octet: '0000 .... = Spare Half Octet: 0'\\n                                            nas_5gs.security_header_type: '.... 0000 = Security header type: Plain NAS message, not security protected (0)'\\n                                            nas_5gs.mm.message_type: 'Message type: DL NAS transport (0x68)'\\n                                            nas_5gs.spare_half_octet (2): '0000 .... = Spare Half Octet: 0'\\n                                            Payload container type:\\n                                                nas_5gs.mm.pld_cont_type: '.... 0001 = Payload container type: N1 SM information (1)'\\n                                            Payload container:\\n                                                gsm_a.len: 'Length: 71'\\n                                                Plain NAS 5GS Message:\\n                                                    nas_5gs.epd: 'Extended protocol discriminator: 5G session management messages (46)'\\n                                                    nas_5gs.pdu_session_id: 'PDU session identity: PDU session identity value 1 (1)'\\n                                                    nas_5gs.proc_trans_id: 'Procedure transaction identity: 1'\\n                                                    nas_5gs.sm.message_type: 'Message type: PDU session establishment accept (0xc2)'\\n                                                    nas_5gs.sm.sel_sc_mode: '.001 .... = Selected SSC mode: SSC mode 1 (1)'\\n                                                    PDU session type - Selected PDU session type:\\n                                                        nas_5gs.sm.pdu_session_type: '.... .001 = PDU session type: IPv4 (1)'\\n                                                    QoS rules - Authorized QoS rules:\\n                                                        gsm_a.len: 'Length: 9'\\n                                                        QoS rule 1:\\n                                                            nas_5gs.sm.qos_rule_id: 'QoS rule identifier: 1'\\n                                                            nas_5gs.sm.length: 'Length: 6'\\n                                                            nas_5gs.sm.rop: '001. .... = Rule operation code: Create new QoS rule (1)'\\n                                                            nas_5gs.sm.dqr: '...1 .... = DQR: The QoS rule is the default QoS rule'\\n                                                            nas_5gs.sm.nof_pkt_filters: '.... 0001 = Number of packet filters: 1'\\n                                                            Packet filter 1:\\n                                                                nas_5gs.sm.pkt_flt_dir: '..11 .... = Packet filter direction: Bidirectional (3)'\\n                                                                nas_5gs.sm.pkt_flt_id: '.... 0001 = Packet filter identifier: 1'\\n                                                                nas_5gs.sm.pf_len: 'Length: 1'\\n                                                                Packet filter component 1:\\n                                                                    nas_5gs.sm.pf_type: 'Packet filter component type: Match-all type (1)'\\n                                                            nas_5gs.sm.qos_rule_precedence: 'QoS rule precedence: 255'\\n                                                            nas_5gs.spare_b7: '0... .... = Spare: 0'\\n                                                            nas_5gs.spare_b6: '.0.. .... = Spare: 0'\\n                                                            nas_5gs.sm.qfi: '..00 0001 = Qos flow identifier: 1'\\n                                                    Session-AMBR:\\n                                                        gsm_a.len: 'Length: 6'\\n                                                        nas_5gs.sm.unit_for_session_ambr_dl: 'Unit for Session-AMBR for downlink: value is incremented in multiples of 16 Kbps (3)'\\n                                                        nas_5gs.sm.session_ambr_dl: 'Session-AMBR for downlink: 1000000 Kbps (62500)'\\n                                                        nas_5gs.sm.unit_for_session_ambr_ul: 'Unit for Session-AMBR for uplink: value is incremented in multiples of 16 Kbps (3)'\\n                                                        nas_5gs.sm.session_ambr_ul: 'Session-AMBR for uplink: 1000000 Kbps (62500)'\\n                                                    PDU address:\\n                                                        nas_5gs.sm.elem_id: 'Element ID: 0x29'\\n                                                        gsm_a.len: 'Length: 5'\\n                                                        nas_5gs.sm.si6lla: '.... 0... = SMF''s IPv6 link local address (SI6LLA): Absent'\\n                                                        nas_5gs.sm.pdu_ses_type: '.... .001 = PDU session type: IPv4 (1)'\\n                                                        nas_5gs.sm.pdu_addr_inf_ipv4: 'PDU address information: 10.45.0.2'\\n                                                    S-NSSAI:\\n                                                        nas_5gs.common.elem_id: 'Element ID: 0x22'\\n                                                        gsm_a.len: 'Length: 1'\\n                                                        nas_5gs.mm.sst: 'Slice/service type (SST): eMBB (1)'\\n                                                    QoS flow descriptions - Authorized:\\n                                                        nas_5gs.sm.elem_id: 'Element ID: 0x79'\\n                                                        gsm_a.len: 'Length: 6'\\n                                                        QoS flow description 1 - 5QI:\\n                                                            nas_5gs.sm.qfi: '..00 0001 = Qos flow identifier: 1'\\n                                                            nas_5gs.sm.hf_nas_5gs_sm_qos_des_flow_opt_code: '001. .... = Operation code: Create new QoS flow description (1)'\\n                                                            nas_5gs.sm.e: '.1.. .... = E bit: 1'\\n                                                            nas_5gs.sm.nof_params: '..00 0001 = Number of parameters: 1'\\n                                                            Parameter 1:\\n                                                                nas_5gs.sm.param_id: 'Parameter identifier: 5QI (1)'\\n                                                                nas_5gs.sm.param_len: 'Length: 1'\\n                                                                nas_5gs.sm.5qi: '5QI: 9'\\n                                                    Extended protocol configuration options:\\n                                                        nas_eps.esm.elem_id: 'Element ID: 0x7b'\\n                                                        gsm_a.len: 'Length: 15'\\n                                                        gsm_a.gm.sm.link_dir: 'Link direction: Network to MS (1)'\\n                                                        gsm_a.gm.sm.ext: '1... .... = Extension: True'\\n                                                        gsm_a.gm.configuration_protocol: '.... .000 = Configuration Protocol: PPP for use with IP PDP type or IP PDN type (0)'\\n                                                        gsm_a.gm.sm.pco_pid:\\n                                                            gsm_a.gm.sm.pco.length: 'Length: 0x04 (4)'\\n                                                            gsm_a.gm.sm.pco.dns.ipv4: 'IPv4: 8.8.8.8'\\n                                                        gsm_a.gm.sm.pco_pid (2):\\n                                                            gsm_a.gm.sm.pco.length: 'Length: 0x04 (4)'\\n                                                            gsm_a.gm.sm.pco.dns.ipv4: 'IPv4: 8.8.4.4'\\n                                                    DNN:\\n                                                        nas_5gs.common.elem_id: 'Element ID: 0x25'\\n                                                        gsm_a.len: 'Length: 9'\\n                                                        nas_5gs.cmn.dnn: 'DNN: internet'\\n                                            PDU session identity 2 - PDU session ID:\\n                                                nas_5gs.mm.elem_id: 'Element ID: 0x12'\\n                                                nas_5gs.pdu_session_id: 'PDU session identity: PDU session identity value 1 (1)'\\n                                ngap.s_NSSAI_element:\\n                                    per.extension_bit: '0... .... Extension Bit: False'\\n                                    per.optional_field_bit: '.0.. .... Optional Field Bit: False (sD is NOT present)'\\n                                    per.optional_field_bit (2): '..0. .... Optional Field Bit: False (iE-Extensions is NOT present)'\\n                                    ngap.sST: 'sST: 01'\\n                                per.octet_string_length (2): 'Octet String Length: 47'\\n                                ngap.pDUSessionResourceSetupRequestTransfer:\\n                                    ngap.PDUSessionResourceSetupRequestTransfer_element:\\n                                        per.extension_bit: '0... .... Extension Bit: False'\\n                                        per.sequence_of_length: 'Sequence-Of Length: 4'\\n                                        ngap.protocolIEs:\\n                                            'Item 0: id-PDUSessionAggregateMaximumBitRate':\\n                                                ngap.id: 'id: id-PDUSessionAggregateMaximumBitRate (130)'\\n                                                per.enum_index: 'Enumerated Index: 0'\\n                                                ngap.criticality: 'criticality: reject (0)'\\n                                                per.open_type_length: 'Open Type Length: 10'\\n                                                ngap.value_element:\\n                                                    ngap.PDUSessionAggregateMaximumBitRate_element:\\n                                                        per.extension_bit: '0... .... Extension Bit: False'\\n                                                        per.optional_field_bit: '.0.. .... Optional Field Bit: False (iE-Extensions is NOT present)'\\n                                                        per.extension_present_bit: '..0. .... Extension Present Bit: False'\\n                                                        ngap.pDUSessionAggregateMaximumBitRateDL: 'pDUSessionAggregateMaximumBitRateDL: 1000000000bits/s'\\n                                                        per.extension_present_bit (2): '0... .... Extension Present Bit: False'\\n                                                        ngap.pDUSessionAggregateMaximumBitRateUL: 'pDUSessionAggregateMaximumBitRateUL: 1000000000bits/s'\\n                                            'Item 1: id-UL-NGU-UP-TNLInformation':\\n                                                ngap.id: 'id: id-UL-NGU-UP-TNLInformation (139)'\\n                                                per.enum_index: 'Enumerated Index: 0'\\n                                                ngap.criticality: 'criticality: reject (0)'\\n                                                per.open_type_length: 'Open Type Length: 10'\\n                                                ngap.value_element:\\n                                                    per.choice_index: 'Choice Index: 0'\\n                                                    ngap.UPTransportLayerInformation:\\n                                                        ngap.gTPTunnel_element:\\n                                                            per.extension_bit: '.0.. .... Extension Bit: False'\\n                                                            per.optional_field_bit: '..0. .... Optional Field Bit: False (iE-Extensions is NOT present)'\\n                                                            per.extension_present_bit: '...0 .... Extension Present Bit: False'\\n                                                            per.bit_string_length: 'Bit String Length: 32'\\n                                                            ngap.transportLayerAddress:\\n                                                                ngap.TransportLayerAddressIPv4: 'TransportLayerAddress (IPv4): 192.168.56.100'\\n                                                            ngap.gTP_TEID: 'gTP-TEID: 00006d1b'\\n                                            'Item 2: id-PDUSessionType':\\n                                                ngap.id: 'id: id-PDUSessionType (134)'\\n                                                per.enum_index: 'Enumerated Index: 0'\\n                                                ngap.criticality: 'criticality: reject (0)'\\n                                                per.open_type_length: 'Open Type Length: 1'\\n                                                ngap.value_element:\\n                                                    per.extension_present_bit: '0... .... Extension Present Bit: False'\\n                                                    per.enum_index: 'Enumerated Index: 0'\\n                                                    ngap.PDUSessionType: 'PDUSessionType: ipv4 (0)'\\n                                            'Item 3: id-QosFlowSetupRequestList':\\n                                                ngap.id: 'id: id-QosFlowSetupRequestList (136)'\\n                                                per.enum_index: 'Enumerated Index: 0'\\n                                                ngap.criticality: 'criticality: reject (0)'\\n                                                per.open_type_length: 'Open Type Length: 7'\\n                                                ngap.value_element:\\n                                                    per.sequence_of_length: 'Sequence-Of Length: 1'\\n                                                    ngap.QosFlowSetupRequestList:\\n                                                        Item 0:\\n                                                            ngap.QosFlowSetupRequestItem_element:\\n                                                                per.extension_bit: '.... ..0. Extension Bit: False'\\n                                                                per.optional_field_bit: '.... ...0 Optional Field Bit: False (e-RAB-ID is NOT present)'\\n                                                                per.optional_field_bit (2): '0... .... Optional Field Bit: False (iE-Extensions is NOT present)'\\n                                                                per.extension_present_bit: '.0.. .... Extension Present Bit: False'\\n                                                                ngap.qosFlowIdentifier: 'qosFlowIdentifier: 1'\\n                                                                ngap.qosFlowLevelQosParameters_element:\\n                                                                    per.extension_bit: '0... .... Extension Bit: False'\\n                                                                    per.optional_field_bit: '.0.. .... Optional Field Bit: False (gBR-QosInformation is NOT present)'\\n                                                                    per.optional_field_bit (2): '..0. .... Optional Field Bit: False (reflectiveQosAttribute is NOT present)'\\n                                                                    per.optional_field_bit (3): '...0 .... Optional Field Bit: False (additionalQosFlowInformation is NOT present)'\\n                                                                    per.optional_field_bit (4): '.... 0... Optional Field Bit: False (iE-Extensions is NOT present)'\\n                                                                    per.choice_index: 'Choice Index: 0'\\n                                                                    ngap.qosCharacteristics:\\n                                                                        ngap.nonDynamic5QI_element:\\n                                                                            per.extension_bit: '.... ...0 Extension Bit: False'\\n                                                                            per.optional_field_bit: '0... .... Optional Field Bit: False (priorityLevelQos is NOT present)'\\n                                                                            per.optional_field_bit (2): '.0.. .... Optional Field Bit: False (averagingWindow is NOT present)'\\n                                                                            per.optional_field_bit (3): '..0. .... Optional Field Bit: False (maximumDataBurstVolume is NOT present)'\\n                                                                            per.optional_field_bit (4): '...0 .... Optional Field Bit: False (iE-Extensions is NOT present)'\\n                                                                            per.extension_present_bit: '.... 0... Extension Present Bit: False'\\n                                                                            ngap.fiveQI: 'fiveQI: 9'\\n                                                                    ngap.allocationAndRetentionPriority_element:\\n                                                                        per.extension_bit: '0... .... Extension Bit: False'\\n                                                                        per.optional_field_bit: '.0.. .... Optional Field Bit: False (iE-Extensions is NOT present)'\\n                                                                        ngap.priorityLevelARP: 'priorityLevelARP: 8'\\n                                                                        per.extension_present_bit: '.... ..0. Extension Present Bit: False'\\n                                                                        per.enum_index: 'Enumerated Index: 0'\\n                                                                        ngap.pre_emptionCapability: 'pre-emptionCapability: shall-not-trigger-pre-emption (0)'\\n                                                                        per.extension_present_bit (2): '0... .... Extension Present Bit: False'\\n                                                                        per.enum_index (2): 'Enumerated Index: 1'\\n                                                                        ngap.pre_emptionVulnerability: 'pre-emptionVulnerability: pre-emptable (1)'\\n            'Item 3: id-UEAggregateMaximumBitRate':\\n                ngap.id: 'id: id-UEAggregateMaximumBitRate (110)'\\n                per.enum_index: 'Enumerated Index: 1'\\n                ngap.criticality: 'criticality: ignore (1)'\\n                per.open_type_length: 'Open Type Length: 10'\\n                ngap.value_element:\\n                    ngap.UEAggregateMaximumBitRate_element:\\n                        per.extension_bit: '0... .... Extension Bit: False'\\n                        per.optional_field_bit: '.0.. .... Optional Field Bit: False (iE-Extensions is NOT present)'\\n                        per.extension_present_bit: '..0. .... Extension Present Bit: False'\\n                        ngap.uEAggregateMaximumBitRateDL: 'uEAggregateMaximumBitRateDL: 1000000000bits/s'\\n                        per.extension_present_bit (2): '0... .... Extension Present Bit: False'\\n                        ngap.uEAggregateMaximumBitRateUL: 'uEAggregateMaximumBitRateUL: 1000000000bits/s'\\n\", timestamp=1712213808.254282, timestamp_offsett=10.186760902404785), PacketDescription(ip_src='192.168.56.120', ip_dst='192.168.56.100', frame_number='29', protocols_str='NGAP', msg_description=\"NGAP-PDU: 201d0024000003000a40020004005540020001004b40110000010d0003e0c0a83878000000010001\\nngap.procedureCode: 'procedureCode: id-PDUSessionResourceSetup (29)'\\nper.enum_index: 'Enumerated Index: 0'\\nngap.criticality: 'criticality: reject (0)'\\nper.open_type_length: 'Open Type Length: 36'\\nngap.value_element:\\n-   ngap.PDUSessionResourceSetupResponse_element:\\n        per.extension_bit: '0... .... Extension Bit: False'\\n        per.sequence_of_length: 'Sequence-Of Length: 3'\\n        ngap.protocolIEs:\\n            'Item 0: id-AMF-UE-NGAP-ID':\\n                ngap.id: 'id: id-AMF-UE-NGAP-ID (10)'\\n                per.enum_index: 'Enumerated Index: 1'\\n                ngap.criticality: 'criticality: ignore (1)'\\n                per.open_type_length: 'Open Type Length: 2'\\n                ngap.value_element:\\n                    ngap.AMF_UE_NGAP_ID: 'AMF-UE-NGAP-ID: 4'\\n            'Item 1: id-RAN-UE-NGAP-ID':\\n                ngap.id: 'id: id-RAN-UE-NGAP-ID (85)'\\n                per.enum_index: 'Enumerated Index: 1'\\n                ngap.criticality: 'criticality: ignore (1)'\\n                per.open_type_length: 'Open Type Length: 2'\\n                ngap.value_element:\\n                    ngap.RAN_UE_NGAP_ID: 'RAN-UE-NGAP-ID: 1'\\n            'Item 2: id-PDUSessionResourceSetupListSURes':\\n                ngap.id: 'id: id-PDUSessionResourceSetupListSURes (75)'\\n                per.enum_index: 'Enumerated Index: 1'\\n                ngap.criticality: 'criticality: ignore (1)'\\n                per.open_type_length: 'Open Type Length: 17'\\n                ngap.value_element:\\n                    per.sequence_of_length: 'Sequence-Of Length: 1'\\n                    ngap.PDUSessionResourceSetupListSURes:\\n                        Item 0:\\n                            ngap.PDUSessionResourceSetupItemSURes_element:\\n                                per.extension_bit: '0... .... Extension Bit: False'\\n                                per.optional_field_bit: '.0.. .... Optional Field Bit: False (iE-Extensions is NOT present)'\\n                                ngap.pDUSessionID: 'pDUSessionID: 1'\\n                                per.octet_string_length: 'Octet String Length: 13'\\n                                ngap.pDUSessionResourceSetupResponseTransfer:\\n                                    ngap.PDUSessionResourceSetupResponseTransfer_element:\\n                                        per.extension_bit: '0... .... Extension Bit: False'\\n                                        per.optional_field_bit: '.0.. .... Optional Field Bit: False (additionalDLQosFlowPerTNLInformation is NOT present)'\\n                                        per.optional_field_bit (2): '..0. .... Optional Field Bit: False (securityResult is NOT present)'\\n                                        per.optional_field_bit (3): '...0 .... Optional Field Bit: False (qosFlowFailedToSetupList is NOT present)'\\n                                        per.optional_field_bit (4): '.... 0... Optional Field Bit: False (iE-Extensions is NOT present)'\\n                                        ngap.dLQosFlowPerTNLInformation_element:\\n                                            per.extension_bit: '.... .0.. Extension Bit: False'\\n                                            per.optional_field_bit: '.... ..0. Optional Field Bit: False (iE-Extensions is NOT present)'\\n                                            per.choice_index: 'Choice Index: 0'\\n                                            ngap.uPTransportLayerInformation:\\n                                                ngap.gTPTunnel_element:\\n                                                    per.extension_bit: '0... .... Extension Bit: False'\\n                                                    per.optional_field_bit: '.0.. .... Optional Field Bit: False (iE-Extensions is NOT present)'\\n                                                    per.extension_present_bit: '..0. .... Extension Present Bit: False'\\n                                                    per.bit_string_length: 'Bit String Length: 32'\\n                                                    ngap.transportLayerAddress:\\n                                                        ngap.TransportLayerAddressIPv4: 'TransportLayerAddress (IPv4): 192.168.56.120'\\n                                                    ngap.gTP_TEID: 'gTP-TEID: 00000001'\\n                                            per.sequence_of_length: 'Sequence-Of Length: 1'\\n                                            ngap.associatedQosFlowList:\\n                                                Item 0:\\n                                                    ngap.AssociatedQosFlowItem_element:\\n                                                        per.extension_bit: '.... ..0. Extension Bit: False'\\n                                                        per.optional_field_bit: '.... ...0 Optional Field Bit: False (qosFlowMappingIndication is NOT present)'\\n                                                        per.optional_field_bit (2): '0... .... Optional Field Bit: False (iE-Extensions is NOT present)'\\n                                                        per.extension_present_bit: '.0.. .... Extension Present Bit: False'\\n                                                        ngap.qosFlowIdentifier: 'qosFlowIdentifier: 1'\\n\", timestamp=1712213808.258235, timestamp_offsett=10.190713882446289)]\n",
      "            ip_src          ip_dst frame_number protocol  \\\n",
      "0   192.168.56.120  192.168.56.100            5     NGAP   \n",
      "1   192.168.56.100  192.168.56.120            7     NGAP   \n",
      "2   192.168.56.120  192.168.56.100           15     NGAP   \n",
      "3   192.168.56.100  192.168.56.120           16     NGAP   \n",
      "4   192.168.56.120  192.168.56.100           17     NGAP   \n",
      "5   192.168.56.100  192.168.56.120           18     NGAP   \n",
      "6   192.168.56.120  192.168.56.100           19     NGAP   \n",
      "7   192.168.56.100  192.168.56.120           20     NGAP   \n",
      "8   192.168.56.120  192.168.56.100           21     NGAP   \n",
      "9   192.168.56.100  192.168.56.120           22     NGAP   \n",
      "10  192.168.56.120  192.168.56.100           23     NGAP   \n",
      "11  192.168.56.120  192.168.56.100           25     NGAP   \n",
      "12  192.168.56.100  192.168.56.120           26     NGAP   \n",
      "13  192.168.56.100  192.168.56.120           27     NGAP   \n",
      "14  192.168.56.120  192.168.56.100           29     NGAP   \n",
      "\n",
      "                                      msg_description     timestamp  \\\n",
      "0   NGAP-PDU: 00150041000004001b00090099f907500000...  1.712214e+09   \n",
      "1   NGAP-PDU: 201500320000040001000e05806f70656e35...  1.712214e+09   \n",
      "2   NGAP-PDU: 000f40480000050055000200010026001a19...  1.712214e+09   \n",
      "3   NGAP-PDU: 0004403e000003000a000200040055000200...  1.712214e+09   \n",
      "4   NGAP-PDU: 002e403f000004000a000200040055000200...  1.712214e+09   \n",
      "5   NGAP-PDU: 0004403e000003000a000200040055000200...  1.712214e+09   \n",
      "6   NGAP-PDU: 002e4040000004000a000200040055000200...  1.712214e+09   \n",
      "7   NGAP-PDU: 00044029000003000a000200040055000200...  1.712214e+09   \n",
      "8   NGAP-PDU: 002e4067000004000a000200040055000200...  1.712214e+09   \n",
      "9   NGAP-PDU: 000e008090000008000a0002000400550002...  1.712214e+09   \n",
      "10  NGAP-PDU: 200e000f000002000a400200040055400200...  1.712214e+09   \n",
      "11  NGAP-PDU: 002e4035000004000a000200040055000200...  1.712214e+09   \n",
      "12  NGAP-PDU: 00044047000003000a000200040055000200...  1.712214e+09   \n",
      "13  NGAP-PDU: 001d0080ae000004000a0002000400550002...  1.712214e+09   \n",
      "14  NGAP-PDU: 201d0024000003000a400200040055400200...  1.712214e+09   \n",
      "\n",
      "    timestamp_offset  \n",
      "0           0.000000  \n",
      "1           0.003646  \n",
      "2           9.898889  \n",
      "3           9.923017  \n",
      "4           9.923994  \n",
      "5           9.927805  \n",
      "6           9.928484  \n",
      "7           9.932317  \n",
      "8           9.933174  \n",
      "9           9.946666  \n",
      "10          9.947031  \n",
      "11         10.155193  \n",
      "12         10.156445  \n",
      "13         10.186761  \n",
      "14         10.190714  \n",
      "line 67\n"
     ]
    }
   ],
   "source": [
    "# DEBUG loggig level for big traces so that you can see if processing is stuck or not\n",
    "packets_df = trace_plotting.import_pcap_as_dataframe(\n",
    "    wireshark_traces, \n",
    "    http2_ports = \"32445,5002,5000,32665,80,32077,5006,8080,3000,8081\",\n",
    "    wireshark_version = '4.2.3',\n",
    "    logging_level=logging.INFO)"
   ]
  },
  {
   "cell_type": "code",
   "execution_count": 4,
   "metadata": {},
   "outputs": [
    {
     "name": "stdout",
     "output_type": "stream",
     "text": [
      "            ip_src          ip_dst frame_number protocol  \\\n",
      "0   192.168.56.120  192.168.56.100            5     NGAP   \n",
      "1   192.168.56.100  192.168.56.120            7     NGAP   \n",
      "2   192.168.56.120  192.168.56.100           15     NGAP   \n",
      "3   192.168.56.100  192.168.56.120           16     NGAP   \n",
      "4   192.168.56.120  192.168.56.100           17     NGAP   \n",
      "5   192.168.56.100  192.168.56.120           18     NGAP   \n",
      "6   192.168.56.120  192.168.56.100           19     NGAP   \n",
      "7   192.168.56.100  192.168.56.120           20     NGAP   \n",
      "8   192.168.56.120  192.168.56.100           21     NGAP   \n",
      "9   192.168.56.100  192.168.56.120           22     NGAP   \n",
      "10  192.168.56.120  192.168.56.100           23     NGAP   \n",
      "11  192.168.56.120  192.168.56.100           25     NGAP   \n",
      "12  192.168.56.100  192.168.56.120           26     NGAP   \n",
      "13  192.168.56.100  192.168.56.120           27     NGAP   \n",
      "14  192.168.56.120  192.168.56.100           29     NGAP   \n",
      "\n",
      "                                      msg_description     timestamp  \\\n",
      "0   NGAP-PDU: 00150041000004001b00090099f907500000...  1.712214e+09   \n",
      "1   NGAP-PDU: 201500320000040001000e05806f70656e35...  1.712214e+09   \n",
      "2   NGAP-PDU: 000f40480000050055000200010026001a19...  1.712214e+09   \n",
      "3   NGAP-PDU: 0004403e000003000a000200040055000200...  1.712214e+09   \n",
      "4   NGAP-PDU: 002e403f000004000a000200040055000200...  1.712214e+09   \n",
      "5   NGAP-PDU: 0004403e000003000a000200040055000200...  1.712214e+09   \n",
      "6   NGAP-PDU: 002e4040000004000a000200040055000200...  1.712214e+09   \n",
      "7   NGAP-PDU: 00044029000003000a000200040055000200...  1.712214e+09   \n",
      "8   NGAP-PDU: 002e4067000004000a000200040055000200...  1.712214e+09   \n",
      "9   NGAP-PDU: 000e008090000008000a0002000400550002...  1.712214e+09   \n",
      "10  NGAP-PDU: 200e000f000002000a400200040055400200...  1.712214e+09   \n",
      "11  NGAP-PDU: 002e4035000004000a000200040055000200...  1.712214e+09   \n",
      "12  NGAP-PDU: 00044047000003000a000200040055000200...  1.712214e+09   \n",
      "13  NGAP-PDU: 001d0080ae000004000a0002000400550002...  1.712214e+09   \n",
      "14  NGAP-PDU: 201d0024000003000a400200040055400200...  1.712214e+09   \n",
      "\n",
      "    timestamp_offset                      datetime  \\\n",
      "0           0.000000 2024-04-04 06:56:38.067521024   \n",
      "1           0.003646 2024-04-04 06:56:38.071166976   \n",
      "2           9.898889 2024-04-04 06:56:47.966409984   \n",
      "3           9.923017 2024-04-04 06:56:47.990537984   \n",
      "4           9.923994 2024-04-04 06:56:47.991514880   \n",
      "5           9.927805 2024-04-04 06:56:47.995325952   \n",
      "6           9.928484 2024-04-04 06:56:47.996005120   \n",
      "7           9.932317 2024-04-04 06:56:47.999838208   \n",
      "8           9.933174 2024-04-04 06:56:48.000695040   \n",
      "9           9.946666 2024-04-04 06:56:48.014187008   \n",
      "10          9.947031 2024-04-04 06:56:48.014552064   \n",
      "11         10.155193 2024-04-04 06:56:48.222713856   \n",
      "12         10.156445 2024-04-04 06:56:48.223965952   \n",
      "13         10.186761 2024-04-04 06:56:48.254281984   \n",
      "14         10.190714 2024-04-04 06:56:48.258234880   \n",
      "\n",
      "                                          summary_raw  \\\n",
      "0                                   NGAP NGSetup (21)   \n",
      "1                                   NGAP NGSetup (21)   \n",
      "2   NGAP InitialUEMessage (15),\\nNAS Registration ...   \n",
      "3   NGAP DownlinkNASTransport (4),\\nNAS Authentica...   \n",
      "4   NGAP UplinkNASTransport (46),\\nNAS Authenticat...   \n",
      "5   NGAP DownlinkNASTransport (4),\\nNAS Authentica...   \n",
      "6   NGAP UplinkNASTransport (46),\\nNAS Authenticat...   \n",
      "7   NGAP DownlinkNASTransport (4),\\nNAS Security m...   \n",
      "8   NGAP UplinkNASTransport (46),\\nNAS Security mo...   \n",
      "9   NGAP InitialContextSetup (14),\\nNAS Registrati...   \n",
      "10                      NGAP InitialContextSetup (14)   \n",
      "11  NGAP UplinkNASTransport (46),\\nNAS Registratio...   \n",
      "12  NGAP DownlinkNASTransport (4),\\nNAS Configurat...   \n",
      "13  NGAP PDUSessionResourceSetup (29),\\nNAS DL NAS...   \n",
      "14                  NGAP PDUSessionResourceSetup (29)   \n",
      "\n",
      "                                         summary  \\\n",
      "0                               NAS NGSetup (21)   \n",
      "1                               NAS NGSetup (21)   \n",
      "2                NAS Registration request (0x41)   \n",
      "3              NAS Authentication request (0x56)   \n",
      "4              NAS Authentication failure (0x59)   \n",
      "5              NAS Authentication request (0x56)   \n",
      "6             NAS Authentication response (0x57)   \n",
      "7               NAS Security mode command (0x5d)   \n",
      "8                NAS Registration request (0x41)   \n",
      "9                 NAS Registration accept (0x42)   \n",
      "10                  NAS InitialContextSetup (14)   \n",
      "11  NAS PDU session establishment request (0xc1)   \n",
      "12       NAS Configuration update command (0x54)   \n",
      "13   NAS PDU session establishment accept (0xc2)   \n",
      "14              NAS PDUSessionResourceSetup (29)   \n",
      "\n",
      "                                         file  file_idx  \n",
      "0   collected/one-reg-open5gs-ueransim.pcapng         0  \n",
      "1   collected/one-reg-open5gs-ueransim.pcapng         0  \n",
      "2   collected/one-reg-open5gs-ueransim.pcapng         0  \n",
      "3   collected/one-reg-open5gs-ueransim.pcapng         0  \n",
      "4   collected/one-reg-open5gs-ueransim.pcapng         0  \n",
      "5   collected/one-reg-open5gs-ueransim.pcapng         0  \n",
      "6   collected/one-reg-open5gs-ueransim.pcapng         0  \n",
      "7   collected/one-reg-open5gs-ueransim.pcapng         0  \n",
      "8   collected/one-reg-open5gs-ueransim.pcapng         0  \n",
      "9   collected/one-reg-open5gs-ueransim.pcapng         0  \n",
      "10  collected/one-reg-open5gs-ueransim.pcapng         0  \n",
      "11  collected/one-reg-open5gs-ueransim.pcapng         0  \n",
      "12  collected/one-reg-open5gs-ueransim.pcapng         0  \n",
      "13  collected/one-reg-open5gs-ueransim.pcapng         0  \n",
      "14  collected/one-reg-open5gs-ueransim.pcapng         0  \n"
     ]
    }
   ],
   "source": [
    "print(packets_df)"
   ]
  },
  {
   "cell_type": "code",
   "execution_count": 5,
   "metadata": {},
   "outputs": [],
   "source": [
    "plot_data = trace_plotting.generate_scatterplots_for_wireshark_traces(packets_df, filter_column='file')[0]"
   ]
  },
  {
   "cell_type": "code",
   "execution_count": 7,
   "metadata": {},
   "outputs": [
    {
     "data": {
      "application/vnd.plotly.v1+json": {
       "config": {
        "plotlyServerURL": "https://plot.ly"
       },
       "data": [
        {
         "hovertemplate": "%{text}, %{y}<extra></extra>",
         "line": {
          "color": "gray"
         },
         "mode": "markers",
         "name": "collected/one-reg-open5gs-ueransim.pcapng",
         "opacity": 1,
         "showlegend": true,
         "text": [
          "Frame 17, 06:56:47.991514",
          "Frame 16, 06:56:47.990537",
          "Frame 18, 06:56:47.995325",
          "Frame 19, 06:56:47.996005",
          "Frame 26, 06:56:48.223965",
          "Frame 23, 06:56:48.014552",
          "Frame 5, 06:56:38.067521",
          "Frame 7, 06:56:38.071166",
          "Frame 27, 06:56:48.254281",
          "Frame 25, 06:56:48.222713",
          "Frame 29, 06:56:48.258234",
          "Frame 22, 06:56:48.014187",
          "Frame 15, 06:56:47.966409",
          "Frame 21, 06:56:48.000695",
          "Frame 20, 06:56:47.999838"
         ],
         "type": "scatter",
         "x": [
          "2024-04-04T06:56:47.991514",
          "2024-04-04T06:56:47.990537",
          "2024-04-04T06:56:47.995325",
          "2024-04-04T06:56:47.996005",
          "2024-04-04T06:56:48.223965",
          "2024-04-04T06:56:48.014552",
          "2024-04-04T06:56:38.067521",
          "2024-04-04T06:56:38.071166",
          "2024-04-04T06:56:48.254281",
          "2024-04-04T06:56:48.222713",
          "2024-04-04T06:56:48.258234",
          "2024-04-04T06:56:48.014187",
          "2024-04-04T06:56:47.966409",
          "2024-04-04T06:56:48.000695",
          "2024-04-04T06:56:47.999838"
         ],
         "y": [
          "NAS Authentication failure (0x59)",
          "NAS Authentication request (0x56)",
          "NAS Authentication request (0x56)",
          "NAS Authentication response (0x57)",
          "NAS Configuration update command (0x54)",
          "NAS InitialContextSetup (14)",
          "NAS NGSetup (21)",
          "NAS NGSetup (21)",
          "NAS PDU session establishment accept (0xc2)",
          "NAS PDU session establishment request (0xc1)",
          "NAS PDUSessionResourceSetup (29)",
          "NAS Registration accept (0x42)",
          "NAS Registration request (0x41)",
          "NAS Registration request (0x41)",
          "NAS Security mode command (0x5d)"
         ]
        }
       ],
       "layout": {
        "shapes": [
         {
          "fillcolor": "#8cd98c",
          "line": {
           "width": 0
          },
          "opacity": 0.3,
          "type": "rect",
          "x0": 0,
          "x1": 1,
          "xref": "paper",
          "y0": "NAS Authentication failure (0x59)",
          "y1": "NAS Security mode command (0x5d)",
          "yref": "y"
         }
        ],
        "template": {
         "data": {
          "bar": [
           {
            "error_x": {
             "color": "#2a3f5f"
            },
            "error_y": {
             "color": "#2a3f5f"
            },
            "marker": {
             "line": {
              "color": "#E5ECF6",
              "width": 0.5
             },
             "pattern": {
              "fillmode": "overlay",
              "size": 10,
              "solidity": 0.2
             }
            },
            "type": "bar"
           }
          ],
          "barpolar": [
           {
            "marker": {
             "line": {
              "color": "#E5ECF6",
              "width": 0.5
             },
             "pattern": {
              "fillmode": "overlay",
              "size": 10,
              "solidity": 0.2
             }
            },
            "type": "barpolar"
           }
          ],
          "carpet": [
           {
            "aaxis": {
             "endlinecolor": "#2a3f5f",
             "gridcolor": "white",
             "linecolor": "white",
             "minorgridcolor": "white",
             "startlinecolor": "#2a3f5f"
            },
            "baxis": {
             "endlinecolor": "#2a3f5f",
             "gridcolor": "white",
             "linecolor": "white",
             "minorgridcolor": "white",
             "startlinecolor": "#2a3f5f"
            },
            "type": "carpet"
           }
          ],
          "choropleth": [
           {
            "colorbar": {
             "outlinewidth": 0,
             "ticks": ""
            },
            "type": "choropleth"
           }
          ],
          "contour": [
           {
            "colorbar": {
             "outlinewidth": 0,
             "ticks": ""
            },
            "colorscale": [
             [
              0,
              "#0d0887"
             ],
             [
              0.1111111111111111,
              "#46039f"
             ],
             [
              0.2222222222222222,
              "#7201a8"
             ],
             [
              0.3333333333333333,
              "#9c179e"
             ],
             [
              0.4444444444444444,
              "#bd3786"
             ],
             [
              0.5555555555555556,
              "#d8576b"
             ],
             [
              0.6666666666666666,
              "#ed7953"
             ],
             [
              0.7777777777777778,
              "#fb9f3a"
             ],
             [
              0.8888888888888888,
              "#fdca26"
             ],
             [
              1,
              "#f0f921"
             ]
            ],
            "type": "contour"
           }
          ],
          "contourcarpet": [
           {
            "colorbar": {
             "outlinewidth": 0,
             "ticks": ""
            },
            "type": "contourcarpet"
           }
          ],
          "heatmap": [
           {
            "colorbar": {
             "outlinewidth": 0,
             "ticks": ""
            },
            "colorscale": [
             [
              0,
              "#0d0887"
             ],
             [
              0.1111111111111111,
              "#46039f"
             ],
             [
              0.2222222222222222,
              "#7201a8"
             ],
             [
              0.3333333333333333,
              "#9c179e"
             ],
             [
              0.4444444444444444,
              "#bd3786"
             ],
             [
              0.5555555555555556,
              "#d8576b"
             ],
             [
              0.6666666666666666,
              "#ed7953"
             ],
             [
              0.7777777777777778,
              "#fb9f3a"
             ],
             [
              0.8888888888888888,
              "#fdca26"
             ],
             [
              1,
              "#f0f921"
             ]
            ],
            "type": "heatmap"
           }
          ],
          "heatmapgl": [
           {
            "colorbar": {
             "outlinewidth": 0,
             "ticks": ""
            },
            "colorscale": [
             [
              0,
              "#0d0887"
             ],
             [
              0.1111111111111111,
              "#46039f"
             ],
             [
              0.2222222222222222,
              "#7201a8"
             ],
             [
              0.3333333333333333,
              "#9c179e"
             ],
             [
              0.4444444444444444,
              "#bd3786"
             ],
             [
              0.5555555555555556,
              "#d8576b"
             ],
             [
              0.6666666666666666,
              "#ed7953"
             ],
             [
              0.7777777777777778,
              "#fb9f3a"
             ],
             [
              0.8888888888888888,
              "#fdca26"
             ],
             [
              1,
              "#f0f921"
             ]
            ],
            "type": "heatmapgl"
           }
          ],
          "histogram": [
           {
            "marker": {
             "pattern": {
              "fillmode": "overlay",
              "size": 10,
              "solidity": 0.2
             }
            },
            "type": "histogram"
           }
          ],
          "histogram2d": [
           {
            "colorbar": {
             "outlinewidth": 0,
             "ticks": ""
            },
            "colorscale": [
             [
              0,
              "#0d0887"
             ],
             [
              0.1111111111111111,
              "#46039f"
             ],
             [
              0.2222222222222222,
              "#7201a8"
             ],
             [
              0.3333333333333333,
              "#9c179e"
             ],
             [
              0.4444444444444444,
              "#bd3786"
             ],
             [
              0.5555555555555556,
              "#d8576b"
             ],
             [
              0.6666666666666666,
              "#ed7953"
             ],
             [
              0.7777777777777778,
              "#fb9f3a"
             ],
             [
              0.8888888888888888,
              "#fdca26"
             ],
             [
              1,
              "#f0f921"
             ]
            ],
            "type": "histogram2d"
           }
          ],
          "histogram2dcontour": [
           {
            "colorbar": {
             "outlinewidth": 0,
             "ticks": ""
            },
            "colorscale": [
             [
              0,
              "#0d0887"
             ],
             [
              0.1111111111111111,
              "#46039f"
             ],
             [
              0.2222222222222222,
              "#7201a8"
             ],
             [
              0.3333333333333333,
              "#9c179e"
             ],
             [
              0.4444444444444444,
              "#bd3786"
             ],
             [
              0.5555555555555556,
              "#d8576b"
             ],
             [
              0.6666666666666666,
              "#ed7953"
             ],
             [
              0.7777777777777778,
              "#fb9f3a"
             ],
             [
              0.8888888888888888,
              "#fdca26"
             ],
             [
              1,
              "#f0f921"
             ]
            ],
            "type": "histogram2dcontour"
           }
          ],
          "mesh3d": [
           {
            "colorbar": {
             "outlinewidth": 0,
             "ticks": ""
            },
            "type": "mesh3d"
           }
          ],
          "parcoords": [
           {
            "line": {
             "colorbar": {
              "outlinewidth": 0,
              "ticks": ""
             }
            },
            "type": "parcoords"
           }
          ],
          "pie": [
           {
            "automargin": true,
            "type": "pie"
           }
          ],
          "scatter": [
           {
            "fillpattern": {
             "fillmode": "overlay",
             "size": 10,
             "solidity": 0.2
            },
            "type": "scatter"
           }
          ],
          "scatter3d": [
           {
            "line": {
             "colorbar": {
              "outlinewidth": 0,
              "ticks": ""
             }
            },
            "marker": {
             "colorbar": {
              "outlinewidth": 0,
              "ticks": ""
             }
            },
            "type": "scatter3d"
           }
          ],
          "scattercarpet": [
           {
            "marker": {
             "colorbar": {
              "outlinewidth": 0,
              "ticks": ""
             }
            },
            "type": "scattercarpet"
           }
          ],
          "scattergeo": [
           {
            "marker": {
             "colorbar": {
              "outlinewidth": 0,
              "ticks": ""
             }
            },
            "type": "scattergeo"
           }
          ],
          "scattergl": [
           {
            "marker": {
             "colorbar": {
              "outlinewidth": 0,
              "ticks": ""
             }
            },
            "type": "scattergl"
           }
          ],
          "scattermapbox": [
           {
            "marker": {
             "colorbar": {
              "outlinewidth": 0,
              "ticks": ""
             }
            },
            "type": "scattermapbox"
           }
          ],
          "scatterpolar": [
           {
            "marker": {
             "colorbar": {
              "outlinewidth": 0,
              "ticks": ""
             }
            },
            "type": "scatterpolar"
           }
          ],
          "scatterpolargl": [
           {
            "marker": {
             "colorbar": {
              "outlinewidth": 0,
              "ticks": ""
             }
            },
            "type": "scatterpolargl"
           }
          ],
          "scatterternary": [
           {
            "marker": {
             "colorbar": {
              "outlinewidth": 0,
              "ticks": ""
             }
            },
            "type": "scatterternary"
           }
          ],
          "surface": [
           {
            "colorbar": {
             "outlinewidth": 0,
             "ticks": ""
            },
            "colorscale": [
             [
              0,
              "#0d0887"
             ],
             [
              0.1111111111111111,
              "#46039f"
             ],
             [
              0.2222222222222222,
              "#7201a8"
             ],
             [
              0.3333333333333333,
              "#9c179e"
             ],
             [
              0.4444444444444444,
              "#bd3786"
             ],
             [
              0.5555555555555556,
              "#d8576b"
             ],
             [
              0.6666666666666666,
              "#ed7953"
             ],
             [
              0.7777777777777778,
              "#fb9f3a"
             ],
             [
              0.8888888888888888,
              "#fdca26"
             ],
             [
              1,
              "#f0f921"
             ]
            ],
            "type": "surface"
           }
          ],
          "table": [
           {
            "cells": {
             "fill": {
              "color": "#EBF0F8"
             },
             "line": {
              "color": "white"
             }
            },
            "header": {
             "fill": {
              "color": "#C8D4E3"
             },
             "line": {
              "color": "white"
             }
            },
            "type": "table"
           }
          ]
         },
         "layout": {
          "annotationdefaults": {
           "arrowcolor": "#2a3f5f",
           "arrowhead": 0,
           "arrowwidth": 1
          },
          "autotypenumbers": "strict",
          "coloraxis": {
           "colorbar": {
            "outlinewidth": 0,
            "ticks": ""
           }
          },
          "colorscale": {
           "diverging": [
            [
             0,
             "#8e0152"
            ],
            [
             0.1,
             "#c51b7d"
            ],
            [
             0.2,
             "#de77ae"
            ],
            [
             0.3,
             "#f1b6da"
            ],
            [
             0.4,
             "#fde0ef"
            ],
            [
             0.5,
             "#f7f7f7"
            ],
            [
             0.6,
             "#e6f5d0"
            ],
            [
             0.7,
             "#b8e186"
            ],
            [
             0.8,
             "#7fbc41"
            ],
            [
             0.9,
             "#4d9221"
            ],
            [
             1,
             "#276419"
            ]
           ],
           "sequential": [
            [
             0,
             "#0d0887"
            ],
            [
             0.1111111111111111,
             "#46039f"
            ],
            [
             0.2222222222222222,
             "#7201a8"
            ],
            [
             0.3333333333333333,
             "#9c179e"
            ],
            [
             0.4444444444444444,
             "#bd3786"
            ],
            [
             0.5555555555555556,
             "#d8576b"
            ],
            [
             0.6666666666666666,
             "#ed7953"
            ],
            [
             0.7777777777777778,
             "#fb9f3a"
            ],
            [
             0.8888888888888888,
             "#fdca26"
            ],
            [
             1,
             "#f0f921"
            ]
           ],
           "sequentialminus": [
            [
             0,
             "#0d0887"
            ],
            [
             0.1111111111111111,
             "#46039f"
            ],
            [
             0.2222222222222222,
             "#7201a8"
            ],
            [
             0.3333333333333333,
             "#9c179e"
            ],
            [
             0.4444444444444444,
             "#bd3786"
            ],
            [
             0.5555555555555556,
             "#d8576b"
            ],
            [
             0.6666666666666666,
             "#ed7953"
            ],
            [
             0.7777777777777778,
             "#fb9f3a"
            ],
            [
             0.8888888888888888,
             "#fdca26"
            ],
            [
             1,
             "#f0f921"
            ]
           ]
          },
          "colorway": [
           "#636efa",
           "#EF553B",
           "#00cc96",
           "#ab63fa",
           "#FFA15A",
           "#19d3f3",
           "#FF6692",
           "#B6E880",
           "#FF97FF",
           "#FECB52"
          ],
          "font": {
           "color": "#2a3f5f"
          },
          "geo": {
           "bgcolor": "white",
           "lakecolor": "white",
           "landcolor": "#E5ECF6",
           "showlakes": true,
           "showland": true,
           "subunitcolor": "white"
          },
          "hoverlabel": {
           "align": "left"
          },
          "hovermode": "closest",
          "mapbox": {
           "style": "light"
          },
          "paper_bgcolor": "white",
          "plot_bgcolor": "#E5ECF6",
          "polar": {
           "angularaxis": {
            "gridcolor": "white",
            "linecolor": "white",
            "ticks": ""
           },
           "bgcolor": "#E5ECF6",
           "radialaxis": {
            "gridcolor": "white",
            "linecolor": "white",
            "ticks": ""
           }
          },
          "scene": {
           "xaxis": {
            "backgroundcolor": "#E5ECF6",
            "gridcolor": "white",
            "gridwidth": 2,
            "linecolor": "white",
            "showbackground": true,
            "ticks": "",
            "zerolinecolor": "white"
           },
           "yaxis": {
            "backgroundcolor": "#E5ECF6",
            "gridcolor": "white",
            "gridwidth": 2,
            "linecolor": "white",
            "showbackground": true,
            "ticks": "",
            "zerolinecolor": "white"
           },
           "zaxis": {
            "backgroundcolor": "#E5ECF6",
            "gridcolor": "white",
            "gridwidth": 2,
            "linecolor": "white",
            "showbackground": true,
            "ticks": "",
            "zerolinecolor": "white"
           }
          },
          "shapedefaults": {
           "line": {
            "color": "#2a3f5f"
           }
          },
          "ternary": {
           "aaxis": {
            "gridcolor": "white",
            "linecolor": "white",
            "ticks": ""
           },
           "baxis": {
            "gridcolor": "white",
            "linecolor": "white",
            "ticks": ""
           },
           "bgcolor": "#E5ECF6",
           "caxis": {
            "gridcolor": "white",
            "linecolor": "white",
            "ticks": ""
           }
          },
          "title": {
           "x": 0.05
          },
          "xaxis": {
           "automargin": true,
           "gridcolor": "white",
           "linecolor": "white",
           "ticks": "",
           "title": {
            "standoff": 15
           },
           "zerolinecolor": "white",
           "zerolinewidth": 2
          },
          "yaxis": {
           "automargin": true,
           "gridcolor": "white",
           "linecolor": "white",
           "ticks": "",
           "title": {
            "standoff": 15
           },
           "zerolinecolor": "white",
           "zerolinewidth": 2
          }
         }
        }
       }
      }
     },
     "metadata": {},
     "output_type": "display_data"
    }
   ],
   "source": [
    "fig = go.Figure(data=plot_data)\n",
    "fig.update_layout(shapes=trace_plotting.get_protocol_shapes(packets_df, y_axis='y'))\n",
    "fig.show()\n",
    "out_html = ''.join(wireshark_traces.split('.')[0:-1]) + '_pcap_plot.html'\n",
    "fig.write_html(out_html)"
   ]
  }
 ],
 "metadata": {
  "kernelspec": {
   "display_name": "Python 3 (ipykernel)",
   "language": "python",
   "name": "python3"
  },
  "language_info": {
   "codemirror_mode": {
    "name": "ipython",
    "version": 3
   },
   "file_extension": ".py",
   "mimetype": "text/x-python",
   "name": "python",
   "nbconvert_exporter": "python",
   "pygments_lexer": "ipython3",
   "version": "3.10.12"
  }
 },
 "nbformat": 4,
 "nbformat_minor": 4
}
